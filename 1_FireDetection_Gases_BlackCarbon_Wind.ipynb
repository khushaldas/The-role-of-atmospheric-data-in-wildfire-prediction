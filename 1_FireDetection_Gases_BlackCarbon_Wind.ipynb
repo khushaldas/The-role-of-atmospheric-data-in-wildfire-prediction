{
  "nbformat": 4,
  "nbformat_minor": 0,
  "metadata": {
    "colab": {
      "provenance": [],
      "collapsed_sections": [
        "X2H67uxwodn1",
        "VydLvF4Pe2tB",
        "LXnU904QRBg6",
        "V2YmCiwISB2o",
        "HS29_SXzRL7v",
        "QQk8bm8BYn-P"
      ],
      "gpuType": "V28"
    },
    "kernelspec": {
      "name": "python3",
      "display_name": "Python 3"
    },
    "language_info": {
      "name": "python"
    },
    "accelerator": "TPU"
  },
  "cells": [
    {
      "cell_type": "code",
      "execution_count": null,
      "metadata": {
        "colab": {
          "base_uri": "https://localhost:8080/"
        },
        "id": "12OYgYgV0HTM",
        "outputId": "8b73159f-59d5-405c-ca54-ecd5f8cfa271"
      },
      "outputs": [
        {
          "output_type": "stream",
          "name": "stdout",
          "text": [
            "Mounted at /content/drive\n"
          ]
        }
      ],
      "source": [
        "from google.colab import drive\n",
        "drive.mount('/content/drive')"
      ]
    },
    {
      "cell_type": "code",
      "source": [
        "import pandas as pd\n",
        "data_path = '/content/drive/MyDrive/Forest_Fire_Data/updated/Gases_BC_Meteo_Merged_Final.csv'\n",
        "\n",
        "# Read the csv using pandas\n",
        "Gases_BC_Meteo_Merged_Final = pd.read_csv(data_path)"
      ],
      "metadata": {
        "id": "FrYRDk8A8DGZ"
      },
      "execution_count": null,
      "outputs": []
    },
    {
      "cell_type": "markdown",
      "source": [
        "## Data Pre Processing"
      ],
      "metadata": {
        "id": "xZuaLQos8u09"
      }
    },
    {
      "cell_type": "code",
      "source": [
        "Gases_BC_Meteo_Merged_Final.head()"
      ],
      "metadata": {
        "colab": {
          "base_uri": "https://localhost:8080/",
          "height": 278
        },
        "id": "7YrtBhxM8wsQ",
        "outputId": "380f7359-5363-42fa-b088-aa41788d43f5"
      },
      "execution_count": null,
      "outputs": [
        {
          "output_type": "execute_result",
          "data": {
            "text/plain": [
              "   start_time  WS_ave(m/s)  WD_ave(deg)  T_air(C)  RH(-)  P_air(hPa)  \\\n",
              "0    0.000000          0.8        108.0      10.8   65.2      1014.0   \n",
              "1    0.000694          1.7        123.0      10.8   65.4      1014.0   \n",
              "2    0.001389          1.0        173.0      10.7   65.4      1014.1   \n",
              "3    0.002083          1.1        267.0      10.7   65.5      1014.1   \n",
              "4    0.002778          1.1        267.0      10.6   65.7      1014.1   \n",
              "\n",
              "   fireOccFlag  BC-mass-filter  BC-mass  BC-mass-from-trasm    CO_Calib  \\\n",
              "0            0         0.91969  0.12561             0.24372  138.632014   \n",
              "1            0         0.92318  0.20912             0.31443  136.750922   \n",
              "2            0         0.92548  0.13826             0.16940  134.349790   \n",
              "3            0         0.92741  0.11548             0.24859  136.189279   \n",
              "4            0         0.92976  0.14144             0.21111  135.983034   \n",
              "\n",
              "   CO_sync_std   CO2_Calib  CO2_dry_sync_std    CH4_Calib  CH4_dry_sync_std  \\\n",
              "0     0.003847  426.737303          0.199903  2001.065258          0.001887   \n",
              "1     0.004481  427.041097          0.546126  2001.475209          0.001885   \n",
              "2     0.004593  426.280409          0.570615  2000.796653          0.004286   \n",
              "3     0.005584  426.404599          0.457248  2000.613047          0.002020   \n",
              "4     0.005379  427.523589          0.714412  2002.635428          0.002697   \n",
              "\n",
              "   decimal_time  \n",
              "0      0.000000  \n",
              "1      0.000694  \n",
              "2      0.001389  \n",
              "3      0.002083  \n",
              "4      0.002778  "
            ],
            "text/html": [
              "\n",
              "  <div id=\"df-15ec3f82-676f-4c5d-bf7c-d05ab1461830\" class=\"colab-df-container\">\n",
              "    <div>\n",
              "<style scoped>\n",
              "    .dataframe tbody tr th:only-of-type {\n",
              "        vertical-align: middle;\n",
              "    }\n",
              "\n",
              "    .dataframe tbody tr th {\n",
              "        vertical-align: top;\n",
              "    }\n",
              "\n",
              "    .dataframe thead th {\n",
              "        text-align: right;\n",
              "    }\n",
              "</style>\n",
              "<table border=\"1\" class=\"dataframe\">\n",
              "  <thead>\n",
              "    <tr style=\"text-align: right;\">\n",
              "      <th></th>\n",
              "      <th>start_time</th>\n",
              "      <th>WS_ave(m/s)</th>\n",
              "      <th>WD_ave(deg)</th>\n",
              "      <th>T_air(C)</th>\n",
              "      <th>RH(-)</th>\n",
              "      <th>P_air(hPa)</th>\n",
              "      <th>fireOccFlag</th>\n",
              "      <th>BC-mass-filter</th>\n",
              "      <th>BC-mass</th>\n",
              "      <th>BC-mass-from-trasm</th>\n",
              "      <th>CO_Calib</th>\n",
              "      <th>CO_sync_std</th>\n",
              "      <th>CO2_Calib</th>\n",
              "      <th>CO2_dry_sync_std</th>\n",
              "      <th>CH4_Calib</th>\n",
              "      <th>CH4_dry_sync_std</th>\n",
              "      <th>decimal_time</th>\n",
              "    </tr>\n",
              "  </thead>\n",
              "  <tbody>\n",
              "    <tr>\n",
              "      <th>0</th>\n",
              "      <td>0.000000</td>\n",
              "      <td>0.8</td>\n",
              "      <td>108.0</td>\n",
              "      <td>10.8</td>\n",
              "      <td>65.2</td>\n",
              "      <td>1014.0</td>\n",
              "      <td>0</td>\n",
              "      <td>0.91969</td>\n",
              "      <td>0.12561</td>\n",
              "      <td>0.24372</td>\n",
              "      <td>138.632014</td>\n",
              "      <td>0.003847</td>\n",
              "      <td>426.737303</td>\n",
              "      <td>0.199903</td>\n",
              "      <td>2001.065258</td>\n",
              "      <td>0.001887</td>\n",
              "      <td>0.000000</td>\n",
              "    </tr>\n",
              "    <tr>\n",
              "      <th>1</th>\n",
              "      <td>0.000694</td>\n",
              "      <td>1.7</td>\n",
              "      <td>123.0</td>\n",
              "      <td>10.8</td>\n",
              "      <td>65.4</td>\n",
              "      <td>1014.0</td>\n",
              "      <td>0</td>\n",
              "      <td>0.92318</td>\n",
              "      <td>0.20912</td>\n",
              "      <td>0.31443</td>\n",
              "      <td>136.750922</td>\n",
              "      <td>0.004481</td>\n",
              "      <td>427.041097</td>\n",
              "      <td>0.546126</td>\n",
              "      <td>2001.475209</td>\n",
              "      <td>0.001885</td>\n",
              "      <td>0.000694</td>\n",
              "    </tr>\n",
              "    <tr>\n",
              "      <th>2</th>\n",
              "      <td>0.001389</td>\n",
              "      <td>1.0</td>\n",
              "      <td>173.0</td>\n",
              "      <td>10.7</td>\n",
              "      <td>65.4</td>\n",
              "      <td>1014.1</td>\n",
              "      <td>0</td>\n",
              "      <td>0.92548</td>\n",
              "      <td>0.13826</td>\n",
              "      <td>0.16940</td>\n",
              "      <td>134.349790</td>\n",
              "      <td>0.004593</td>\n",
              "      <td>426.280409</td>\n",
              "      <td>0.570615</td>\n",
              "      <td>2000.796653</td>\n",
              "      <td>0.004286</td>\n",
              "      <td>0.001389</td>\n",
              "    </tr>\n",
              "    <tr>\n",
              "      <th>3</th>\n",
              "      <td>0.002083</td>\n",
              "      <td>1.1</td>\n",
              "      <td>267.0</td>\n",
              "      <td>10.7</td>\n",
              "      <td>65.5</td>\n",
              "      <td>1014.1</td>\n",
              "      <td>0</td>\n",
              "      <td>0.92741</td>\n",
              "      <td>0.11548</td>\n",
              "      <td>0.24859</td>\n",
              "      <td>136.189279</td>\n",
              "      <td>0.005584</td>\n",
              "      <td>426.404599</td>\n",
              "      <td>0.457248</td>\n",
              "      <td>2000.613047</td>\n",
              "      <td>0.002020</td>\n",
              "      <td>0.002083</td>\n",
              "    </tr>\n",
              "    <tr>\n",
              "      <th>4</th>\n",
              "      <td>0.002778</td>\n",
              "      <td>1.1</td>\n",
              "      <td>267.0</td>\n",
              "      <td>10.6</td>\n",
              "      <td>65.7</td>\n",
              "      <td>1014.1</td>\n",
              "      <td>0</td>\n",
              "      <td>0.92976</td>\n",
              "      <td>0.14144</td>\n",
              "      <td>0.21111</td>\n",
              "      <td>135.983034</td>\n",
              "      <td>0.005379</td>\n",
              "      <td>427.523589</td>\n",
              "      <td>0.714412</td>\n",
              "      <td>2002.635428</td>\n",
              "      <td>0.002697</td>\n",
              "      <td>0.002778</td>\n",
              "    </tr>\n",
              "  </tbody>\n",
              "</table>\n",
              "</div>\n",
              "    <div class=\"colab-df-buttons\">\n",
              "\n",
              "  <div class=\"colab-df-container\">\n",
              "    <button class=\"colab-df-convert\" onclick=\"convertToInteractive('df-15ec3f82-676f-4c5d-bf7c-d05ab1461830')\"\n",
              "            title=\"Convert this dataframe to an interactive table.\"\n",
              "            style=\"display:none;\">\n",
              "\n",
              "  <svg xmlns=\"http://www.w3.org/2000/svg\" height=\"24px\" viewBox=\"0 -960 960 960\">\n",
              "    <path d=\"M120-120v-720h720v720H120Zm60-500h600v-160H180v160Zm220 220h160v-160H400v160Zm0 220h160v-160H400v160ZM180-400h160v-160H180v160Zm440 0h160v-160H620v160ZM180-180h160v-160H180v160Zm440 0h160v-160H620v160Z\"/>\n",
              "  </svg>\n",
              "    </button>\n",
              "\n",
              "  <style>\n",
              "    .colab-df-container {\n",
              "      display:flex;\n",
              "      gap: 12px;\n",
              "    }\n",
              "\n",
              "    .colab-df-convert {\n",
              "      background-color: #E8F0FE;\n",
              "      border: none;\n",
              "      border-radius: 50%;\n",
              "      cursor: pointer;\n",
              "      display: none;\n",
              "      fill: #1967D2;\n",
              "      height: 32px;\n",
              "      padding: 0 0 0 0;\n",
              "      width: 32px;\n",
              "    }\n",
              "\n",
              "    .colab-df-convert:hover {\n",
              "      background-color: #E2EBFA;\n",
              "      box-shadow: 0px 1px 2px rgba(60, 64, 67, 0.3), 0px 1px 3px 1px rgba(60, 64, 67, 0.15);\n",
              "      fill: #174EA6;\n",
              "    }\n",
              "\n",
              "    .colab-df-buttons div {\n",
              "      margin-bottom: 4px;\n",
              "    }\n",
              "\n",
              "    [theme=dark] .colab-df-convert {\n",
              "      background-color: #3B4455;\n",
              "      fill: #D2E3FC;\n",
              "    }\n",
              "\n",
              "    [theme=dark] .colab-df-convert:hover {\n",
              "      background-color: #434B5C;\n",
              "      box-shadow: 0px 1px 3px 1px rgba(0, 0, 0, 0.15);\n",
              "      filter: drop-shadow(0px 1px 2px rgba(0, 0, 0, 0.3));\n",
              "      fill: #FFFFFF;\n",
              "    }\n",
              "  </style>\n",
              "\n",
              "    <script>\n",
              "      const buttonEl =\n",
              "        document.querySelector('#df-15ec3f82-676f-4c5d-bf7c-d05ab1461830 button.colab-df-convert');\n",
              "      buttonEl.style.display =\n",
              "        google.colab.kernel.accessAllowed ? 'block' : 'none';\n",
              "\n",
              "      async function convertToInteractive(key) {\n",
              "        const element = document.querySelector('#df-15ec3f82-676f-4c5d-bf7c-d05ab1461830');\n",
              "        const dataTable =\n",
              "          await google.colab.kernel.invokeFunction('convertToInteractive',\n",
              "                                                    [key], {});\n",
              "        if (!dataTable) return;\n",
              "\n",
              "        const docLinkHtml = 'Like what you see? Visit the ' +\n",
              "          '<a target=\"_blank\" href=https://colab.research.google.com/notebooks/data_table.ipynb>data table notebook</a>'\n",
              "          + ' to learn more about interactive tables.';\n",
              "        element.innerHTML = '';\n",
              "        dataTable['output_type'] = 'display_data';\n",
              "        await google.colab.output.renderOutput(dataTable, element);\n",
              "        const docLink = document.createElement('div');\n",
              "        docLink.innerHTML = docLinkHtml;\n",
              "        element.appendChild(docLink);\n",
              "      }\n",
              "    </script>\n",
              "  </div>\n",
              "\n",
              "\n",
              "<div id=\"df-30187ccd-777e-48c1-8f68-e27610abf47e\">\n",
              "  <button class=\"colab-df-quickchart\" onclick=\"quickchart('df-30187ccd-777e-48c1-8f68-e27610abf47e')\"\n",
              "            title=\"Suggest charts\"\n",
              "            style=\"display:none;\">\n",
              "\n",
              "<svg xmlns=\"http://www.w3.org/2000/svg\" height=\"24px\"viewBox=\"0 0 24 24\"\n",
              "     width=\"24px\">\n",
              "    <g>\n",
              "        <path d=\"M19 3H5c-1.1 0-2 .9-2 2v14c0 1.1.9 2 2 2h14c1.1 0 2-.9 2-2V5c0-1.1-.9-2-2-2zM9 17H7v-7h2v7zm4 0h-2V7h2v10zm4 0h-2v-4h2v4z\"/>\n",
              "    </g>\n",
              "</svg>\n",
              "  </button>\n",
              "\n",
              "<style>\n",
              "  .colab-df-quickchart {\n",
              "      --bg-color: #E8F0FE;\n",
              "      --fill-color: #1967D2;\n",
              "      --hover-bg-color: #E2EBFA;\n",
              "      --hover-fill-color: #174EA6;\n",
              "      --disabled-fill-color: #AAA;\n",
              "      --disabled-bg-color: #DDD;\n",
              "  }\n",
              "\n",
              "  [theme=dark] .colab-df-quickchart {\n",
              "      --bg-color: #3B4455;\n",
              "      --fill-color: #D2E3FC;\n",
              "      --hover-bg-color: #434B5C;\n",
              "      --hover-fill-color: #FFFFFF;\n",
              "      --disabled-bg-color: #3B4455;\n",
              "      --disabled-fill-color: #666;\n",
              "  }\n",
              "\n",
              "  .colab-df-quickchart {\n",
              "    background-color: var(--bg-color);\n",
              "    border: none;\n",
              "    border-radius: 50%;\n",
              "    cursor: pointer;\n",
              "    display: none;\n",
              "    fill: var(--fill-color);\n",
              "    height: 32px;\n",
              "    padding: 0;\n",
              "    width: 32px;\n",
              "  }\n",
              "\n",
              "  .colab-df-quickchart:hover {\n",
              "    background-color: var(--hover-bg-color);\n",
              "    box-shadow: 0 1px 2px rgba(60, 64, 67, 0.3), 0 1px 3px 1px rgba(60, 64, 67, 0.15);\n",
              "    fill: var(--button-hover-fill-color);\n",
              "  }\n",
              "\n",
              "  .colab-df-quickchart-complete:disabled,\n",
              "  .colab-df-quickchart-complete:disabled:hover {\n",
              "    background-color: var(--disabled-bg-color);\n",
              "    fill: var(--disabled-fill-color);\n",
              "    box-shadow: none;\n",
              "  }\n",
              "\n",
              "  .colab-df-spinner {\n",
              "    border: 2px solid var(--fill-color);\n",
              "    border-color: transparent;\n",
              "    border-bottom-color: var(--fill-color);\n",
              "    animation:\n",
              "      spin 1s steps(1) infinite;\n",
              "  }\n",
              "\n",
              "  @keyframes spin {\n",
              "    0% {\n",
              "      border-color: transparent;\n",
              "      border-bottom-color: var(--fill-color);\n",
              "      border-left-color: var(--fill-color);\n",
              "    }\n",
              "    20% {\n",
              "      border-color: transparent;\n",
              "      border-left-color: var(--fill-color);\n",
              "      border-top-color: var(--fill-color);\n",
              "    }\n",
              "    30% {\n",
              "      border-color: transparent;\n",
              "      border-left-color: var(--fill-color);\n",
              "      border-top-color: var(--fill-color);\n",
              "      border-right-color: var(--fill-color);\n",
              "    }\n",
              "    40% {\n",
              "      border-color: transparent;\n",
              "      border-right-color: var(--fill-color);\n",
              "      border-top-color: var(--fill-color);\n",
              "    }\n",
              "    60% {\n",
              "      border-color: transparent;\n",
              "      border-right-color: var(--fill-color);\n",
              "    }\n",
              "    80% {\n",
              "      border-color: transparent;\n",
              "      border-right-color: var(--fill-color);\n",
              "      border-bottom-color: var(--fill-color);\n",
              "    }\n",
              "    90% {\n",
              "      border-color: transparent;\n",
              "      border-bottom-color: var(--fill-color);\n",
              "    }\n",
              "  }\n",
              "</style>\n",
              "\n",
              "  <script>\n",
              "    async function quickchart(key) {\n",
              "      const quickchartButtonEl =\n",
              "        document.querySelector('#' + key + ' button');\n",
              "      quickchartButtonEl.disabled = true;  // To prevent multiple clicks.\n",
              "      quickchartButtonEl.classList.add('colab-df-spinner');\n",
              "      try {\n",
              "        const charts = await google.colab.kernel.invokeFunction(\n",
              "            'suggestCharts', [key], {});\n",
              "      } catch (error) {\n",
              "        console.error('Error during call to suggestCharts:', error);\n",
              "      }\n",
              "      quickchartButtonEl.classList.remove('colab-df-spinner');\n",
              "      quickchartButtonEl.classList.add('colab-df-quickchart-complete');\n",
              "    }\n",
              "    (() => {\n",
              "      let quickchartButtonEl =\n",
              "        document.querySelector('#df-30187ccd-777e-48c1-8f68-e27610abf47e button');\n",
              "      quickchartButtonEl.style.display =\n",
              "        google.colab.kernel.accessAllowed ? 'block' : 'none';\n",
              "    })();\n",
              "  </script>\n",
              "</div>\n",
              "\n",
              "    </div>\n",
              "  </div>\n"
            ],
            "application/vnd.google.colaboratory.intrinsic+json": {
              "type": "dataframe",
              "variable_name": "Gases_BC_Meteo_Merged_Final"
            }
          },
          "metadata": {},
          "execution_count": 4
        }
      ]
    },
    {
      "cell_type": "code",
      "source": [],
      "metadata": {
        "id": "iqGDXFRDEktP"
      },
      "execution_count": null,
      "outputs": []
    },
    {
      "cell_type": "code",
      "source": [
        "Gases_BC_Meteo_Merged_Final = Gases_BC_Meteo_Merged_Final.drop(columns=['decimal_time'])"
      ],
      "metadata": {
        "id": "_DjWJVNW9MSH"
      },
      "execution_count": null,
      "outputs": []
    },
    {
      "cell_type": "code",
      "source": [
        "Gases_BC_Meteo_Merged_Final.columns"
      ],
      "metadata": {
        "colab": {
          "base_uri": "https://localhost:8080/"
        },
        "id": "5338ap2UEl10",
        "outputId": "81082f41-c0d4-436d-e643-5e1335d5583f"
      },
      "execution_count": null,
      "outputs": [
        {
          "output_type": "execute_result",
          "data": {
            "text/plain": [
              "Index(['start_time', 'WS_ave(m/s)', 'WD_ave(deg)', 'T_air(C)', 'RH(-)',\n",
              "       'P_air(hPa)', 'fireOccFlag', 'BC-mass-filter', 'BC-mass',\n",
              "       'BC-mass-from-trasm', 'CO_Calib', 'CO_sync_std', 'CO2_Calib',\n",
              "       'CO2_dry_sync_std', 'CH4_Calib', 'CH4_dry_sync_std'],\n",
              "      dtype='object')"
            ]
          },
          "metadata": {},
          "execution_count": 6
        }
      ]
    },
    {
      "cell_type": "code",
      "source": [
        "import pandas as pd\n",
        "from sklearn.model_selection import train_test_split\n",
        "from sklearn.tree import DecisionTreeClassifier\n",
        "from sklearn.metrics import accuracy_score, classification_report"
      ],
      "metadata": {
        "id": "_8ojsUI49d3c"
      },
      "execution_count": null,
      "outputs": []
    },
    {
      "cell_type": "code",
      "source": [
        "# Count NaN values in each column\n",
        "nan_counts = Gases_BC_Meteo_Merged_Final.isna().sum()\n",
        "\n",
        "# Display the count of NaN values for each column\n",
        "print(\"NaN Counts:\\n\", nan_counts)\n",
        "\n",
        "# Remove rows with NaN values\n",
        "Gases_BC_Meteo_Merged_Final = Gases_BC_Meteo_Merged_Final.dropna()"
      ],
      "metadata": {
        "colab": {
          "base_uri": "https://localhost:8080/"
        },
        "id": "gvJTjl7E9hWx",
        "outputId": "8b703803-b4d6-440e-b483-420fbd8e6c39"
      },
      "execution_count": null,
      "outputs": [
        {
          "output_type": "stream",
          "name": "stdout",
          "text": [
            "NaN Counts:\n",
            " start_time               0\n",
            "WS_ave(m/s)           2501\n",
            "WD_ave(deg)           2501\n",
            "T_air(C)              2515\n",
            "RH(-)                 2529\n",
            "P_air(hPa)            2509\n",
            "fireOccFlag              0\n",
            "BC-mass-filter           0\n",
            "BC-mass                  0\n",
            "BC-mass-from-trasm       0\n",
            "CO_Calib                 0\n",
            "CO_sync_std              0\n",
            "CO2_Calib                0\n",
            "CO2_dry_sync_std         0\n",
            "CH4_Calib                0\n",
            "CH4_dry_sync_std         0\n",
            "dtype: int64\n"
          ]
        }
      ]
    },
    {
      "cell_type": "code",
      "source": [
        "# Count occurrences of 0 and 1 in the 'label' column\n",
        "label_counts = Gases_BC_Meteo_Merged_Final['fireOccFlag'].value_counts()\n",
        "\n",
        "# Display the counts\n",
        "print(\"Count of 0:\", label_counts[0])\n",
        "print(\"Count of 1:\", label_counts[1])"
      ],
      "metadata": {
        "colab": {
          "base_uri": "https://localhost:8080/"
        },
        "id": "iyfhg2YS9wGH",
        "outputId": "6f020994-de86-4af1-8918-6a6b455b68c2"
      },
      "execution_count": null,
      "outputs": [
        {
          "output_type": "stream",
          "name": "stdout",
          "text": [
            "Count of 0: 300465\n",
            "Count of 1: 205112\n"
          ]
        }
      ]
    },
    {
      "cell_type": "code",
      "source": [
        "specific_column = 'fireOccFlag'\n",
        "\n",
        "# Get a list of column names excluding the specific column\n",
        "columns_to_keep = [col for col in Gases_BC_Meteo_Merged_Final.columns if col != specific_column]\n",
        "\n",
        "# Reorder the columns by first keeping all columns except the specific one and then adding it at the end\n",
        "new_columns_order = columns_to_keep + [specific_column]\n",
        "\n",
        "# Create a new DataFrame with columns reordered\n",
        "Gases_BC_Meteo_Merged_Final = Gases_BC_Meteo_Merged_Final[new_columns_order]"
      ],
      "metadata": {
        "id": "tDy2DCcUHRkl"
      },
      "execution_count": null,
      "outputs": []
    },
    {
      "cell_type": "code",
      "source": [
        "# Calculate correlation matrix\n",
        "corr_matrix = Gases_BC_Meteo_Merged_Final.corr(method='spearman')  # Use Spearman's rank correlation for non-normal data"
      ],
      "metadata": {
        "id": "G2RuxCqCFi7G"
      },
      "execution_count": null,
      "outputs": []
    },
    {
      "cell_type": "code",
      "source": [
        "import matplotlib.pyplot as plt\n",
        "\n",
        "# Use a library like seaborn for nicer plots\n",
        "import seaborn as sns\n",
        "\n",
        "# Create the correlation plot (change colormap as desired)\n",
        "plt.figure(figsize=(12, 8))\n",
        "sns.heatmap(corr_matrix, annot=True, cmap=\"coolwarm\")\n",
        "plt.show()"
      ],
      "metadata": {
        "colab": {
          "base_uri": "https://localhost:8080/",
          "height": 811
        },
        "id": "b-SDMD5bF7LH",
        "outputId": "a93ee160-7690-4004-9a11-4094cca57449"
      },
      "execution_count": null,
      "outputs": [
        {
          "output_type": "display_data",
          "data": {
            "text/plain": [
              "<Figure size 1200x800 with 2 Axes>"
            ],
            "image/png": "[encoded data removed]"
          },
          "metadata": {}
        }
      ]
    },
    {
      "cell_type": "code",
      "source": [],
      "metadata": {
        "id": "gbnHh91kHmfZ"
      },
      "execution_count": null,
      "outputs": []
    },
    {
      "cell_type": "code",
      "source": [
        "\n",
        "features = Gases_BC_Meteo_Merged_Final.drop('fireOccFlag', axis=1).values\n",
        "\n",
        "labels = Gases_BC_Meteo_Merged_Final['fireOccFlag'].values\n",
        "\n",
        "# Split the data into training and testing sets\n",
        "X_train, X_test, y_train, y_test = train_test_split(features, labels, test_size=0.20, random_state=47)\n",
        "\n"
      ],
      "metadata": {
        "id": "NkJx-iQS91bz"
      },
      "execution_count": null,
      "outputs": []
    },
    {
      "cell_type": "code",
      "source": [
        "# Extract time series sequence (assuming it's in the first column)\n",
        "X_train_sequence = X_train[:, 0].reshape(-1, 1)\n",
        "X_val_sequence = X_test[:, 0].reshape(-1, 1)\n",
        "\n",
        "# Extract non-temporal features (assuming they start from the second column)\n",
        "X_train_features = X_train[:, 1:]\n",
        "X_val_features = X_test[:, 1:]\n",
        "y_val = y_test\n",
        "\n",
        "# Define validation data (assuming you have X_val_sequence, X_val_features, and y_val)\n",
        "validation_data = ({'input_sequence': X_val_sequence, 'input_features': X_val_features}, y_val)"
      ],
      "metadata": {
        "id": "AqBVaChP-qAM"
      },
      "execution_count": null,
      "outputs": []
    },
    {
      "cell_type": "code",
      "source": [
        "# Define the directory in Google Drive to save the model\n",
        "model_directory = '/content/drive/MyDrive/Forest_Fire_Data/saved_models'"
      ],
      "metadata": {
        "id": "pziMCBhCFgX_"
      },
      "execution_count": null,
      "outputs": []
    },
    {
      "cell_type": "markdown",
      "source": [
        "# **LSTM - Fire Detection**"
      ],
      "metadata": {
        "id": "pQIC6oEY_AUx"
      }
    },
    {
      "cell_type": "code",
      "source": [
        "from tensorflow.keras.models import Model\n",
        "from tensorflow.keras.layers import Input, LSTM, Dense, Concatenate\n",
        "\n",
        "\n",
        "# Input layer for time series sequence\n",
        "input_sequence = Input(shape=(X_train_sequence.shape[1], 1), name='input_sequence')\n",
        "lstm_layer = LSTM(50)(input_sequence)  # Adjust the number of LSTM units as needed\n",
        "\n",
        "# Input layer for non-temporal features\n",
        "input_features = Input(shape=(X_train_features.shape[1],), name='input_features')\n",
        "\n",
        "# Concatenate LSTM output and non-temporal features\n",
        "concatenated = Concatenate()([lstm_layer, input_features])\n",
        "\n",
        "# Dense layers for classification\n",
        "dense_layer_1 = Dense(64, activation='relu')(concatenated)\n",
        "output_layer = Dense(1, activation='sigmoid')(dense_layer_1)  # For binary classification\n",
        "\n",
        "# Create the model\n",
        "model_lstm = Model(inputs=[input_sequence, input_features], outputs=output_layer)\n",
        "\n",
        "# Compile the model\n",
        "model_lstm.compile(optimizer='adam', loss='binary_crossentropy', metrics=['accuracy'])\n",
        "\n",
        "# Define number of epochs\n",
        "epochs = 15  # You can adjust this based on your specific requirements\n",
        "batch_size = 42  # You can adjust this based on your specific requirements\n",
        "\n",
        "# Define validation data (assuming you have X_val_sequence, X_val_features, and y_val)\n",
        "validation_data = ({'input_sequence': X_val_sequence, 'input_features': X_val_features}, y_val)\n",
        "\n",
        "# Train the model using X_train_sequence and X_train_features\n",
        "historty = model_lstm.fit({'input_sequence': X_train_sequence, 'input_features': X_train_features}, y_train, epochs=epochs, batch_size=batch_size, validation_data=validation_data)\n"
      ],
      "metadata": {
        "colab": {
          "base_uri": "https://localhost:8080/"
        },
        "id": "hzFx-cMW_Dnh",
        "outputId": "4bb13866-8420-4629-8bea-6d18cc181d46"
      },
      "execution_count": null,
      "outputs": [
        {
          "output_type": "stream",
          "name": "stdout",
          "text": [
            "Epoch 1/15\n",
            "9631/9631 [==============================] - 55s 5ms/step - loss: 0.5430 - accuracy: 0.8294 - val_loss: 0.7290 - val_accuracy: 0.7523\n",
            "Epoch 2/15\n",
            "9631/9631 [==============================] - 59s 6ms/step - loss: 0.3905 - accuracy: 0.8583 - val_loss: 0.2720 - val_accuracy: 0.9045\n",
            "Epoch 3/15\n",
            "9631/9631 [==============================] - 51s 5ms/step - loss: 0.3473 - accuracy: 0.8727 - val_loss: 0.5403 - val_accuracy: 0.7995\n",
            "Epoch 4/15\n",
            "9631/9631 [==============================] - 49s 5ms/step - loss: 0.3209 - accuracy: 0.8818 - val_loss: 0.2575 - val_accuracy: 0.8960\n",
            "Epoch 5/15\n",
            "9631/9631 [==============================] - 50s 5ms/step - loss: 0.2884 - accuracy: 0.8927 - val_loss: 0.2323 - val_accuracy: 0.9124\n",
            "Epoch 6/15\n",
            "9631/9631 [==============================] - 49s 5ms/step - loss: 0.2537 - accuracy: 0.9049 - val_loss: 0.2320 - val_accuracy: 0.9153\n",
            "Epoch 7/15\n",
            "9631/9631 [==============================] - 56s 6ms/step - loss: 0.2296 - accuracy: 0.9127 - val_loss: 0.1883 - val_accuracy: 0.9281\n",
            "Epoch 8/15\n",
            "9631/9631 [==============================] - 55s 6ms/step - loss: 0.2107 - accuracy: 0.9193 - val_loss: 0.1941 - val_accuracy: 0.9296\n",
            "Epoch 9/15\n",
            "9631/9631 [==============================] - 55s 6ms/step - loss: 0.2389 - accuracy: 0.9072 - val_loss: 0.2665 - val_accuracy: 0.8987\n",
            "Epoch 10/15\n",
            "9631/9631 [==============================] - 49s 5ms/step - loss: 0.2496 - accuracy: 0.9046 - val_loss: 0.2322 - val_accuracy: 0.9185\n",
            "Epoch 11/15\n",
            "9631/9631 [==============================] - 49s 5ms/step - loss: 0.2332 - accuracy: 0.9107 - val_loss: 0.2289 - val_accuracy: 0.9210\n",
            "Epoch 12/15\n",
            "9631/9631 [==============================] - 49s 5ms/step - loss: 0.2159 - accuracy: 0.9158 - val_loss: 0.1911 - val_accuracy: 0.9226\n",
            "Epoch 13/15\n",
            "9631/9631 [==============================] - 50s 5ms/step - loss: 0.2042 - accuracy: 0.9195 - val_loss: 0.2279 - val_accuracy: 0.9156\n",
            "Epoch 14/15\n",
            "9631/9631 [==============================] - 54s 6ms/step - loss: 0.1939 - accuracy: 0.9233 - val_loss: 0.2379 - val_accuracy: 0.9175\n",
            "Epoch 15/15\n",
            "9631/9631 [==============================] - 50s 5ms/step - loss: 0.1872 - accuracy: 0.9259 - val_loss: 0.1697 - val_accuracy: 0.9362\n"
          ]
        }
      ]
    },
    {
      "cell_type": "code",
      "source": [
        "# Save the model\n",
        "model_name = 'LSTM_FireDetection.h5'\n",
        "\n",
        "# Save the model to Google Drive with the custom name\n",
        "model_lstm.save(model_directory + model_name)\n"
      ],
      "metadata": {
        "colab": {
          "base_uri": "https://localhost:8080/"
        },
        "id": "oYThXMXLRcpA",
        "outputId": "75a59e34-941d-4cc0-e9eb-01c998f5149b"
      },
      "execution_count": null,
      "outputs": [
        {
          "output_type": "stream",
          "name": "stderr",
          "text": [
            "/usr/local/lib/python3.10/dist-packages/keras/src/engine/training.py:3103: UserWarning: You are saving your model as an HDF5 file via `model.save()`. This file format is considered legacy. We recommend using instead the native Keras format, e.g. `model.save('my_model.keras')`.\n",
            "  saving_api.save_model(\n"
          ]
        }
      ]
    },
    {
      "cell_type": "code",
      "source": [],
      "metadata": {
        "id": "osIfddFrLz0_"
      },
      "execution_count": null,
      "outputs": []
    },
    {
      "cell_type": "code",
      "source": [
        "model_lstm.summary()"
      ],
      "metadata": {
        "colab": {
          "base_uri": "https://localhost:8080/"
        },
        "id": "tQ74sAUtAP2Y",
        "outputId": "07c5719d-8955-452f-e7fa-154456a2dd39"
      },
      "execution_count": null,
      "outputs": [
        {
          "output_type": "stream",
          "name": "stdout",
          "text": [
            "Model: \"model\"\n",
            "__________________________________________________________________________________________________\n",
            " Layer (type)                Output Shape                 Param #   Connected to                  \n",
            "==================================================================================================\n",
            " input_sequence (InputLayer  [(None, 1, 1)]               0         []                            \n",
            " )                                                                                                \n",
            "                                                                                                  \n",
            " lstm (LSTM)                 (None, 50)                   10400     ['input_sequence[0][0]']      \n",
            "                                                                                                  \n",
            " input_features (InputLayer  [(None, 14)]                 0         []                            \n",
            " )                                                                                                \n",
            "                                                                                                  \n",
            " concatenate (Concatenate)   (None, 64)                   0         ['lstm[0][0]',                \n",
            "                                                                     'input_features[0][0]']      \n",
            "                                                                                                  \n",
            " dense (Dense)               (None, 64)                   4160      ['concatenate[0][0]']         \n",
            "                                                                                                  \n",
            " dense_1 (Dense)             (None, 1)                    65        ['dense[0][0]']               \n",
            "                                                                                                  \n",
            "==================================================================================================\n",
            "Total params: 14625 (57.13 KB)\n",
            "Trainable params: 14625 (57.13 KB)\n",
            "Non-trainable params: 0 (0.00 Byte)\n",
            "__________________________________________________________________________________________________\n"
          ]
        }
      ]
    },
    {
      "cell_type": "code",
      "source": [
        "# Print the final training accuracy\n",
        "print(\"Final Training Accuracy:\", historty.history['accuracy'][-1])\n",
        "\n",
        "# Print the final validation accuracy\n",
        "print(\"Final Validation Accuracy:\", historty.history['val_accuracy'][-1])"
      ],
      "metadata": {
        "colab": {
          "base_uri": "https://localhost:8080/"
        },
        "id": "nDhA1LuGAdqw",
        "outputId": "a6bbc645-7e1d-44f4-eb60-d7d449b1dde7"
      },
      "execution_count": null,
      "outputs": [
        {
          "output_type": "stream",
          "name": "stdout",
          "text": [
            "Final Training Accuracy: 0.9258915185928345\n",
            "Final Validation Accuracy: 0.9361624121665955\n"
          ]
        }
      ]
    },
    {
      "cell_type": "markdown",
      "source": [
        "# **GRU**"
      ],
      "metadata": {
        "id": "YRTYB8XzLZqF"
      }
    },
    {
      "cell_type": "code",
      "source": [
        "from tensorflow.keras.models import Model\n",
        "from tensorflow.keras.layers import Input, GRU, Dense, Concatenate\n",
        "\n",
        "# Input layer for time series sequence using GRU\n",
        "input_sequence = Input(shape=(X_train_sequence.shape[1], 1), name='input_sequence')\n",
        "gru_layer = GRU(50)(input_sequence)  # Adjust the number of GRU units as needed\n",
        "\n",
        "# Input layer for non-temporal features\n",
        "input_features = Input(shape=(X_train_features.shape[1],), name='input_features')\n",
        "\n",
        "# Concatenate GRU output and non-temporal features\n",
        "concatenated = Concatenate()([gru_layer, input_features])\n",
        "\n",
        "# Dense layers for classification\n",
        "dense_layer_1 = Dense(64, activation='relu')(concatenated)\n",
        "output_layer = Dense(1, activation='sigmoid')(dense_layer_1)  # For binary classification\n",
        "\n",
        "# Create the model\n",
        "model_Gru = Model(inputs=[input_sequence, input_features], outputs=output_layer)\n",
        "\n",
        "# Print the summary of the GRU model\n",
        "model_Gru.summary()\n",
        "\n",
        "# Compile the model\n",
        "model_Gru.compile(optimizer='adam', loss='binary_crossentropy', metrics=['accuracy'])\n",
        "\n",
        "# Define number of epochs and batch size\n",
        "epochs = 15  # You can adjust this based on your specific requirements\n",
        "batch_size = 42  # You can adjust this based on your specific requirements\n",
        "\n",
        "\n",
        "# Train the model using X_train_sequence and X_train_features\n",
        "history_Gru = model_Gru.fit({'input_sequence': X_train_sequence, 'input_features': X_train_features}, y_train, epochs=epochs, batch_size=batch_size, validation_data=validation_data)"
      ],
      "metadata": {
        "colab": {
          "base_uri": "https://localhost:8080/"
        },
        "id": "kopVDlrkMBu8",
        "outputId": "5a18ffd3-ea96-4f40-ffc0-4a5928ec92ad"
      },
      "execution_count": null,
      "outputs": [
        {
          "output_type": "stream",
          "name": "stdout",
          "text": [
            "Model: \"model_1\"\n",
            "__________________________________________________________________________________________________\n",
            " Layer (type)                Output Shape                 Param #   Connected to                  \n",
            "==================================================================================================\n",
            " input_sequence (InputLayer  [(None, 1, 1)]               0         []                            \n",
            " )                                                                                                \n",
            "                                                                                                  \n",
            " gru (GRU)                   (None, 50)                   7950      ['input_sequence[0][0]']      \n",
            "                                                                                                  \n",
            " input_features (InputLayer  [(None, 14)]                 0         []                            \n",
            " )                                                                                                \n",
            "                                                                                                  \n",
            " concatenate_1 (Concatenate  (None, 64)                   0         ['gru[0][0]',                 \n",
            " )                                                                   'input_features[0][0]']      \n",
            "                                                                                                  \n",
            " dense_2 (Dense)             (None, 64)                   4160      ['concatenate_1[0][0]']       \n",
            "                                                                                                  \n",
            " dense_3 (Dense)             (None, 1)                    65        ['dense_2[0][0]']             \n",
            "                                                                                                  \n",
            "==================================================================================================\n",
            "Total params: 12175 (47.56 KB)\n",
            "Trainable params: 12175 (47.56 KB)\n",
            "Non-trainable params: 0 (0.00 Byte)\n",
            "__________________________________________________________________________________________________\n",
            "Epoch 1/15\n",
            "9631/9631 [==============================] - 54s 5ms/step - loss: 0.7858 - accuracy: 0.8255 - val_loss: 0.4002 - val_accuracy: 0.8484\n",
            "Epoch 2/15\n",
            "9631/9631 [==============================] - 51s 5ms/step - loss: 0.4431 - accuracy: 0.8571 - val_loss: 0.2709 - val_accuracy: 0.9071\n",
            "Epoch 3/15\n",
            "9631/9631 [==============================] - 50s 5ms/step - loss: 0.3894 - accuracy: 0.8724 - val_loss: 0.5077 - val_accuracy: 0.8253\n",
            "Epoch 4/15\n",
            "9631/9631 [==============================] - 50s 5ms/step - loss: 0.3328 - accuracy: 0.8898 - val_loss: 1.2342 - val_accuracy: 0.6833\n",
            "Epoch 5/15\n",
            "9631/9631 [==============================] - 51s 5ms/step - loss: 0.2923 - accuracy: 0.9012 - val_loss: 0.4418 - val_accuracy: 0.7853\n",
            "Epoch 6/15\n",
            "9631/9631 [==============================] - 49s 5ms/step - loss: 0.2746 - accuracy: 0.9053 - val_loss: 0.2906 - val_accuracy: 0.8963\n",
            "Epoch 7/15\n",
            "9631/9631 [==============================] - 50s 5ms/step - loss: 0.2505 - accuracy: 0.9115 - val_loss: 0.3467 - val_accuracy: 0.8773\n",
            "Epoch 8/15\n",
            "9631/9631 [==============================] - 55s 6ms/step - loss: 0.2405 - accuracy: 0.9134 - val_loss: 1.1883 - val_accuracy: 0.6191\n",
            "Epoch 9/15\n",
            "9631/9631 [==============================] - 55s 6ms/step - loss: 0.2270 - accuracy: 0.9163 - val_loss: 0.2052 - val_accuracy: 0.9239\n",
            "Epoch 10/15\n",
            "9631/9631 [==============================] - 49s 5ms/step - loss: 0.2184 - accuracy: 0.9182 - val_loss: 0.5609 - val_accuracy: 0.7412\n",
            "Epoch 11/15\n",
            "9631/9631 [==============================] - 49s 5ms/step - loss: 0.2082 - accuracy: 0.9205 - val_loss: 0.2053 - val_accuracy: 0.9146\n",
            "Epoch 12/15\n",
            "9631/9631 [==============================] - 50s 5ms/step - loss: 0.2003 - accuracy: 0.9232 - val_loss: 0.1862 - val_accuracy: 0.9266\n",
            "Epoch 13/15\n",
            "9631/9631 [==============================] - 50s 5ms/step - loss: 0.1951 - accuracy: 0.9246 - val_loss: 0.1866 - val_accuracy: 0.9191\n",
            "Epoch 14/15\n",
            "9631/9631 [==============================] - 52s 5ms/step - loss: 0.1898 - accuracy: 0.9261 - val_loss: 0.1725 - val_accuracy: 0.9319\n",
            "Epoch 15/15\n",
            "9631/9631 [==============================] - 51s 5ms/step - loss: 0.1865 - accuracy: 0.9270 - val_loss: 0.1597 - val_accuracy: 0.9393\n"
          ]
        }
      ]
    },
    {
      "cell_type": "code",
      "source": [
        "# Save the model\n",
        "model_name = 'GRU_FireDetection.h5'\n",
        "\n",
        "# Save the model to Google Drive with the custom name\n",
        "model_Gru.save(model_directory + model_name)"
      ],
      "metadata": {
        "id": "D2utbVukLhcv"
      },
      "execution_count": null,
      "outputs": []
    },
    {
      "cell_type": "code",
      "source": [
        "# Print the final training accuracy\n",
        "print(\"Final Training Accuracy GRU:\", history_Gru.history['accuracy'][-1])\n",
        "\n",
        "# Print the final validation accuracy\n",
        "print(\"Final Validation Accuracy GRU:\", history_Gru.history['val_accuracy'][-1])"
      ],
      "metadata": {
        "colab": {
          "base_uri": "https://localhost:8080/"
        },
        "id": "pcsxOD96SvjU",
        "outputId": "424da811-dcd9-465d-aecb-0497d04db402"
      },
      "execution_count": null,
      "outputs": [
        {
          "output_type": "stream",
          "name": "stdout",
          "text": [
            "Final Training Accuracy GRU: 0.9270461201667786\n",
            "Final Validation Accuracy GRU: 0.939287543296814\n"
          ]
        }
      ]
    },
    {
      "cell_type": "code",
      "source": [],
      "metadata": {
        "id": "_KSCJLdSTP7H"
      },
      "execution_count": null,
      "outputs": []
    },
    {
      "cell_type": "markdown",
      "source": [
        "# **Bidirrectional LSTM - Fire Detection**"
      ],
      "metadata": {
        "id": "_TZSwad0kEqE"
      }
    },
    {
      "cell_type": "code",
      "source": [
        "from tensorflow.keras.models import Model\n",
        "from tensorflow.keras.layers import Input, Bidirectional, LSTM, Dense, Concatenate\n",
        "\n",
        "\n",
        "# Input layer for time series sequence using Bidirectional LSTM\n",
        "input_sequence = Input(shape=(X_train_sequence.shape[0], 1), name='input_sequence')\n",
        "bidirectional_lstm_layer = Bidirectional(LSTM(50))(input_sequence)  # Adjust the number of LSTM units as needed\n",
        "# Input layer for non-temporal features\n",
        "input_features = Input(shape=(X_train_features.shape[1],), name='input_features')\n",
        "\n",
        "# Concatenate Bidirectional LSTM output and non-temporal features\n",
        "concatenated = Concatenate()([bidirectional_lstm_layer, input_features])\n",
        "\n",
        "# Dense layers for classification\n",
        "dense_layer_1 = Dense(64, activation='relu')(concatenated)\n",
        "output_layer = Dense(1, activation='sigmoid')(dense_layer_1)  # For binary classification\n",
        "\n",
        "# Create the model\n",
        "model_bi_d_lstm = Model(inputs=[input_sequence, input_features], outputs=output_layer)\n",
        "\n",
        "# Print the summary of the Bidirectional LSTM model\n",
        "model_bi_d_lstm.summary()\n",
        "\n",
        "# Compile the model\n",
        "model_bi_d_lstm.compile(optimizer='adam', loss='binary_crossentropy', metrics=['accuracy'])\n",
        "\n",
        "# Define number of epochs and batch size\n",
        "epochs = 15  # You can adjust this based on your specific requirements\n",
        "batch_size = 42  # You can adjust this based on your specific requirements\n",
        "\n",
        "# Train the model using X_train_sequence and X_train_features\n",
        "history_bi_d_lstm=model_bi_d_lstm.fit({'input_sequence': X_train_sequence, 'input_features': X_train_features}, y_train, epochs=epochs, batch_size=batch_size, validation_data=validation_data)\n",
        "\n",
        "# Save the model\n",
        "model_name = 'Bi_LSTM_FireDetection.h5'\n",
        "\n",
        "# Save the model to Google Drive with the custom name\n",
        "model_bi_d_lstm.save(model_directory + model_name)"
      ],
      "metadata": {
        "colab": {
          "base_uri": "https://localhost:8080/"
        },
        "id": "aF5eHswMkGwV",
        "outputId": "afe7a1e9-ad8e-47ea-adba-58392523a2c8"
      },
      "execution_count": null,
      "outputs": [
        {
          "output_type": "stream",
          "name": "stdout",
          "text": [
            "Model: \"model_2\"\n",
            "__________________________________________________________________________________________________\n",
            " Layer (type)                Output Shape                 Param #   Connected to                  \n",
            "==================================================================================================\n",
            " input_sequence (InputLayer  [(None, 404461, 1)]          0         []                            \n",
            " )                                                                                                \n",
            "                                                                                                  \n",
            " bidirectional (Bidirection  (None, 100)                  20800     ['input_sequence[0][0]']      \n",
            " al)                                                                                              \n",
            "                                                                                                  \n",
            " input_features (InputLayer  [(None, 14)]                 0         []                            \n",
            " )                                                                                                \n",
            "                                                                                                  \n",
            " concatenate_2 (Concatenate  (None, 114)                  0         ['bidirectional[0][0]',       \n",
            " )                                                                   'input_features[0][0]']      \n",
            "                                                                                                  \n",
            " dense_4 (Dense)             (None, 64)                   7360      ['concatenate_2[0][0]']       \n",
            "                                                                                                  \n",
            " dense_5 (Dense)             (None, 1)                    65        ['dense_4[0][0]']             \n",
            "                                                                                                  \n",
            "==================================================================================================\n",
            "Total params: 28225 (110.25 KB)\n",
            "Trainable params: 28225 (110.25 KB)\n",
            "Non-trainable params: 0 (0.00 Byte)\n",
            "__________________________________________________________________________________________________\n",
            "Epoch 1/15\n",
            "9631/9631 [==============================] - 75s 7ms/step - loss: 0.6515 - accuracy: 0.8286 - val_loss: 0.7573 - val_accuracy: 0.7830\n",
            "Epoch 2/15\n",
            "9631/9631 [==============================] - 68s 7ms/step - loss: 0.4229 - accuracy: 0.8598 - val_loss: 1.1337 - val_accuracy: 0.6412\n",
            "Epoch 3/15\n",
            "9631/9631 [==============================] - 67s 7ms/step - loss: 0.3279 - accuracy: 0.8904 - val_loss: 0.7109 - val_accuracy: 0.7973\n",
            "Epoch 4/15\n",
            "9631/9631 [==============================] - 63s 7ms/step - loss: 0.2910 - accuracy: 0.9013 - val_loss: 0.2276 - val_accuracy: 0.9200\n",
            "Epoch 5/15\n",
            "9631/9631 [==============================] - 68s 7ms/step - loss: 0.2667 - accuracy: 0.9067 - val_loss: 0.1881 - val_accuracy: 0.9346\n",
            "Epoch 6/15\n",
            "9631/9631 [==============================] - 63s 6ms/step - loss: 0.2472 - accuracy: 0.9110 - val_loss: 0.2919 - val_accuracy: 0.8964\n",
            "Epoch 7/15\n",
            "9631/9631 [==============================] - 61s 6ms/step - loss: 0.2270 - accuracy: 0.9156 - val_loss: 0.2525 - val_accuracy: 0.9110\n",
            "Epoch 8/15\n",
            "9631/9631 [==============================] - 59s 6ms/step - loss: 0.2153 - accuracy: 0.9190 - val_loss: 0.4269 - val_accuracy: 0.8579\n",
            "Epoch 9/15\n",
            "9631/9631 [==============================] - 66s 7ms/step - loss: 0.2028 - accuracy: 0.9217 - val_loss: 0.2372 - val_accuracy: 0.8997\n",
            "Epoch 10/15\n",
            "9631/9631 [==============================] - 60s 6ms/step - loss: 0.1946 - accuracy: 0.9242 - val_loss: 0.1670 - val_accuracy: 0.9372\n",
            "Epoch 11/15\n",
            "9631/9631 [==============================] - 65s 7ms/step - loss: 0.1890 - accuracy: 0.9263 - val_loss: 0.2044 - val_accuracy: 0.9308\n",
            "Epoch 12/15\n",
            "9631/9631 [==============================] - 59s 6ms/step - loss: 0.1846 - accuracy: 0.9278 - val_loss: 0.1806 - val_accuracy: 0.9306\n",
            "Epoch 13/15\n",
            "9631/9631 [==============================] - 66s 7ms/step - loss: 0.1826 - accuracy: 0.9282 - val_loss: 0.2659 - val_accuracy: 0.8910\n",
            "Epoch 14/15\n",
            "9631/9631 [==============================] - 59s 6ms/step - loss: 0.1804 - accuracy: 0.9291 - val_loss: 0.1746 - val_accuracy: 0.9250\n",
            "Epoch 15/15\n",
            "9631/9631 [==============================] - 60s 6ms/step - loss: 0.1792 - accuracy: 0.9292 - val_loss: 0.2548 - val_accuracy: 0.9128\n"
          ]
        }
      ]
    },
    {
      "cell_type": "code",
      "source": [
        "# Print the final training accuracy\n",
        "print(\"Final Training Accuracy Bi directional LSTM:\", history_bi_d_lstm.history['accuracy'][-1])\n",
        "\n",
        "# Print the final validation accuracy\n",
        "print(\"Final Validation Accuracy Bi directional LSTM:\", history_bi_d_lstm.history['val_accuracy'][-1])"
      ],
      "metadata": {
        "colab": {
          "base_uri": "https://localhost:8080/"
        },
        "id": "Nzayh0lkkiDy",
        "outputId": "95f469db-c5d1-441e-fb22-20533c826279"
      },
      "execution_count": null,
      "outputs": [
        {
          "output_type": "stream",
          "name": "stdout",
          "text": [
            "Final Training Accuracy Bi directional LSTM: 0.9292070269584656\n",
            "Final Validation Accuracy Bi directional LSTM: 0.9128229022026062\n"
          ]
        }
      ]
    },
    {
      "cell_type": "markdown",
      "source": [
        "# **Temporal Convolutional Networks (TCN) - Fire Detection**"
      ],
      "metadata": {
        "id": "2I-wWswKnKr5"
      }
    },
    {
      "cell_type": "code",
      "source": [
        "pip install keras-tcn"
      ],
      "metadata": {
        "colab": {
          "base_uri": "https://localhost:8080/"
        },
        "id": "h9JqkA3eoljM",
        "outputId": "69586a7d-a6b3-4cca-81f1-f55d6b831a05"
      },
      "execution_count": null,
      "outputs": [
        {
          "output_type": "stream",
          "name": "stdout",
          "text": [
            "Collecting keras-tcn\n",
            "  Downloading keras_tcn-3.5.0-py3-none-any.whl (13 kB)\n",
            "Requirement already satisfied: numpy in /usr/local/lib/python3.10/dist-packages (from keras-tcn) (1.25.2)\n",
            "Requirement already satisfied: tensorflow in /usr/local/lib/python3.10/dist-packages (from keras-tcn) (2.15.0)\n",
            "Collecting tensorflow-addons (from keras-tcn)\n",
            "  Downloading tensorflow_addons-0.23.0-cp310-cp310-manylinux_2_17_x86_64.manylinux2014_x86_64.whl (611 kB)\n",
            "\u001b[2K     \u001b[90m━━━━━━━━━━━━━━━━━━━━━━━━━━━━━━━━━━━━━━━━\u001b[0m \u001b[32m611.8/611.8 kB\u001b[0m \u001b[31m9.8 MB/s\u001b[0m eta \u001b[36m0:00:00\u001b[0m\n",
            "\u001b[?25hRequirement already satisfied: absl-py>=1.0.0 in /usr/local/lib/python3.10/dist-packages (from tensorflow->keras-tcn) (1.4.0)\n",
            "Requirement already satisfied: astunparse>=1.6.0 in /usr/local/lib/python3.10/dist-packages (from tensorflow->keras-tcn) (1.6.3)\n",
            "Requirement already satisfied: flatbuffers>=23.5.26 in /usr/local/lib/python3.10/dist-packages (from tensorflow->keras-tcn) (24.3.25)\n",
            "Requirement already satisfied: gast!=0.5.0,!=0.5.1,!=0.5.2,>=0.2.1 in /usr/local/lib/python3.10/dist-packages (from tensorflow->keras-tcn) (0.5.4)\n",
            "Requirement already satisfied: google-pasta>=0.1.1 in /usr/local/lib/python3.10/dist-packages (from tensorflow->keras-tcn) (0.2.0)\n",
            "Requirement already satisfied: h5py>=2.9.0 in /usr/local/lib/python3.10/dist-packages (from tensorflow->keras-tcn) (3.9.0)\n",
            "Requirement already satisfied: libclang>=13.0.0 in /usr/local/lib/python3.10/dist-packages (from tensorflow->keras-tcn) (18.1.1)\n",
            "Requirement already satisfied: ml-dtypes~=0.2.0 in /usr/local/lib/python3.10/dist-packages (from tensorflow->keras-tcn) (0.2.0)\n",
            "Requirement already satisfied: opt-einsum>=2.3.2 in /usr/local/lib/python3.10/dist-packages (from tensorflow->keras-tcn) (3.3.0)\n",
            "Requirement already satisfied: packaging in /usr/local/lib/python3.10/dist-packages (from tensorflow->keras-tcn) (24.1)\n",
            "Requirement already satisfied: protobuf!=4.21.0,!=4.21.1,!=4.21.2,!=4.21.3,!=4.21.4,!=4.21.5,<5.0.0dev,>=3.20.3 in /usr/local/lib/python3.10/dist-packages (from tensorflow->keras-tcn) (3.20.3)\n",
            "Requirement already satisfied: setuptools in /usr/local/lib/python3.10/dist-packages (from tensorflow->keras-tcn) (67.7.2)\n",
            "Requirement already satisfied: six>=1.12.0 in /usr/local/lib/python3.10/dist-packages (from tensorflow->keras-tcn) (1.16.0)\n",
            "Requirement already satisfied: termcolor>=1.1.0 in /usr/local/lib/python3.10/dist-packages (from tensorflow->keras-tcn) (2.4.0)\n",
            "Requirement already satisfied: typing-extensions>=3.6.6 in /usr/local/lib/python3.10/dist-packages (from tensorflow->keras-tcn) (4.12.2)\n",
            "Requirement already satisfied: wrapt<1.15,>=1.11.0 in /usr/local/lib/python3.10/dist-packages (from tensorflow->keras-tcn) (1.14.1)\n",
            "Requirement already satisfied: tensorflow-io-gcs-filesystem>=0.23.1 in /usr/local/lib/python3.10/dist-packages (from tensorflow->keras-tcn) (0.37.0)\n",
            "Requirement already satisfied: grpcio<2.0,>=1.24.3 in /usr/local/lib/python3.10/dist-packages (from tensorflow->keras-tcn) (1.64.1)\n",
            "Requirement already satisfied: tensorboard<2.16,>=2.15 in /usr/local/lib/python3.10/dist-packages (from tensorflow->keras-tcn) (2.15.2)\n",
            "Requirement already satisfied: tensorflow-estimator<2.16,>=2.15.0 in /usr/local/lib/python3.10/dist-packages (from tensorflow->keras-tcn) (2.15.0)\n",
            "Requirement already satisfied: keras<2.16,>=2.15.0 in /usr/local/lib/python3.10/dist-packages (from tensorflow->keras-tcn) (2.15.0)\n",
            "Collecting typeguard<3.0.0,>=2.7 (from tensorflow-addons->keras-tcn)\n",
            "  Downloading typeguard-2.13.3-py3-none-any.whl (17 kB)\n",
            "Requirement already satisfied: wheel<1.0,>=0.23.0 in /usr/local/lib/python3.10/dist-packages (from astunparse>=1.6.0->tensorflow->keras-tcn) (0.43.0)\n",
            "Requirement already satisfied: google-auth<3,>=1.6.3 in /usr/local/lib/python3.10/dist-packages (from tensorboard<2.16,>=2.15->tensorflow->keras-tcn) (2.27.0)\n",
            "Requirement already satisfied: google-auth-oauthlib<2,>=0.5 in /usr/local/lib/python3.10/dist-packages (from tensorboard<2.16,>=2.15->tensorflow->keras-tcn) (1.2.0)\n",
            "Requirement already satisfied: markdown>=2.6.8 in /usr/local/lib/python3.10/dist-packages (from tensorboard<2.16,>=2.15->tensorflow->keras-tcn) (3.6)\n",
            "Requirement already satisfied: requests<3,>=2.21.0 in /usr/local/lib/python3.10/dist-packages (from tensorboard<2.16,>=2.15->tensorflow->keras-tcn) (2.31.0)\n",
            "Requirement already satisfied: tensorboard-data-server<0.8.0,>=0.7.0 in /usr/local/lib/python3.10/dist-packages (from tensorboard<2.16,>=2.15->tensorflow->keras-tcn) (0.7.2)\n",
            "Requirement already satisfied: werkzeug>=1.0.1 in /usr/local/lib/python3.10/dist-packages (from tensorboard<2.16,>=2.15->tensorflow->keras-tcn) (3.0.3)\n",
            "Requirement already satisfied: cachetools<6.0,>=2.0.0 in /usr/local/lib/python3.10/dist-packages (from google-auth<3,>=1.6.3->tensorboard<2.16,>=2.15->tensorflow->keras-tcn) (5.3.3)\n",
            "Requirement already satisfied: pyasn1-modules>=0.2.1 in /usr/local/lib/python3.10/dist-packages (from google-auth<3,>=1.6.3->tensorboard<2.16,>=2.15->tensorflow->keras-tcn) (0.4.0)\n",
            "Requirement already satisfied: rsa<5,>=3.1.4 in /usr/local/lib/python3.10/dist-packages (from google-auth<3,>=1.6.3->tensorboard<2.16,>=2.15->tensorflow->keras-tcn) (4.9)\n",
            "Requirement already satisfied: requests-oauthlib>=0.7.0 in /usr/local/lib/python3.10/dist-packages (from google-auth-oauthlib<2,>=0.5->tensorboard<2.16,>=2.15->tensorflow->keras-tcn) (1.3.1)\n",
            "Requirement already satisfied: charset-normalizer<4,>=2 in /usr/local/lib/python3.10/dist-packages (from requests<3,>=2.21.0->tensorboard<2.16,>=2.15->tensorflow->keras-tcn) (3.3.2)\n",
            "Requirement already satisfied: idna<4,>=2.5 in /usr/local/lib/python3.10/dist-packages (from requests<3,>=2.21.0->tensorboard<2.16,>=2.15->tensorflow->keras-tcn) (3.7)\n",
            "Requirement already satisfied: urllib3<3,>=1.21.1 in /usr/local/lib/python3.10/dist-packages (from requests<3,>=2.21.0->tensorboard<2.16,>=2.15->tensorflow->keras-tcn) (2.0.7)\n",
            "Requirement already satisfied: certifi>=2017.4.17 in /usr/local/lib/python3.10/dist-packages (from requests<3,>=2.21.0->tensorboard<2.16,>=2.15->tensorflow->keras-tcn) (2024.6.2)\n",
            "Requirement already satisfied: MarkupSafe>=2.1.1 in /usr/local/lib/python3.10/dist-packages (from werkzeug>=1.0.1->tensorboard<2.16,>=2.15->tensorflow->keras-tcn) (2.1.5)\n",
            "Requirement already satisfied: pyasn1<0.7.0,>=0.4.6 in /usr/local/lib/python3.10/dist-packages (from pyasn1-modules>=0.2.1->google-auth<3,>=1.6.3->tensorboard<2.16,>=2.15->tensorflow->keras-tcn) (0.6.0)\n",
            "Requirement already satisfied: oauthlib>=3.0.0 in /usr/local/lib/python3.10/dist-packages (from requests-oauthlib>=0.7.0->google-auth-oauthlib<2,>=0.5->tensorboard<2.16,>=2.15->tensorflow->keras-tcn) (3.2.2)\n",
            "Installing collected packages: typeguard, tensorflow-addons, keras-tcn\n",
            "Successfully installed keras-tcn-3.5.0 tensorflow-addons-0.23.0 typeguard-2.13.3\n"
          ]
        }
      ]
    },
    {
      "cell_type": "code",
      "source": [
        "X_train_sequence.shape[0]"
      ],
      "metadata": {
        "colab": {
          "base_uri": "https://localhost:8080/"
        },
        "id": "-mBx9NBP_l62",
        "outputId": "34eefc1b-76a1-4138-fa98-8fa685114866"
      },
      "execution_count": null,
      "outputs": [
        {
          "output_type": "execute_result",
          "data": {
            "text/plain": [
              "404461"
            ]
          },
          "metadata": {},
          "execution_count": 27
        }
      ]
    },
    {
      "cell_type": "code",
      "source": [
        "# Input layer for time series sequence using 1D Convolutional Layer\n",
        "input_sequence = Input(shape=(X_train_sequence.shape[0], 1), name='input_sequence')"
      ],
      "metadata": {
        "id": "-yiOzFAW_2IM"
      },
      "execution_count": null,
      "outputs": []
    },
    {
      "cell_type": "code",
      "source": [
        "input_sequence"
      ],
      "metadata": {
        "colab": {
          "base_uri": "https://localhost:8080/"
        },
        "id": "uC9t6CV6_zVP",
        "outputId": "61ec3786-3e9e-4d83-e20c-834d3513cc60"
      },
      "execution_count": null,
      "outputs": [
        {
          "output_type": "execute_result",
          "data": {
            "text/plain": [
              "<KerasTensor: shape=(None, 404461, 1) dtype=float32 (created by layer 'input_sequence')>"
            ]
          },
          "metadata": {},
          "execution_count": 29
        }
      ]
    },
    {
      "cell_type": "code",
      "source": [
        "from tensorflow.keras.models import Model\n",
        "from tensorflow.keras.layers import Input, Conv1D, Dense, concatenate\n",
        "from tcn import TCN\n",
        "\n",
        "# Assuming X_train_sequence, X_train_features, y_train are properly defined\n",
        "# ...\n",
        "\n",
        "\n",
        "# Convolutional layer\n",
        "conv1d_layer = Conv1D(filters=64, kernel_size=1, activation='relu')(input_sequence)\n",
        "\n",
        "# Temporal Convolutional Network (TCN) layer\n",
        "tcn_layer = TCN(return_sequences=False)(conv1d_layer)\n",
        "\n",
        "# Input layer for non-temporal features\n",
        "input_features = Input(shape=(X_train_features.shape[1],), name='input_features')\n",
        "\n",
        "# Concatenate TCN output and non-temporal features\n",
        "concatenated = concatenate([tcn_layer, input_features])\n",
        "\n",
        "# Dense layers for classification\n",
        "dense_layer_1 = Dense(64, activation='relu')(concatenated)\n",
        "output_layer = Dense(1, activation='sigmoid')(dense_layer_1)  # For binary classification\n",
        "\n",
        "# Create the model\n",
        "model_tcn = Model(inputs=[input_sequence, input_features], outputs=output_layer)\n",
        "\n",
        "# Print the summary of the TCN model\n",
        "model_tcn.summary()\n",
        "\n",
        "# Compile the model\n",
        "model_tcn.compile(optimizer='adam', loss='binary_crossentropy', metrics=['accuracy'])\n",
        "\n",
        "# Train the model using X_train_sequence and X_train_features\n",
        "history_tcn = model_tcn.fit({'input_sequence': X_train_sequence, 'input_features': X_train_features}, y_train, epochs=15, batch_size=42, validation_data=validation_data)\n",
        "\n",
        "# Save the model\n",
        "model_name = 'TCN_FireDetection.h5'\n",
        "\n",
        "# Save the model to Google Drive with the custom name\n",
        "model_tcn.save(model_directory + model_name)\n"
      ],
      "metadata": {
        "colab": {
          "base_uri": "https://localhost:8080/"
        },
        "id": "t2EJmsz6msSv",
        "outputId": "7f68a6b8-f054-4850-c9e0-921811f9396d"
      },
      "execution_count": null,
      "outputs": [
        {
          "output_type": "stream",
          "name": "stdout",
          "text": [
            "Model: \"model_3\"\n",
            "__________________________________________________________________________________________________\n",
            " Layer (type)                Output Shape                 Param #   Connected to                  \n",
            "==================================================================================================\n",
            " input_sequence (InputLayer  [(None, 404461, 1)]          0         []                            \n",
            " )                                                                                                \n",
            "                                                                                                  \n",
            " conv1d (Conv1D)             (None, 404461, 64)           128       ['input_sequence[0][0]']      \n",
            "                                                                                                  \n",
            " tcn (TCN)                   (None, 64)                   148224    ['conv1d[0][0]']              \n",
            "                                                                                                  \n",
            " input_features (InputLayer  [(None, 14)]                 0         []                            \n",
            " )                                                                                                \n",
            "                                                                                                  \n",
            " concatenate_3 (Concatenate  (None, 78)                   0         ['tcn[0][0]',                 \n",
            " )                                                                   'input_features[0][0]']      \n",
            "                                                                                                  \n",
            " dense_6 (Dense)             (None, 64)                   5056      ['concatenate_3[0][0]']       \n",
            "                                                                                                  \n",
            " dense_7 (Dense)             (None, 1)                    65        ['dense_6[0][0]']             \n",
            "                                                                                                  \n",
            "==================================================================================================\n",
            "Total params: 153473 (599.50 KB)\n",
            "Trainable params: 153473 (599.50 KB)\n",
            "Non-trainable params: 0 (0.00 Byte)\n",
            "__________________________________________________________________________________________________\n",
            "Epoch 1/15\n",
            "9631/9631 [==============================] - 361s 37ms/step - loss: 0.4262 - accuracy: 0.8850 - val_loss: 0.3889 - val_accuracy: 0.9039\n",
            "Epoch 2/15\n",
            "9631/9631 [==============================] - 343s 36ms/step - loss: 0.3273 - accuracy: 0.9072 - val_loss: 0.3236 - val_accuracy: 0.9189\n",
            "Epoch 3/15\n",
            "9631/9631 [==============================] - 328s 34ms/step - loss: 0.2794 - accuracy: 0.9135 - val_loss: 2.8604 - val_accuracy: 0.5959\n",
            "Epoch 4/15\n",
            "9631/9631 [==============================] - 329s 34ms/step - loss: 0.2482 - accuracy: 0.9191 - val_loss: 0.3396 - val_accuracy: 0.8885\n",
            "Epoch 5/15\n",
            "9631/9631 [==============================] - 329s 34ms/step - loss: 0.2213 - accuracy: 0.9223 - val_loss: 0.2314 - val_accuracy: 0.9149\n",
            "Epoch 6/15\n",
            "9631/9631 [==============================] - 332s 34ms/step - loss: 0.1997 - accuracy: 0.9263 - val_loss: 0.1831 - val_accuracy: 0.9240\n",
            "Epoch 7/15\n",
            "9631/9631 [==============================] - 330s 34ms/step - loss: 0.1852 - accuracy: 0.9298 - val_loss: 0.2202 - val_accuracy: 0.9206\n",
            "Epoch 8/15\n",
            "9631/9631 [==============================] - 333s 35ms/step - loss: 0.1767 - accuracy: 0.9328 - val_loss: 0.1921 - val_accuracy: 0.9348\n",
            "Epoch 9/15\n",
            "9631/9631 [==============================] - 331s 34ms/step - loss: 0.1711 - accuracy: 0.9349 - val_loss: 0.1619 - val_accuracy: 0.9420\n",
            "Epoch 10/15\n",
            "9631/9631 [==============================] - 330s 34ms/step - loss: 0.1679 - accuracy: 0.9358 - val_loss: 0.1651 - val_accuracy: 0.9423\n",
            "Epoch 11/15\n",
            "9631/9631 [==============================] - 329s 34ms/step - loss: 0.1670 - accuracy: 0.9364 - val_loss: 0.1721 - val_accuracy: 0.9344\n",
            "Epoch 12/15\n",
            "9631/9631 [==============================] - 331s 34ms/step - loss: 0.1666 - accuracy: 0.9365 - val_loss: 0.1592 - val_accuracy: 0.9384\n",
            "Epoch 13/15\n",
            "9631/9631 [==============================] - 330s 34ms/step - loss: 0.1659 - accuracy: 0.9368 - val_loss: 0.1969 - val_accuracy: 0.9252\n",
            "Epoch 14/15\n",
            "9631/9631 [==============================] - 332s 34ms/step - loss: 0.1652 - accuracy: 0.9372 - val_loss: 0.1535 - val_accuracy: 0.9421\n",
            "Epoch 15/15\n",
            "9631/9631 [==============================] - 331s 34ms/step - loss: 0.1646 - accuracy: 0.9375 - val_loss: 0.1562 - val_accuracy: 0.9401\n"
          ]
        }
      ]
    },
    {
      "cell_type": "code",
      "source": [
        "# Print the final training accuracy\n",
        "print(\"Final Training Accuracy TCN:\", history_tcn.history['accuracy'][-1])\n",
        "\n",
        "# Print the final validation accuracy\n",
        "print(\"Final Validation Accuracy TCN:\", history_tcn.history['val_accuracy'][-1])"
      ],
      "metadata": {
        "colab": {
          "base_uri": "https://localhost:8080/"
        },
        "id": "yhxoH9J_m9jv",
        "outputId": "7fad16f0-9a09-45b0-8245-4b2fc1044872"
      },
      "execution_count": null,
      "outputs": [
        {
          "output_type": "stream",
          "name": "stdout",
          "text": [
            "Final Training Accuracy TCN: 0.9375143647193909\n",
            "Final Validation Accuracy TCN: 0.9400985240936279\n"
          ]
        }
      ]
    },
    {
      "cell_type": "markdown",
      "source": [
        "# **Combined Bidirectional LSTM (BiLSTM) and GRU - Fire Detection**"
      ],
      "metadata": {
        "id": "EI2jXtIIpY4r"
      }
    },
    {
      "cell_type": "code",
      "source": [
        "\n",
        "features = Gases_BC_Meteo_Merged_Final.drop('fireOccFlag', axis=1).values\n",
        "\n",
        "labels = Gases_BC_Meteo_Merged_Final['fireOccFlag'].values\n",
        "\n",
        "# Split the data into training and testing sets\n",
        "X_train, X_test, y_train, y_test = train_test_split(features, labels, test_size=0.30, random_state=62)\n",
        "\n",
        "# Extract time series sequence (assuming it's in the first column)\n",
        "X_train_time = X_train[:, 0].reshape(-1, 1)\n",
        "X_test_time = X_test[:, 0].reshape(-1, 1)\n",
        "\n",
        "# Extract non-temporal features (assuming they start from the second column)\n",
        "X_train_features = X_train[:, 1:]\n",
        "X_test_features = X_test[:, 1:]\n",
        "\n",
        "\n",
        "# Define validation data (assuming you have X_val_sequence, X_val_features, and y_val)\n",
        "validation_data_updated = ({ 'features_input_updated': X_test_features,'time_input_updated': X_test_time}, y_test)"
      ],
      "metadata": {
        "id": "UkC0SGzl0hbI"
      },
      "execution_count": null,
      "outputs": []
    },
    {
      "cell_type": "code",
      "source": [
        "X_test_time.shape"
      ],
      "metadata": {
        "colab": {
          "base_uri": "https://localhost:8080/"
        },
        "id": "zALessZ1PUVY",
        "outputId": "77c0a6fd-da25-4b5f-cd4b-af91a45df88d"
      },
      "execution_count": null,
      "outputs": [
        {
          "output_type": "execute_result",
          "data": {
            "text/plain": [
              "(151674, 1)"
            ]
          },
          "metadata": {},
          "execution_count": 95
        }
      ]
    },
    {
      "cell_type": "code",
      "source": [
        "validation_data_updated"
      ],
      "metadata": {
        "colab": {
          "base_uri": "https://localhost:8080/"
        },
        "id": "5VkCb5kxOPP-",
        "outputId": "bf99e869-573e-489f-f33f-0ad784ef56bb"
      },
      "execution_count": null,
      "outputs": [
        {
          "output_type": "execute_result",
          "data": {
            "text/plain": [
              "({'features_input_updated': array([[3.10000000e+00, 2.34000000e+02, 2.18000000e+01, ...,\n",
              "          4.15516232e+00, 1.99695042e+03, 2.94090100e-03],\n",
              "         [2.00000000e-01, 1.51000000e+02, 2.55000000e+01, ...,\n",
              "          6.18398448e-01, 2.14050168e+03, 5.51431400e-03],\n",
              "         [2.30000000e+00, 5.60000000e+01, 1.92000000e+01, ...,\n",
              "          4.96795006e-01, 2.00992233e+03, 3.18457400e-03],\n",
              "         ...,\n",
              "         [1.30000000e+00, 2.24000000e+02, 2.08000000e+01, ...,\n",
              "          3.61569183e-01, 1.95202410e+03, 4.99881700e-03],\n",
              "         [3.20000000e+00, 5.90000000e+01, 1.11000000e+01, ...,\n",
              "          3.55831192e+00, 2.07914718e+03, 4.12198900e-03],\n",
              "         [6.20000000e+00, 9.00000000e+01, 2.36000000e+01, ...,\n",
              "          4.75085508e-01, 1.98373738e+03, 3.85370900e-03]]),\n",
              "  'time_input_updated': array([[160.747917],\n",
              "         [188.858333],\n",
              "         [277.001389],\n",
              "         ...,\n",
              "         [129.742361],\n",
              "         [325.9375  ],\n",
              "         [275.299306]])},\n",
              " array([0, 1, 1, ..., 0, 0, 1]))"
            ]
          },
          "metadata": {},
          "execution_count": 96
        }
      ]
    },
    {
      "cell_type": "code",
      "source": [
        "import numpy as np\n",
        "import pandas as pd\n",
        "from sklearn.model_selection import train_test_split\n",
        "from sklearn.preprocessing import StandardScaler\n",
        "from tensorflow import keras\n",
        "from tensorflow.keras import layers\n",
        "\n",
        "\n",
        "# Standardize the features\n",
        "scaler_features = StandardScaler()\n",
        "X_train_features = scaler_features.fit_transform(X_train_features)\n",
        "X_test_features = scaler_features.transform(X_test_features)\n",
        "\n",
        "# Standardize the time sequence\n",
        "scaler_time = StandardScaler()\n",
        "X_train_time = scaler_time.fit_transform(X_train_time.reshape(-1, 1))\n",
        "X_test_time = scaler_time.transform(X_test_time.reshape(-1, 1))\n",
        "\n",
        "\n",
        "from tensorflow.keras import layers, models, optimizers\n",
        "\n",
        "def create_bilstm_gru_model1(input_shape_features, input_shape_time):\n",
        "    features_input = layers.Input(shape=input_shape_features, name='features_input')\n",
        "    time_input = layers.Input(shape=input_shape_time, name='time_input')\n",
        "\n",
        "    # BiLSTM layers with dropout\n",
        "    lstm_out = layers.Bidirectional(layers.LSTM(64, return_sequences=True))(features_input)\n",
        "    lstm_out = layers.Dropout(0.3)(lstm_out)\n",
        "    lstm_out = layers.Bidirectional(layers.LSTM(64, return_sequences=True))(lstm_out)\n",
        "    lstm_out = layers.Dropout(0.3)(lstm_out)\n",
        "\n",
        "    # GRU layers with dropout\n",
        "    gru_out = layers.GRU(32, return_sequences=True)(lstm_out)\n",
        "    gru_out = layers.Dropout(0.3)(gru_out)\n",
        "    gru_out = layers.GRU(32)(gru_out)\n",
        "    gru_out = layers.Dropout(0.3)(gru_out)\n",
        "\n",
        "    # Combining the outputs\n",
        "    combined = layers.concatenate([gru_out, time_input])\n",
        "\n",
        "    # Dense layers with batch normalization and dropout\n",
        "    dense_out = layers.Dense(64, activation='relu')(combined)\n",
        "    dense_out = layers.BatchNormalization()(dense_out)\n",
        "    dense_out = layers.Dropout(0.3)(dense_out)\n",
        "\n",
        "    dense_out = layers.Dense(32, activation='relu')(dense_out)\n",
        "    dense_out = layers.BatchNormalization()(dense_out)\n",
        "    dense_out = layers.Dropout(0.3)(dense_out)\n",
        "\n",
        "    # Output layer\n",
        "    output = layers.Dense(1, activation='sigmoid', name='output')(dense_out)\n",
        "\n",
        "    # Creating the model\n",
        "    model_combined_gru_lstm = models.Model(inputs=[features_input, time_input], outputs=output)\n",
        "\n",
        "    # Compiling the model\n",
        "    model_combined_gru_lstm.compile(optimizer=optimizers.Adam(learning_rate=0.001),\n",
        "                                    loss='binary_crossentropy',\n",
        "                                    metrics=['accuracy'])\n",
        "\n",
        "    return model_combined_gru_lstm\n",
        "\n",
        "\n",
        "# Create and compile the model\n",
        "model_combined_gru_lstm = create_bilstm_gru_model1((X_train_features.shape[1], 1), (1,))\n",
        "\n",
        "# Train the model\n",
        "history_model_lstm_gru_combined = model_combined_gru_lstm.fit([X_train_features, X_train_time], y_train, epochs=20, batch_size=42)\n",
        "\n",
        "\n",
        "# Save the model\n",
        "model_name = 'BiLSTM_GRU_Combined_FireDetection_new.h5'\n",
        "\n",
        "# Save the model to Google Drive with the custom name\n",
        "model_combined_gru_lstm.save(model_directory + model_name)"
      ],
      "metadata": {
        "colab": {
          "base_uri": "https://localhost:8080/"
        },
        "id": "UCOdjPIHpU8y",
        "outputId": "bc3a084e-020d-4427-95b0-b067812906a1"
      },
      "execution_count": null,
      "outputs": [
        {
          "output_type": "stream",
          "name": "stdout",
          "text": [
            "Epoch 1/20\n",
            "8427/8427 [==============================] - 150s 16ms/step - loss: 0.2067 - accuracy: 0.9241\n",
            "Epoch 2/20\n",
            "8427/8427 [==============================] - 133s 16ms/step - loss: 0.1640 - accuracy: 0.9395\n",
            "Epoch 3/20\n",
            "8427/8427 [==============================] - 131s 15ms/step - loss: 0.1292 - accuracy: 0.9523\n",
            "Epoch 4/20\n",
            "8427/8427 [==============================] - 133s 16ms/step - loss: 0.1011 - accuracy: 0.9644\n",
            "Epoch 5/20\n",
            "8427/8427 [==============================] - 132s 16ms/step - loss: 0.0808 - accuracy: 0.9721\n",
            "Epoch 6/20\n",
            "8427/8427 [==============================] - 133s 16ms/step - loss: 0.0715 - accuracy: 0.9757\n",
            "Epoch 7/20\n",
            "8427/8427 [==============================] - 140s 17ms/step - loss: 0.0614 - accuracy: 0.9788\n",
            "Epoch 8/20\n",
            "8427/8427 [==============================] - 134s 16ms/step - loss: 0.0528 - accuracy: 0.9822\n",
            "Epoch 9/20\n",
            "8427/8427 [==============================] - 131s 16ms/step - loss: 0.0479 - accuracy: 0.9836\n",
            "Epoch 10/20\n",
            "8427/8427 [==============================] - 134s 16ms/step - loss: 0.0424 - accuracy: 0.9855\n",
            "Epoch 11/20\n",
            "8427/8427 [==============================] - 132s 16ms/step - loss: 0.0406 - accuracy: 0.9866\n",
            "Epoch 12/20\n",
            "8427/8427 [==============================] - 137s 16ms/step - loss: 0.0396 - accuracy: 0.9868\n",
            "Epoch 13/20\n",
            "8427/8427 [==============================] - 144s 17ms/step - loss: 0.0368 - accuracy: 0.9875\n",
            "Epoch 14/20\n",
            "8427/8427 [==============================] - 136s 16ms/step - loss: 0.0338 - accuracy: 0.9886\n",
            "Epoch 15/20\n",
            "8427/8427 [==============================] - 134s 16ms/step - loss: 0.0322 - accuracy: 0.9893\n",
            "Epoch 16/20\n",
            "8427/8427 [==============================] - 132s 16ms/step - loss: 0.0303 - accuracy: 0.9898\n",
            "Epoch 17/20\n",
            "8427/8427 [==============================] - 133s 16ms/step - loss: 0.0306 - accuracy: 0.9898\n",
            "Epoch 18/20\n",
            "8427/8427 [==============================] - 139s 16ms/step - loss: 0.0286 - accuracy: 0.9905\n",
            "Epoch 19/20\n",
            "8427/8427 [==============================] - 132s 16ms/step - loss: 0.0282 - accuracy: 0.9906\n",
            "Epoch 20/20\n",
            "8427/8427 [==============================] - 133s 16ms/step - loss: 0.0269 - accuracy: 0.9911\n"
          ]
        },
        {
          "output_type": "stream",
          "name": "stderr",
          "text": [
            "/usr/local/lib/python3.10/dist-packages/keras/src/engine/training.py:3103: UserWarning: You are saving your model as an HDF5 file via `model.save()`. This file format is considered legacy. We recommend using instead the native Keras format, e.g. `model.save('my_model.keras')`.\n",
            "  saving_api.save_model(\n"
          ]
        }
      ]
    },
    {
      "cell_type": "code",
      "source": [
        "# Evaluate the model on the test set\n",
        "Test_accuracy = model_combined_gru_lstm.evaluate([X_test_features, X_test_time], y_test)[1]\n"
      ],
      "metadata": {
        "colab": {
          "base_uri": "https://localhost:8080/"
        },
        "id": "Ea0TLdb-Qlmy",
        "outputId": "9017ab11-c290-4692-82ae-3f4de0c7bf72"
      },
      "execution_count": null,
      "outputs": [
        {
          "output_type": "stream",
          "name": "stdout",
          "text": [
            "4740/4740 [==============================] - 31s 6ms/step - loss: 0.0188 - accuracy: 0.9930\n"
          ]
        }
      ]
    },
    {
      "cell_type": "code",
      "source": [
        "# Print the final training accuracy\n",
        "print(\"Final Training Accuracy model_combined_gru_lstm:\", history_model_lstm_gru_combined.history['accuracy'][-1])\n",
        "print(\"Final Testing Accuracy model_combined_gru_lstm:\", Test_accuracy)"
      ],
      "metadata": {
        "colab": {
          "base_uri": "https://localhost:8080/"
        },
        "id": "GQ94f4IOdseG",
        "outputId": "74971acf-ab37-456a-8bda-eb4daf649a4e"
      },
      "execution_count": null,
      "outputs": [
        {
          "output_type": "stream",
          "name": "stdout",
          "text": [
            "Final Training Accuracy model_combined_gru_lstm: 0.9911303520202637\n",
            "Final Testing Accuracy model_combined_gru_lstm: 0.9930245280265808\n"
          ]
        }
      ]
    },
    {
      "cell_type": "markdown",
      "source": [
        "# **Combined BiLSTM and TCN - Fire Detection**"
      ],
      "metadata": {
        "id": "X2H67uxwodn1"
      }
    },
    {
      "cell_type": "code",
      "source": [
        "import numpy as np\n",
        "import pandas as pd\n",
        "from sklearn.model_selection import train_test_split\n",
        "from sklearn.preprocessing import StandardScaler\n",
        "from tensorflow import keras\n",
        "from tensorflow.keras import layers\n",
        "from tcn import TCN\n",
        "\n",
        "\n",
        "# Define the BiLSTM with TCN model\n",
        "def create_bilstm_tcn_model(input_shape, time_sequence_shape):\n",
        "    features_input = layers.Input(shape=input_shape, name='features_input_updated')\n",
        "    time_sequence_input = layers.Input(shape=time_sequence_shape, name='time_input_updated')\n",
        "\n",
        "    # Bidirectional LSTM layer\n",
        "    lstm_out = layers.Bidirectional(layers.LSTM(64, return_sequences=True))(features_input)\n",
        "\n",
        "    # Convolutional layer\n",
        "    conv_out = layers.Conv1D(filters=32, kernel_size=3, activation='relu', padding='same')(lstm_out)\n",
        "    conv_out = layers.BatchNormalization()(conv_out)\n",
        "    conv_out = layers.Activation('relu')(conv_out)\n",
        "\n",
        "    # TCN layer\n",
        "    tcn_out = TCN(nb_filters=64, kernel_size=2, dilations=[1, 2, 4, 8, 16, 32], return_sequences=True)(conv_out)\n",
        "    tcn_out = layers.GlobalMaxPooling1D()(tcn_out)\n",
        "\n",
        "    # Concatenate with time sequence\n",
        "    combined = layers.concatenate([tcn_out, time_sequence_input])\n",
        "\n",
        "    # Dense layers\n",
        "    dense_out = layers.Dense(64, activation='relu')(combined)\n",
        "    output = layers.Dense(1, activation='sigmoid', name='output')(dense_out)\n",
        "\n",
        "    model_TCN_biLSTM_combined = keras.Model(inputs=[features_input, time_sequence_input], outputs=output)\n",
        "    model_TCN_biLSTM_combined.compile(optimizer='adam', loss='binary_crossentropy', metrics=['accuracy'])\n",
        "    return model_TCN_biLSTM_combined\n",
        "\n",
        "# Create and compile the model\n",
        "model_TCN_biLSTM_combined = create_bilstm_tcn_model((X_train_features.shape[1], 1), (1,))\n",
        "\n",
        "# Train the model\n",
        "history_TCN_biLSTM_combined = model_TCN_biLSTM_combined.fit([X_train_features, X_train_time], y_train, epochs=15, batch_size=42)\n",
        "\n",
        "# Save the model\n",
        "model_name = 'BiLSTM_TCN_Combined_FireDetection.h5'\n",
        "\n",
        "# Save the model to Google Drive with the custom name\n",
        "model_TCN_biLSTM_combined.save(model_directory + model_name)"
      ],
      "metadata": {
        "colab": {
          "base_uri": "https://localhost:8080/"
        },
        "id": "gT1E0bHmge2y",
        "outputId": "20be8964-5e5b-4a46-efae-0d32cb837231"
      },
      "execution_count": null,
      "outputs": [
        {
          "output_type": "stream",
          "name": "stdout",
          "text": [
            "Epoch 1/15\n",
            "8427/8427 [==============================] - 492s 57ms/step - loss: 0.1556 - accuracy: 0.9398\n",
            "Epoch 2/15\n",
            "8427/8427 [==============================] - 476s 56ms/step - loss: 0.0641 - accuracy: 0.9759\n",
            "Epoch 3/15\n",
            "8427/8427 [==============================] - 470s 56ms/step - loss: 0.0463 - accuracy: 0.9830\n",
            "Epoch 4/15\n",
            "8427/8427 [==============================] - 476s 57ms/step - loss: 0.0389 - accuracy: 0.9858\n",
            "Epoch 5/15\n",
            "8427/8427 [==============================] - 473s 56ms/step - loss: 0.0341 - accuracy: 0.9875\n",
            "Epoch 6/15\n",
            "8427/8427 [==============================] - 458s 54ms/step - loss: 0.0310 - accuracy: 0.9885\n",
            "Epoch 7/15\n",
            "8427/8427 [==============================] - 445s 53ms/step - loss: 0.0285 - accuracy: 0.9894\n",
            "Epoch 8/15\n",
            "8427/8427 [==============================] - 438s 52ms/step - loss: 0.0267 - accuracy: 0.9900\n",
            "Epoch 9/15\n",
            "8427/8427 [==============================] - 440s 52ms/step - loss: 0.0254 - accuracy: 0.9906\n",
            "Epoch 10/15\n",
            "8427/8427 [==============================] - 465s 55ms/step - loss: 0.0242 - accuracy: 0.9910\n",
            "Epoch 11/15\n",
            "8427/8427 [==============================] - 478s 57ms/step - loss: 0.0234 - accuracy: 0.9913\n",
            "Epoch 12/15\n",
            "8427/8427 [==============================] - 478s 57ms/step - loss: 0.0224 - accuracy: 0.9916\n",
            "Epoch 13/15\n",
            "8427/8427 [==============================] - 479s 57ms/step - loss: 0.0215 - accuracy: 0.9919\n",
            "Epoch 14/15\n",
            "8427/8427 [==============================] - 481s 57ms/step - loss: 0.0210 - accuracy: 0.9921\n",
            "Epoch 15/15\n",
            "8427/8427 [==============================] - 482s 57ms/step - loss: 0.0202 - accuracy: 0.9925\n"
          ]
        }
      ]
    },
    {
      "cell_type": "code",
      "source": [
        "# Evaluate the model on the test set\n",
        "Test_accuracy = model_TCN_biLSTM_combined.evaluate([X_test_features, X_test_time], y_test)[1]\n",
        "print(f'Test Accuracy TCN_biLSTM_combined: {Test_accuracy}')"
      ],
      "metadata": {
        "colab": {
          "base_uri": "https://localhost:8080/"
        },
        "id": "FnVXA7NOkRqj",
        "outputId": "a3a66ab9-b4a6-46e5-9393-a028dbeb4fa5"
      },
      "execution_count": null,
      "outputs": [
        {
          "output_type": "stream",
          "name": "stdout",
          "text": [
            "4740/4740 [==============================] - 82s 17ms/step - loss: 0.0263 - accuracy: 0.9902\n",
            "Test Accuracy TCN_biLSTM_combined: 0.9902092814445496\n"
          ]
        }
      ]
    },
    {
      "cell_type": "code",
      "source": [
        "# Print the final training accuracy\n",
        "print(\"Final Training Accuracy history_TCN_biLSTM_combined:\", history_TCN_biLSTM_combined.history['accuracy'][-1])"
      ],
      "metadata": {
        "colab": {
          "base_uri": "https://localhost:8080/"
        },
        "id": "1Jh3jt2wkT0d",
        "outputId": "ef86273a-d682-446c-f0e8-cc147b767b4d"
      },
      "execution_count": null,
      "outputs": [
        {
          "output_type": "stream",
          "name": "stdout",
          "text": [
            "Final Training Accuracy history_TCN_biLSTM_combined: 0.9924668669700623\n"
          ]
        }
      ]
    },
    {
      "cell_type": "markdown",
      "source": [
        "# Final Results"
      ],
      "metadata": {
        "id": "HRtrULhdzZcY"
      }
    },
    {
      "cell_type": "markdown",
      "source": [
        "## TCN"
      ],
      "metadata": {
        "id": "VydLvF4Pe2tB"
      }
    },
    {
      "cell_type": "code",
      "source": [
        "from tensorflow.keras.utils import custom_object_scope\n",
        "from tcn import TCN\n",
        "from tensorflow.keras.models import load_model\n",
        "from sklearn.metrics import accuracy_score, precision_score, recall_score, f1_score\n",
        "import numpy as np\n",
        "\n",
        "\n",
        "with custom_object_scope({'TCN': TCN}):\n",
        "    Loaded_model_tcn = load_model(model_directory+'TCN_FireDetection.h5')\n",
        "\n",
        "\n",
        "# Evaluate the model on the validation data\n",
        "loss, accuracy = Loaded_model_tcn.evaluate({'input_sequence': X_val_sequence, 'input_features': X_val_features}, y_val, verbose=0)\n",
        "\n",
        "# Make predictions on the validation data\n",
        "y_pred_proba = Loaded_model_tcn.predict({'input_sequence': X_val_sequence, 'input_features': X_val_features})\n",
        "y_pred = (y_pred_proba > 0.5).astype(\"int32\")  # Converting probabilities to class labels for binary classification\n",
        "\n",
        "# Calculate precision, recall, and F1-score\n",
        "precision = precision_score(y_val, y_pred)\n",
        "recall = recall_score(y_val, y_pred)\n",
        "f1 = f1_score(y_val, y_pred)\n",
        "\n",
        "print(f\"Loss: {loss}\")\n",
        "print(f\"Accuracy: {accuracy}\")\n",
        "print(f\"Precision: {precision}\")\n",
        "print(f\"Recall: {recall}\")\n",
        "print(f\"F1-Score: {f1}\")"
      ],
      "metadata": {
        "colab": {
          "base_uri": "https://localhost:8080/"
        },
        "id": "ToFIwjeuzjWW",
        "outputId": "f61e13b4-4e32-4064-e36d-ff1797c034fc"
      },
      "execution_count": null,
      "outputs": [
        {
          "output_type": "stream",
          "name": "stdout",
          "text": [
            "3160/3160 [==============================] - 20s 6ms/step\n",
            "Loss: 0.15619231760501862\n",
            "Accuracy: 0.9400985240936279\n",
            "Precision: 0.9452534232577151\n",
            "Recall: 0.9043382622510082\n",
            "F1-Score: 0.9243432968185964\n"
          ]
        }
      ]
    },
    {
      "cell_type": "code",
      "source": [
        "c"
      ],
      "metadata": {
        "id": "KV6neHGzYq95"
      },
      "execution_count": null,
      "outputs": []
    },
    {
      "cell_type": "markdown",
      "source": [
        "## LSTM"
      ],
      "metadata": {
        "id": "LXnU904QRBg6"
      }
    },
    {
      "cell_type": "code",
      "source": [
        "from tensorflow.keras.models import load_model\n",
        "from sklearn.metrics import accuracy_score, precision_score, recall_score, f1_score\n",
        "import numpy as np\n",
        "\n",
        "# Assuming you have already defined or loaded X_val_sequence, X_val_features, and y_val\n",
        "\n",
        "# Load the saved model\n",
        "model_lstm  = load_model(model_directory+'LSTM_FireDetection.h5')\n",
        "\n",
        "# Ensure the validation data is correctly shaped and normalized (if necessary)\n",
        "X_val_sequence = X_val_sequence.reshape(-1, X_val_sequence.shape[1], 1)\n",
        "X_val_features = X_val_features.reshape(-1, X_val_features.shape[1])\n",
        "\n",
        "# Evaluate the model on the validation data\n",
        "loss, accuracy = model_lstm.evaluate({'input_sequence': X_val_sequence, 'input_features': X_val_features}, y_val, verbose=0)\n",
        "\n",
        "# Make predictions on the validation data\n",
        "y_pred_proba = model_lstm.predict({'input_sequence': X_val_sequence, 'input_features': X_val_features})\n",
        "y_pred = (y_pred_proba > 0.5).astype(\"int32\")  # Converting probabilities to class labels for binary classification\n",
        "\n",
        "# Calculate precision, recall, and F1-score\n",
        "precision = precision_score(y_val, y_pred)\n",
        "recall = recall_score(y_val, y_pred)\n",
        "f1 = f1_score(y_val, y_pred)\n",
        "\n",
        "print(f\"Loss: {loss}\")\n",
        "print(f\"Accuracy: {accuracy}\")\n",
        "print(f\"Precision: {precision}\")\n",
        "print(f\"Recall: {recall}\")\n",
        "print(f\"F1-Score: {f1}\")\n"
      ],
      "metadata": {
        "colab": {
          "base_uri": "https://localhost:8080/"
        },
        "id": "mTDpF5yGQopA",
        "outputId": "b5ccec7e-db9c-4104-929e-c1df5e170f30"
      },
      "execution_count": null,
      "outputs": [
        {
          "output_type": "stream",
          "name": "stdout",
          "text": [
            "3160/3160 [==============================] - 6s 2ms/step\n",
            "Loss: 0.16974985599517822\n",
            "Accuracy: 0.9361624121665955\n",
            "Precision: 0.9124180190530902\n",
            "Recall: 0.9316632042038372\n",
            "F1-Score: 0.921940188407725\n"
          ]
        }
      ]
    },
    {
      "cell_type": "markdown",
      "source": [
        "## *GRU*"
      ],
      "metadata": {
        "id": "V2YmCiwISB2o"
      }
    },
    {
      "cell_type": "code",
      "source": [
        "from tensorflow.keras.models import load_model\n",
        "from sklearn.metrics import accuracy_score, precision_score, recall_score, f1_score\n",
        "import numpy as np\n",
        "\n",
        "# Assuming you have already defined or loaded X_val_sequence, X_val_features, and y_val\n",
        "\n",
        "# Load the saved model\n",
        "model_gru  = load_model(model_directory+'GRU_FireDetection.h5')\n",
        "\n",
        "# Ensure the validation data is correctly shaped and normalized (if necessary)\n",
        "X_val_sequence = X_val_sequence.reshape(-1, X_val_sequence.shape[1], 1)\n",
        "X_val_features = X_val_features.reshape(-1, X_val_features.shape[1])\n",
        "\n",
        "# Evaluate the model on the validation data\n",
        "loss, accuracy = model_gru.evaluate({'input_sequence': X_val_sequence, 'input_features': X_val_features}, y_val, verbose=0)\n",
        "\n",
        "# Make predictions on the validation data\n",
        "y_pred_proba = model_gru.predict({'input_sequence': X_val_sequence, 'input_features': X_val_features})\n",
        "y_pred = (y_pred_proba > 0.5).astype(\"int32\")  # Converting probabilities to class labels for binary classification\n",
        "\n",
        "# Calculate precision, recall, and F1-score\n",
        "precision = precision_score(y_val, y_pred)\n",
        "recall = recall_score(y_val, y_pred)\n",
        "f1 = f1_score(y_val, y_pred)\n",
        "\n",
        "print(f\"Loss: {loss}\")\n",
        "print(f\"Accuracy: {accuracy}\")\n",
        "print(f\"Precision: {precision}\")\n",
        "print(f\"Recall: {recall}\")\n",
        "print(f\"F1-Score: {f1}\")"
      ],
      "metadata": {
        "colab": {
          "base_uri": "https://localhost:8080/"
        },
        "id": "SXhVWLwlR9mJ",
        "outputId": "c2120c4a-7959-4dd3-a542-97f0f5df7b87"
      },
      "execution_count": null,
      "outputs": [
        {
          "output_type": "stream",
          "name": "stdout",
          "text": [
            "3160/3160 [==============================] - 7s 2ms/step\n",
            "Loss: 0.15974335372447968\n",
            "Accuracy: 0.939287543296814\n",
            "Precision: 0.9307158781273223\n",
            "Recall: 0.9183184651105951\n",
            "F1-Score: 0.9244756105062435\n"
          ]
        }
      ]
    },
    {
      "cell_type": "markdown",
      "source": [
        "## **BiLSTM**"
      ],
      "metadata": {
        "id": "HS29_SXzRL7v"
      }
    },
    {
      "cell_type": "code",
      "source": [
        "from tensorflow.keras.models import load_model\n",
        "from sklearn.metrics import accuracy_score, precision_score, recall_score, f1_score\n",
        "import numpy as np\n",
        "\n",
        "# Assuming you have already defined or loaded X_val_sequence, X_val_features, and y_val\n",
        "\n",
        "# Load the saved model\n",
        "model_bi_d_lstm  = load_model(model_directory+'Bi_LSTM_FireDetection.h5')\n",
        "\n",
        "\n",
        "# Evaluate the model on the validation data\n",
        "loss, accuracy = model_bi_d_lstm.evaluate({'input_sequence': X_val_sequence, 'input_features': X_val_features}, y_val, verbose=0)\n",
        "\n",
        "# Make predictions on the validation data\n",
        "y_pred_proba = model_bi_d_lstm.predict({'input_sequence': X_val_sequence, 'input_features': X_val_features})\n",
        "y_pred = (y_pred_proba > 0.5).astype(\"int32\")  # Converting probabilities to class labels for binary classification\n",
        "\n",
        "# Calculate precision, recall, and F1-score\n",
        "precision = precision_score(y_val, y_pred)\n",
        "recall = recall_score(y_val, y_pred)\n",
        "f1 = f1_score(y_val, y_pred)\n",
        "\n",
        "print(f\"Loss: {loss}\")\n",
        "print(f\"Accuracy: {accuracy}\")\n",
        "print(f\"Precision: {precision}\")\n",
        "print(f\"Recall: {recall}\")\n",
        "print(f\"F1-Score: {f1}\")"
      ],
      "metadata": {
        "colab": {
          "base_uri": "https://localhost:8080/"
        },
        "id": "WN7jzRmRDAXw",
        "outputId": "40149f95-9003-4dd7-94f7-53e8d80302f4"
      },
      "execution_count": null,
      "outputs": [
        {
          "output_type": "stream",
          "name": "stdout",
          "text": [
            "3160/3160 [==============================] - 7s 2ms/step\n",
            "Loss: 0.2547559440135956\n",
            "Accuracy: 0.9128229022026062\n",
            "Precision: 0.8557338534509509\n",
            "Recall: 0.9436392521080288\n",
            "F1-Score: 0.8975393163088582\n"
          ]
        }
      ]
    },
    {
      "cell_type": "markdown",
      "source": [
        "## Bi-LSTM_GRU-Combined"
      ],
      "metadata": {
        "id": "QQk8bm8BYn-P"
      }
    },
    {
      "cell_type": "code",
      "source": [
        "from tensorflow.keras.models import load_model\n",
        "from sklearn.metrics import accuracy_score, precision_score, recall_score, f1_score\n",
        "import numpy as np\n",
        "from sklearn.preprocessing import StandardScaler\n",
        "\n",
        "\n",
        "# Standardize the features\n",
        "scaler_features = StandardScaler()\n",
        "X_train_features = scaler_features.fit_transform(X_train_features)\n",
        "X_test_features = scaler_features.transform(X_test_features)\n",
        "\n",
        "# Standardize the time sequence\n",
        "scaler_time = StandardScaler()\n",
        "X_train_time = scaler_time.fit_transform(X_train_time.reshape(-1, 1))\n",
        "X_test_time = scaler_time.transform(X_test_time.reshape(-1, 1))\n",
        "\n",
        "# Load the saved model\n",
        "model_bi_d_lstm_gru  = load_model(model_directory+'BiLSTM_GRU_Combined_FireDetection_new.h5')\n",
        "\n",
        "# Evaluate the model on the validation data\n",
        "loss, accuracy = model_bi_d_lstm_gru.evaluate([X_test_features, X_test_time], y_test)\n",
        "\n",
        "# Make predictions on the validation data\n",
        "y_pred_proba = model_bi_d_lstm_gru.predict([X_test_features, X_test_time])\n",
        "y_pred = (y_pred_proba > 0.5).astype(\"int32\")  # Converting probabilities to class labels for binary classification\n",
        "\n",
        "# Calculate precision, recall, and F1-score\n",
        "precision = precision_score(y_test, y_pred)\n",
        "recall = recall_score(y_test, y_pred)\n",
        "f1 = f1_score(y_test, y_pred)\n",
        "\n",
        "print(f\"Loss: {loss}\")\n",
        "print(f\"Accuracy: {accuracy}\")\n",
        "print(f\"Precision: {precision}\")\n",
        "print(f\"Recall: {recall}\")\n",
        "print(f\"F1-Score: {f1}\")"
      ],
      "metadata": {
        "colab": {
          "base_uri": "https://localhost:8080/"
        },
        "id": "NG1LlIfmXUuI",
        "outputId": "7050d50e-484a-4067-a38f-ee2cdbf762a1"
      },
      "execution_count": null,
      "outputs": [
        {
          "output_type": "stream",
          "name": "stdout",
          "text": [
            "4740/4740 [==============================] - 32s 6ms/step - loss: 0.0188 - accuracy: 0.9930\n",
            "4740/4740 [==============================] - 29s 6ms/step\n",
            "Loss: 0.018762169405817986\n",
            "Accuracy: 0.9930245280265808\n",
            "Precision: 0.9914238378325699\n",
            "Recall: 0.991391632016632\n",
            "F1-Score: 0.99140773466305\n"
          ]
        }
      ]
    },
    {
      "cell_type": "markdown",
      "source": [
        "# ROC Curve"
      ],
      "metadata": {
        "id": "Oa0N9hcwnRjG"
      }
    },
    {
      "cell_type": "code",
      "source": [
        "import tensorflow as tf\n",
        "from sklearn.metrics import roc_curve, auc\n",
        "import matplotlib.pyplot as plt\n",
        "\n",
        "# Define the directory in Google Drive to save the model\n",
        "model_directory = '/content/drive/MyDrive/Forest_Fire_Data/saved_models'\n",
        "\n",
        "# Load the saved models\n",
        "model_paths = [\n",
        "    'BiLSTM_GRU_Combined_FireDetection_new.h5',\n",
        "    'Bi_LSTM_FireDetection.h5',\n",
        "    'GRU_FireDetection.h5',\n",
        "    'LSTM_FireDetection.h5',\n",
        "    'TCN_FireDetection.h55'\n",
        "]\n",
        "\n",
        "\n",
        "models = [tf.keras.models.load_model(model_directory+model_path) for model_path in model_paths]\n",
        "\n"
      ],
      "metadata": {
        "colab": {
          "base_uri": "https://localhost:8080/",
          "height": 339
        },
        "id": "EKEvOWGlnZC7",
        "outputId": "e8c1cd25-5481-4447-eaa2-ba3e5d39a5ca"
      },
      "execution_count": null,
      "outputs": [
        {
          "output_type": "error",
          "ename": "OSError",
          "evalue": "No file or directory found at /content/drive/MyDrive/Forest_Fire_Data/saved_modelsBiLSTM_GRU_Combined_FireDetection_new.h5",
          "traceback": [
            "\u001b[0;31m---------------------------------------------------------------------------\u001b[0m",
            "\u001b[0;31mOSError\u001b[0m                                   Traceback (most recent call last)",
            "\u001b[0;32m<ipython-input-2-eab1fcba41cc>\u001b[0m in \u001b[0;36m<cell line: 18>\u001b[0;34m()\u001b[0m\n\u001b[1;32m     16\u001b[0m \u001b[0;34m\u001b[0m\u001b[0m\n\u001b[1;32m     17\u001b[0m \u001b[0;34m\u001b[0m\u001b[0m\n\u001b[0;32m---> 18\u001b[0;31m \u001b[0mmodels\u001b[0m \u001b[0;34m=\u001b[0m \u001b[0;34m[\u001b[0m\u001b[0mtf\u001b[0m\u001b[0;34m.\u001b[0m\u001b[0mkeras\u001b[0m\u001b[0;34m.\u001b[0m\u001b[0mmodels\u001b[0m\u001b[0;34m.\u001b[0m\u001b[0mload_model\u001b[0m\u001b[0;34m(\u001b[0m\u001b[0mmodel_directory\u001b[0m\u001b[0;34m+\u001b[0m\u001b[0mmodel_path\u001b[0m\u001b[0;34m)\u001b[0m \u001b[0;32mfor\u001b[0m \u001b[0mmodel_path\u001b[0m \u001b[0;32min\u001b[0m \u001b[0mmodel_paths\u001b[0m\u001b[0;34m]\u001b[0m\u001b[0;34m\u001b[0m\u001b[0;34m\u001b[0m\u001b[0m\n\u001b[0m\u001b[1;32m     19\u001b[0m \u001b[0;34m\u001b[0m\u001b[0m\n",
            "\u001b[0;32m<ipython-input-2-eab1fcba41cc>\u001b[0m in \u001b[0;36m<listcomp>\u001b[0;34m(.0)\u001b[0m\n\u001b[1;32m     16\u001b[0m \u001b[0;34m\u001b[0m\u001b[0m\n\u001b[1;32m     17\u001b[0m \u001b[0;34m\u001b[0m\u001b[0m\n\u001b[0;32m---> 18\u001b[0;31m \u001b[0mmodels\u001b[0m \u001b[0;34m=\u001b[0m \u001b[0;34m[\u001b[0m\u001b[0mtf\u001b[0m\u001b[0;34m.\u001b[0m\u001b[0mkeras\u001b[0m\u001b[0;34m.\u001b[0m\u001b[0mmodels\u001b[0m\u001b[0;34m.\u001b[0m\u001b[0mload_model\u001b[0m\u001b[0;34m(\u001b[0m\u001b[0mmodel_directory\u001b[0m\u001b[0;34m+\u001b[0m\u001b[0mmodel_path\u001b[0m\u001b[0;34m)\u001b[0m \u001b[0;32mfor\u001b[0m \u001b[0mmodel_path\u001b[0m \u001b[0;32min\u001b[0m \u001b[0mmodel_paths\u001b[0m\u001b[0;34m]\u001b[0m\u001b[0;34m\u001b[0m\u001b[0;34m\u001b[0m\u001b[0m\n\u001b[0m\u001b[1;32m     19\u001b[0m \u001b[0;34m\u001b[0m\u001b[0m\n",
            "\u001b[0;32m/usr/local/lib/python3.10/dist-packages/keras/src/saving/saving_api.py\u001b[0m in \u001b[0;36mload_model\u001b[0;34m(filepath, custom_objects, compile, safe_mode, **kwargs)\u001b[0m\n\u001b[1;32m    260\u001b[0m \u001b[0;34m\u001b[0m\u001b[0m\n\u001b[1;32m    261\u001b[0m     \u001b[0;31m# Legacy case.\u001b[0m\u001b[0;34m\u001b[0m\u001b[0;34m\u001b[0m\u001b[0m\n\u001b[0;32m--> 262\u001b[0;31m     return legacy_sm_saving_lib.load_model(\n\u001b[0m\u001b[1;32m    263\u001b[0m         \u001b[0mfilepath\u001b[0m\u001b[0;34m,\u001b[0m \u001b[0mcustom_objects\u001b[0m\u001b[0;34m=\u001b[0m\u001b[0mcustom_objects\u001b[0m\u001b[0;34m,\u001b[0m \u001b[0mcompile\u001b[0m\u001b[0;34m=\u001b[0m\u001b[0mcompile\u001b[0m\u001b[0;34m,\u001b[0m \u001b[0;34m**\u001b[0m\u001b[0mkwargs\u001b[0m\u001b[0;34m\u001b[0m\u001b[0;34m\u001b[0m\u001b[0m\n\u001b[1;32m    264\u001b[0m     )\n",
            "\u001b[0;32m/usr/local/lib/python3.10/dist-packages/keras/src/utils/traceback_utils.py\u001b[0m in \u001b[0;36merror_handler\u001b[0;34m(*args, **kwargs)\u001b[0m\n\u001b[1;32m     68\u001b[0m             \u001b[0;31m# To get the full stack trace, call:\u001b[0m\u001b[0;34m\u001b[0m\u001b[0;34m\u001b[0m\u001b[0m\n\u001b[1;32m     69\u001b[0m             \u001b[0;31m# `tf.debugging.disable_traceback_filtering()`\u001b[0m\u001b[0;34m\u001b[0m\u001b[0;34m\u001b[0m\u001b[0m\n\u001b[0;32m---> 70\u001b[0;31m             \u001b[0;32mraise\u001b[0m \u001b[0me\u001b[0m\u001b[0;34m.\u001b[0m\u001b[0mwith_traceback\u001b[0m\u001b[0;34m(\u001b[0m\u001b[0mfiltered_tb\u001b[0m\u001b[0;34m)\u001b[0m \u001b[0;32mfrom\u001b[0m \u001b[0;32mNone\u001b[0m\u001b[0;34m\u001b[0m\u001b[0;34m\u001b[0m\u001b[0m\n\u001b[0m\u001b[1;32m     71\u001b[0m         \u001b[0;32mfinally\u001b[0m\u001b[0;34m:\u001b[0m\u001b[0;34m\u001b[0m\u001b[0;34m\u001b[0m\u001b[0m\n\u001b[1;32m     72\u001b[0m             \u001b[0;32mdel\u001b[0m \u001b[0mfiltered_tb\u001b[0m\u001b[0;34m\u001b[0m\u001b[0;34m\u001b[0m\u001b[0m\n",
            "\u001b[0;32m/usr/local/lib/python3.10/dist-packages/keras/src/saving/legacy/save.py\u001b[0m in \u001b[0;36mload_model\u001b[0;34m(filepath, custom_objects, compile, options)\u001b[0m\n\u001b[1;32m    232\u001b[0m                     \u001b[0;32mif\u001b[0m \u001b[0misinstance\u001b[0m\u001b[0;34m(\u001b[0m\u001b[0mfilepath_str\u001b[0m\u001b[0;34m,\u001b[0m \u001b[0mstr\u001b[0m\u001b[0;34m)\u001b[0m\u001b[0;34m:\u001b[0m\u001b[0;34m\u001b[0m\u001b[0;34m\u001b[0m\u001b[0m\n\u001b[1;32m    233\u001b[0m                         \u001b[0;32mif\u001b[0m \u001b[0;32mnot\u001b[0m \u001b[0mtf\u001b[0m\u001b[0;34m.\u001b[0m\u001b[0mio\u001b[0m\u001b[0;34m.\u001b[0m\u001b[0mgfile\u001b[0m\u001b[0;34m.\u001b[0m\u001b[0mexists\u001b[0m\u001b[0;34m(\u001b[0m\u001b[0mfilepath_str\u001b[0m\u001b[0;34m)\u001b[0m\u001b[0;34m:\u001b[0m\u001b[0;34m\u001b[0m\u001b[0;34m\u001b[0m\u001b[0m\n\u001b[0;32m--> 234\u001b[0;31m                             raise IOError(\n\u001b[0m\u001b[1;32m    235\u001b[0m                                 \u001b[0;34mf\"No file or directory found at {filepath_str}\"\u001b[0m\u001b[0;34m\u001b[0m\u001b[0;34m\u001b[0m\u001b[0m\n\u001b[1;32m    236\u001b[0m                             )\n",
            "\u001b[0;31mOSError\u001b[0m: No file or directory found at /content/drive/MyDrive/Forest_Fire_Data/saved_modelsBiLSTM_GRU_Combined_FireDetection_new.h5"
          ]
        }
      ]
    },
    {
      "cell_type": "code",
      "source": [
        "# Prepare your test data\n",
        "# Replace 'X_test' and 'y_test' with your actual test data and labels\n",
        "X_test = ...\n",
        "y_test = ...\n",
        "\n",
        "plt.figure()\n",
        "\n",
        "# Colors for different models\n",
        "colors = ['darkorange', 'blue', 'green', 'red', 'purple']\n",
        "\n",
        "for i, model in enumerate(models):\n",
        "    # Predict probabilities\n",
        "    y_pred_prob = model.predict(X_test)\n",
        "\n",
        "    # Compute ROC curve and ROC area\n",
        "    fpr, tpr, _ = roc_curve(y_test, y_pred_prob)\n",
        "    roc_auc = auc(fpr, tpr)\n",
        "\n",
        "    # Plot ROC curve\n",
        "    plt.plot(fpr, tpr, color=colors[i], lw=2, label=f'Model {i+1} (area = {roc_auc:.2f})')\n",
        "\n",
        "# Plot the diagonal line\n",
        "plt.plot([0, 1], [0, 1], color='navy', lw=2, linestyle='--')\n",
        "\n",
        "plt.xlim([0.0, 1.0])\n",
        "plt.ylim([0.0, 1.05])\n",
        "plt.xlabel('False Positive Rate')\n",
        "plt.ylabel('True Positive Rate')\n",
        "plt.title('Receiver Operating Characteristic')\n",
        "plt.legend(loc=\"lower right\")\n",
        "plt.show()\n"
      ],
      "metadata": {
        "id": "uBp5mW4ooc7O"
      },
      "execution_count": null,
      "outputs": []
    }
  ]
}