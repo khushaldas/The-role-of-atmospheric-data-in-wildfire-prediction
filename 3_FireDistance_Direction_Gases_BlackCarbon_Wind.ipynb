{
  "cells": [
    {
      "cell_type": "code",
      "execution_count": null,
      "metadata": {
        "colab": {
          "base_uri": "https://localhost:8080/"
        },
        "id": "pDo0zns9E23a",
        "outputId": "f3036705-5117-4b9a-dab3-52870e8ca15f"
      },
      "outputs": [
        {
          "output_type": "stream",
          "name": "stdout",
          "text": [
            "Mounted at /content/drive\n"
          ]
        }
      ],
      "source": [
        "from google.colab import drive\n",
        "drive.mount('/content/drive')"
      ]
    },
    {
      "cell_type": "markdown",
      "metadata": {
        "id": "uUZ5jJpHv_qu"
      },
      "source": [
        "# **Data Labeling**"
      ]
    },
    {
      "cell_type": "code",
      "execution_count": null,
      "metadata": {
        "id": "Wqyhf-El-TrG"
      },
      "outputs": [],
      "source": [
        "import pandas as pd\n",
        "meteo_bc_gases_excel_file_path = '/content/drive/MyDrive/Forest_Fire_Data/updated/Gases_BC_Meteo_Merged_Final.csv'\n",
        "\n",
        "meteo_bc_gases_data = pd.read_csv(meteo_bc_gases_excel_file_path)"
      ]
    },
    {
      "cell_type": "code",
      "execution_count": null,
      "metadata": {
        "id": "fJDvewCFDnts"
      },
      "outputs": [],
      "source": [
        "# Remove rows where values in 'fireOccFlag' are equal to 0\n",
        "meteo_bc_gases_data_FireOccurance = meteo_bc_gases_data.loc[meteo_bc_gases_data['fireOccFlag'] != 0]\n",
        "\n",
        "meteo_bc_gases_data_FireOccurance\n",
        "\n",
        "# Remove 'fireOccFlag' from the DataFrame\n",
        "meteo_bc_gases_data_FireOccurance = meteo_bc_gases_data_FireOccurance.drop('fireOccFlag', axis=1)"
      ]
    },
    {
      "cell_type": "code",
      "execution_count": null,
      "metadata": {
        "colab": {
          "base_uri": "https://localhost:8080/",
          "height": 495
        },
        "id": "HtZwtp0cEQOU",
        "outputId": "5a02c7e0-0e77-4799-d8af-8f6b38aa6193"
      },
      "outputs": [
        {
          "data": {
            "application/vnd.google.colaboratory.intrinsic+json": {
              "type": "dataframe",
              "variable_name": "meteo_bc_gases_data_FireOccurance"
            },
            "text/html": [
              "\n",
              "  <div id=\"df-5fcb5b1a-7728-49c5-8a01-31d9dacca3cd\" class=\"colab-df-container\">\n",
              "    <div>\n",
              "<style scoped>\n",
              "    .dataframe tbody tr th:only-of-type {\n",
              "        vertical-align: middle;\n",
              "    }\n",
              "\n",
              "    .dataframe tbody tr th {\n",
              "        vertical-align: top;\n",
              "    }\n",
              "\n",
              "    .dataframe thead th {\n",
              "        text-align: right;\n",
              "    }\n",
              "</style>\n",
              "<table border=\"1\" class=\"dataframe\">\n",
              "  <thead>\n",
              "    <tr style=\"text-align: right;\">\n",
              "      <th></th>\n",
              "      <th>start_time</th>\n",
              "      <th>WS_ave(m/s)</th>\n",
              "      <th>WD_ave(deg)</th>\n",
              "      <th>T_air(C)</th>\n",
              "      <th>RH(-)</th>\n",
              "      <th>P_air(hPa)</th>\n",
              "      <th>BC-mass-filter</th>\n",
              "      <th>BC-mass</th>\n",
              "      <th>BC-mass-from-trasm</th>\n",
              "      <th>CO_Calib</th>\n",
              "      <th>CO_sync_std</th>\n",
              "      <th>CO2_Calib</th>\n",
              "      <th>CO2_dry_sync_std</th>\n",
              "      <th>CH4_Calib</th>\n",
              "      <th>CH4_dry_sync_std</th>\n",
              "      <th>decimal_time</th>\n",
              "    </tr>\n",
              "  </thead>\n",
              "  <tbody>\n",
              "    <tr>\n",
              "      <th>79167</th>\n",
              "      <td>56.500000</td>\n",
              "      <td>2.5</td>\n",
              "      <td>274.0</td>\n",
              "      <td>14.8</td>\n",
              "      <td>69.7</td>\n",
              "      <td>1026.8</td>\n",
              "      <td>12.37085</td>\n",
              "      <td>0.82548</td>\n",
              "      <td>0.66334</td>\n",
              "      <td>174.660284</td>\n",
              "      <td>0.005908</td>\n",
              "      <td>423.806027</td>\n",
              "      <td>0.199252</td>\n",
              "      <td>1985.529691</td>\n",
              "      <td>0.000563</td>\n",
              "      <td>56.500000</td>\n",
              "    </tr>\n",
              "    <tr>\n",
              "      <th>79168</th>\n",
              "      <td>56.500694</td>\n",
              "      <td>4.2</td>\n",
              "      <td>270.0</td>\n",
              "      <td>14.8</td>\n",
              "      <td>69.2</td>\n",
              "      <td>1026.8</td>\n",
              "      <td>12.38485</td>\n",
              "      <td>0.83925</td>\n",
              "      <td>0.94066</td>\n",
              "      <td>174.554839</td>\n",
              "      <td>0.004516</td>\n",
              "      <td>423.401581</td>\n",
              "      <td>0.309431</td>\n",
              "      <td>1987.662455</td>\n",
              "      <td>0.002232</td>\n",
              "      <td>56.500694</td>\n",
              "    </tr>\n",
              "    <tr>\n",
              "      <th>79169</th>\n",
              "      <td>56.501389</td>\n",
              "      <td>4.0</td>\n",
              "      <td>273.0</td>\n",
              "      <td>14.8</td>\n",
              "      <td>68.5</td>\n",
              "      <td>1026.8</td>\n",
              "      <td>12.40480</td>\n",
              "      <td>1.19699</td>\n",
              "      <td>1.10536</td>\n",
              "      <td>173.579055</td>\n",
              "      <td>0.004121</td>\n",
              "      <td>423.854995</td>\n",
              "      <td>0.296770</td>\n",
              "      <td>1986.459649</td>\n",
              "      <td>0.001621</td>\n",
              "      <td>56.501389</td>\n",
              "    </tr>\n",
              "    <tr>\n",
              "      <th>79170</th>\n",
              "      <td>56.502083</td>\n",
              "      <td>4.6</td>\n",
              "      <td>267.0</td>\n",
              "      <td>14.7</td>\n",
              "      <td>69.0</td>\n",
              "      <td>1026.8</td>\n",
              "      <td>12.41841</td>\n",
              "      <td>0.81663</td>\n",
              "      <td>0.80009</td>\n",
              "      <td>176.533601</td>\n",
              "      <td>0.003901</td>\n",
              "      <td>424.434274</td>\n",
              "      <td>0.093598</td>\n",
              "      <td>1987.704095</td>\n",
              "      <td>0.001018</td>\n",
              "      <td>56.502083</td>\n",
              "    </tr>\n",
              "    <tr>\n",
              "      <th>79171</th>\n",
              "      <td>56.502778</td>\n",
              "      <td>4.0</td>\n",
              "      <td>273.0</td>\n",
              "      <td>14.6</td>\n",
              "      <td>69.2</td>\n",
              "      <td>1026.7</td>\n",
              "      <td>12.43380</td>\n",
              "      <td>0.92238</td>\n",
              "      <td>0.83927</td>\n",
              "      <td>176.976802</td>\n",
              "      <td>0.004630</td>\n",
              "      <td>423.839704</td>\n",
              "      <td>0.349614</td>\n",
              "      <td>1987.791667</td>\n",
              "      <td>0.000602</td>\n",
              "      <td>56.502778</td>\n",
              "    </tr>\n",
              "    <tr>\n",
              "      <th>...</th>\n",
              "      <td>...</td>\n",
              "      <td>...</td>\n",
              "      <td>...</td>\n",
              "      <td>...</td>\n",
              "      <td>...</td>\n",
              "      <td>...</td>\n",
              "      <td>...</td>\n",
              "      <td>...</td>\n",
              "      <td>...</td>\n",
              "      <td>...</td>\n",
              "      <td>...</td>\n",
              "      <td>...</td>\n",
              "      <td>...</td>\n",
              "      <td>...</td>\n",
              "      <td>...</td>\n",
              "      <td>...</td>\n",
              "    </tr>\n",
              "    <tr>\n",
              "      <th>484565</th>\n",
              "      <td>346.694444</td>\n",
              "      <td>6.6</td>\n",
              "      <td>306.0</td>\n",
              "      <td>13.6</td>\n",
              "      <td>47.4</td>\n",
              "      <td>1020.2</td>\n",
              "      <td>9.25548</td>\n",
              "      <td>0.19363</td>\n",
              "      <td>0.05258</td>\n",
              "      <td>132.147647</td>\n",
              "      <td>0.006600</td>\n",
              "      <td>423.649175</td>\n",
              "      <td>0.106303</td>\n",
              "      <td>2012.617890</td>\n",
              "      <td>0.001457</td>\n",
              "      <td>346.694444</td>\n",
              "    </tr>\n",
              "    <tr>\n",
              "      <th>484566</th>\n",
              "      <td>346.695139</td>\n",
              "      <td>7.5</td>\n",
              "      <td>301.0</td>\n",
              "      <td>13.7</td>\n",
              "      <td>48.0</td>\n",
              "      <td>1020.2</td>\n",
              "      <td>9.25817</td>\n",
              "      <td>0.16146</td>\n",
              "      <td>0.04262</td>\n",
              "      <td>131.419032</td>\n",
              "      <td>0.005775</td>\n",
              "      <td>423.637290</td>\n",
              "      <td>0.105854</td>\n",
              "      <td>2011.896636</td>\n",
              "      <td>0.001425</td>\n",
              "      <td>346.695139</td>\n",
              "    </tr>\n",
              "    <tr>\n",
              "      <th>484567</th>\n",
              "      <td>346.695833</td>\n",
              "      <td>8.1</td>\n",
              "      <td>303.0</td>\n",
              "      <td>13.7</td>\n",
              "      <td>48.2</td>\n",
              "      <td>1020.2</td>\n",
              "      <td>9.25970</td>\n",
              "      <td>0.09200</td>\n",
              "      <td>0.08198</td>\n",
              "      <td>129.281793</td>\n",
              "      <td>0.005290</td>\n",
              "      <td>423.588429</td>\n",
              "      <td>0.061358</td>\n",
              "      <td>2012.193527</td>\n",
              "      <td>0.001798</td>\n",
              "      <td>346.695833</td>\n",
              "    </tr>\n",
              "    <tr>\n",
              "      <th>484568</th>\n",
              "      <td>346.696528</td>\n",
              "      <td>8.7</td>\n",
              "      <td>294.0</td>\n",
              "      <td>13.7</td>\n",
              "      <td>49.3</td>\n",
              "      <td>1020.2</td>\n",
              "      <td>9.26344</td>\n",
              "      <td>0.22423</td>\n",
              "      <td>0.39801</td>\n",
              "      <td>132.560915</td>\n",
              "      <td>0.003593</td>\n",
              "      <td>423.676091</td>\n",
              "      <td>0.124119</td>\n",
              "      <td>2012.213564</td>\n",
              "      <td>0.001325</td>\n",
              "      <td>346.696528</td>\n",
              "    </tr>\n",
              "    <tr>\n",
              "      <th>484569</th>\n",
              "      <td>346.697222</td>\n",
              "      <td>8.7</td>\n",
              "      <td>301.0</td>\n",
              "      <td>13.7</td>\n",
              "      <td>48.2</td>\n",
              "      <td>1020.2</td>\n",
              "      <td>9.26607</td>\n",
              "      <td>0.15761</td>\n",
              "      <td>0.24828</td>\n",
              "      <td>133.649324</td>\n",
              "      <td>0.003378</td>\n",
              "      <td>423.775050</td>\n",
              "      <td>0.083963</td>\n",
              "      <td>2011.664629</td>\n",
              "      <td>0.001173</td>\n",
              "      <td>346.697222</td>\n",
              "    </tr>\n",
              "  </tbody>\n",
              "</table>\n",
              "<p>205590 rows × 16 columns</p>\n",
              "</div>\n",
              "    <div class=\"colab-df-buttons\">\n",
              "\n",
              "  <div class=\"colab-df-container\">\n",
              "    <button class=\"colab-df-convert\" onclick=\"convertToInteractive('df-5fcb5b1a-7728-49c5-8a01-31d9dacca3cd')\"\n",
              "            title=\"Convert this dataframe to an interactive table.\"\n",
              "            style=\"display:none;\">\n",
              "\n",
              "  <svg xmlns=\"http://www.w3.org/2000/svg\" height=\"24px\" viewBox=\"0 -960 960 960\">\n",
              "    <path d=\"M120-120v-720h720v720H120Zm60-500h600v-160H180v160Zm220 220h160v-160H400v160Zm0 220h160v-160H400v160ZM180-400h160v-160H180v160Zm440 0h160v-160H620v160ZM180-180h160v-160H180v160Zm440 0h160v-160H620v160Z\"/>\n",
              "  </svg>\n",
              "    </button>\n",
              "\n",
              "  <style>\n",
              "    .colab-df-container {\n",
              "      display:flex;\n",
              "      gap: 12px;\n",
              "    }\n",
              "\n",
              "    .colab-df-convert {\n",
              "      background-color: #E8F0FE;\n",
              "      border: none;\n",
              "      border-radius: 50%;\n",
              "      cursor: pointer;\n",
              "      display: none;\n",
              "      fill: #1967D2;\n",
              "      height: 32px;\n",
              "      padding: 0 0 0 0;\n",
              "      width: 32px;\n",
              "    }\n",
              "\n",
              "    .colab-df-convert:hover {\n",
              "      background-color: #E2EBFA;\n",
              "      box-shadow: 0px 1px 2px rgba(60, 64, 67, 0.3), 0px 1px 3px 1px rgba(60, 64, 67, 0.15);\n",
              "      fill: #174EA6;\n",
              "    }\n",
              "\n",
              "    .colab-df-buttons div {\n",
              "      margin-bottom: 4px;\n",
              "    }\n",
              "\n",
              "    [theme=dark] .colab-df-convert {\n",
              "      background-color: #3B4455;\n",
              "      fill: #D2E3FC;\n",
              "    }\n",
              "\n",
              "    [theme=dark] .colab-df-convert:hover {\n",
              "      background-color: #434B5C;\n",
              "      box-shadow: 0px 1px 3px 1px rgba(0, 0, 0, 0.15);\n",
              "      filter: drop-shadow(0px 1px 2px rgba(0, 0, 0, 0.3));\n",
              "      fill: #FFFFFF;\n",
              "    }\n",
              "  </style>\n",
              "\n",
              "    <script>\n",
              "      const buttonEl =\n",
              "        document.querySelector('#df-5fcb5b1a-7728-49c5-8a01-31d9dacca3cd button.colab-df-convert');\n",
              "      buttonEl.style.display =\n",
              "        google.colab.kernel.accessAllowed ? 'block' : 'none';\n",
              "\n",
              "      async function convertToInteractive(key) {\n",
              "        const element = document.querySelector('#df-5fcb5b1a-7728-49c5-8a01-31d9dacca3cd');\n",
              "        const dataTable =\n",
              "          await google.colab.kernel.invokeFunction('convertToInteractive',\n",
              "                                                    [key], {});\n",
              "        if (!dataTable) return;\n",
              "\n",
              "        const docLinkHtml = 'Like what you see? Visit the ' +\n",
              "          '<a target=\"_blank\" href=https://colab.research.google.com/notebooks/data_table.ipynb>data table notebook</a>'\n",
              "          + ' to learn more about interactive tables.';\n",
              "        element.innerHTML = '';\n",
              "        dataTable['output_type'] = 'display_data';\n",
              "        await google.colab.output.renderOutput(dataTable, element);\n",
              "        const docLink = document.createElement('div');\n",
              "        docLink.innerHTML = docLinkHtml;\n",
              "        element.appendChild(docLink);\n",
              "      }\n",
              "    </script>\n",
              "  </div>\n",
              "\n",
              "\n",
              "<div id=\"df-904a1046-65b2-4afd-8867-4af1826542f1\">\n",
              "  <button class=\"colab-df-quickchart\" onclick=\"quickchart('df-904a1046-65b2-4afd-8867-4af1826542f1')\"\n",
              "            title=\"Suggest charts\"\n",
              "            style=\"display:none;\">\n",
              "\n",
              "<svg xmlns=\"http://www.w3.org/2000/svg\" height=\"24px\"viewBox=\"0 0 24 24\"\n",
              "     width=\"24px\">\n",
              "    <g>\n",
              "        <path d=\"M19 3H5c-1.1 0-2 .9-2 2v14c0 1.1.9 2 2 2h14c1.1 0 2-.9 2-2V5c0-1.1-.9-2-2-2zM9 17H7v-7h2v7zm4 0h-2V7h2v10zm4 0h-2v-4h2v4z\"/>\n",
              "    </g>\n",
              "</svg>\n",
              "  </button>\n",
              "\n",
              "<style>\n",
              "  .colab-df-quickchart {\n",
              "      --bg-color: #E8F0FE;\n",
              "      --fill-color: #1967D2;\n",
              "      --hover-bg-color: #E2EBFA;\n",
              "      --hover-fill-color: #174EA6;\n",
              "      --disabled-fill-color: #AAA;\n",
              "      --disabled-bg-color: #DDD;\n",
              "  }\n",
              "\n",
              "  [theme=dark] .colab-df-quickchart {\n",
              "      --bg-color: #3B4455;\n",
              "      --fill-color: #D2E3FC;\n",
              "      --hover-bg-color: #434B5C;\n",
              "      --hover-fill-color: #FFFFFF;\n",
              "      --disabled-bg-color: #3B4455;\n",
              "      --disabled-fill-color: #666;\n",
              "  }\n",
              "\n",
              "  .colab-df-quickchart {\n",
              "    background-color: var(--bg-color);\n",
              "    border: none;\n",
              "    border-radius: 50%;\n",
              "    cursor: pointer;\n",
              "    display: none;\n",
              "    fill: var(--fill-color);\n",
              "    height: 32px;\n",
              "    padding: 0;\n",
              "    width: 32px;\n",
              "  }\n",
              "\n",
              "  .colab-df-quickchart:hover {\n",
              "    background-color: var(--hover-bg-color);\n",
              "    box-shadow: 0 1px 2px rgba(60, 64, 67, 0.3), 0 1px 3px 1px rgba(60, 64, 67, 0.15);\n",
              "    fill: var(--button-hover-fill-color);\n",
              "  }\n",
              "\n",
              "  .colab-df-quickchart-complete:disabled,\n",
              "  .colab-df-quickchart-complete:disabled:hover {\n",
              "    background-color: var(--disabled-bg-color);\n",
              "    fill: var(--disabled-fill-color);\n",
              "    box-shadow: none;\n",
              "  }\n",
              "\n",
              "  .colab-df-spinner {\n",
              "    border: 2px solid var(--fill-color);\n",
              "    border-color: transparent;\n",
              "    border-bottom-color: var(--fill-color);\n",
              "    animation:\n",
              "      spin 1s steps(1) infinite;\n",
              "  }\n",
              "\n",
              "  @keyframes spin {\n",
              "    0% {\n",
              "      border-color: transparent;\n",
              "      border-bottom-color: var(--fill-color);\n",
              "      border-left-color: var(--fill-color);\n",
              "    }\n",
              "    20% {\n",
              "      border-color: transparent;\n",
              "      border-left-color: var(--fill-color);\n",
              "      border-top-color: var(--fill-color);\n",
              "    }\n",
              "    30% {\n",
              "      border-color: transparent;\n",
              "      border-left-color: var(--fill-color);\n",
              "      border-top-color: var(--fill-color);\n",
              "      border-right-color: var(--fill-color);\n",
              "    }\n",
              "    40% {\n",
              "      border-color: transparent;\n",
              "      border-right-color: var(--fill-color);\n",
              "      border-top-color: var(--fill-color);\n",
              "    }\n",
              "    60% {\n",
              "      border-color: transparent;\n",
              "      border-right-color: var(--fill-color);\n",
              "    }\n",
              "    80% {\n",
              "      border-color: transparent;\n",
              "      border-right-color: var(--fill-color);\n",
              "      border-bottom-color: var(--fill-color);\n",
              "    }\n",
              "    90% {\n",
              "      border-color: transparent;\n",
              "      border-bottom-color: var(--fill-color);\n",
              "    }\n",
              "  }\n",
              "</style>\n",
              "\n",
              "  <script>\n",
              "    async function quickchart(key) {\n",
              "      const quickchartButtonEl =\n",
              "        document.querySelector('#' + key + ' button');\n",
              "      quickchartButtonEl.disabled = true;  // To prevent multiple clicks.\n",
              "      quickchartButtonEl.classList.add('colab-df-spinner');\n",
              "      try {\n",
              "        const charts = await google.colab.kernel.invokeFunction(\n",
              "            'suggestCharts', [key], {});\n",
              "      } catch (error) {\n",
              "        console.error('Error during call to suggestCharts:', error);\n",
              "      }\n",
              "      quickchartButtonEl.classList.remove('colab-df-spinner');\n",
              "      quickchartButtonEl.classList.add('colab-df-quickchart-complete');\n",
              "    }\n",
              "    (() => {\n",
              "      let quickchartButtonEl =\n",
              "        document.querySelector('#df-904a1046-65b2-4afd-8867-4af1826542f1 button');\n",
              "      quickchartButtonEl.style.display =\n",
              "        google.colab.kernel.accessAllowed ? 'block' : 'none';\n",
              "    })();\n",
              "  </script>\n",
              "</div>\n",
              "    </div>\n",
              "  </div>\n"
            ],
            "text/plain": [
              "        start_time  WS_ave(m/s)  WD_ave(deg)  T_air(C)  RH(-)  P_air(hPa)  \\\n",
              "79167    56.500000          2.5        274.0      14.8   69.7      1026.8   \n",
              "79168    56.500694          4.2        270.0      14.8   69.2      1026.8   \n",
              "79169    56.501389          4.0        273.0      14.8   68.5      1026.8   \n",
              "79170    56.502083          4.6        267.0      14.7   69.0      1026.8   \n",
              "79171    56.502778          4.0        273.0      14.6   69.2      1026.7   \n",
              "...            ...          ...          ...       ...    ...         ...   \n",
              "484565  346.694444          6.6        306.0      13.6   47.4      1020.2   \n",
              "484566  346.695139          7.5        301.0      13.7   48.0      1020.2   \n",
              "484567  346.695833          8.1        303.0      13.7   48.2      1020.2   \n",
              "484568  346.696528          8.7        294.0      13.7   49.3      1020.2   \n",
              "484569  346.697222          8.7        301.0      13.7   48.2      1020.2   \n",
              "\n",
              "        BC-mass-filter  BC-mass  BC-mass-from-trasm    CO_Calib  CO_sync_std  \\\n",
              "79167         12.37085  0.82548             0.66334  174.660284     0.005908   \n",
              "79168         12.38485  0.83925             0.94066  174.554839     0.004516   \n",
              "79169         12.40480  1.19699             1.10536  173.579055     0.004121   \n",
              "79170         12.41841  0.81663             0.80009  176.533601     0.003901   \n",
              "79171         12.43380  0.92238             0.83927  176.976802     0.004630   \n",
              "...                ...      ...                 ...         ...          ...   \n",
              "484565         9.25548  0.19363             0.05258  132.147647     0.006600   \n",
              "484566         9.25817  0.16146             0.04262  131.419032     0.005775   \n",
              "484567         9.25970  0.09200             0.08198  129.281793     0.005290   \n",
              "484568         9.26344  0.22423             0.39801  132.560915     0.003593   \n",
              "484569         9.26607  0.15761             0.24828  133.649324     0.003378   \n",
              "\n",
              "         CO2_Calib  CO2_dry_sync_std    CH4_Calib  CH4_dry_sync_std  \\\n",
              "79167   423.806027          0.199252  1985.529691          0.000563   \n",
              "79168   423.401581          0.309431  1987.662455          0.002232   \n",
              "79169   423.854995          0.296770  1986.459649          0.001621   \n",
              "79170   424.434274          0.093598  1987.704095          0.001018   \n",
              "79171   423.839704          0.349614  1987.791667          0.000602   \n",
              "...            ...               ...          ...               ...   \n",
              "484565  423.649175          0.106303  2012.617890          0.001457   \n",
              "484566  423.637290          0.105854  2011.896636          0.001425   \n",
              "484567  423.588429          0.061358  2012.193527          0.001798   \n",
              "484568  423.676091          0.124119  2012.213564          0.001325   \n",
              "484569  423.775050          0.083963  2011.664629          0.001173   \n",
              "\n",
              "        decimal_time  \n",
              "79167      56.500000  \n",
              "79168      56.500694  \n",
              "79169      56.501389  \n",
              "79170      56.502083  \n",
              "79171      56.502778  \n",
              "...              ...  \n",
              "484565    346.694444  \n",
              "484566    346.695139  \n",
              "484567    346.695833  \n",
              "484568    346.696528  \n",
              "484569    346.697222  \n",
              "\n",
              "[205590 rows x 16 columns]"
            ]
          },
          "execution_count": 4,
          "metadata": {},
          "output_type": "execute_result"
        }
      ],
      "source": [
        "meteo_bc_gases_data_FireOccurance"
      ]
    },
    {
      "cell_type": "code",
      "execution_count": null,
      "metadata": {
        "colab": {
          "base_uri": "https://localhost:8080/"
        },
        "id": "C7zDeZQ9_S4w",
        "outputId": "9b76c8a7-6b7c-4901-8f17-b2e929c80283"
      },
      "outputs": [
        {
          "name": "stderr",
          "output_type": "stream",
          "text": [
            "WARNING:fiona.ogrext:Failed to decode b\"INCENDIO BOSCO, STERPAGLIE, COLTURE - ALLE ORE 15.36 PERVENIVA SU LINEA 1515 SEGNALAZIONE DI INCENDIO BOSCHIVO, ALL'INTERNO DI UNA PINETA, IN LOC. CASTELLUZZO, NEI PRESSI DEL VILLAGGIO AZZURRANDA. GIRATA LA SEGNALAZIONE ALLA SOUP DI CATANZARO CHE \\xef\\xbf\\xbd GI\\xef\" using utf-8 codec\n"
          ]
        }
      ],
      "source": [
        "import geopandas as gpd\n",
        "\n",
        "shapefile_path = '/content/drive/MyDrive/Forest_Fire_Data/updated/Wildfires2021/WildFires 2021.shp'\n",
        "\n",
        "# Read the Shapefile using geopandas\n",
        "gdf = gpd.read_file(shapefile_path)"
      ]
    },
    {
      "cell_type": "code",
      "execution_count": null,
      "metadata": {
        "colab": {
          "base_uri": "https://localhost:8080/"
        },
        "id": "zymRMzjf_GPd",
        "outputId": "b393fe05-6e8f-42aa-f0a8-05bb757a4db6"
      },
      "outputs": [
        {
          "name": "stdout",
          "output_type": "stream",
          "text": [
            "  CodUff  Anno NumeProg CodiCate CodiSott CodiSpec CodiRegi CodiProv CodiComu  \\\n",
            "0  42811  2021        2        3      400        9       18      078      156   \n",
            "1  42810  2021        1        3      400        9       18      079      002   \n",
            "2  42754  2021        1        3      400        9       18      078      154   \n",
            "3  42777  2021        2        3      400        9       18      101      006   \n",
            "4  42758  2021        1        3      400        9       18      078      052   \n",
            "\n",
            "                      Localita  ... Allarme NoteInte UffPubb  \\\n",
            "0                      grimoli  ...       3     None   42805   \n",
            "1                Pian del Pero  ...       6     None   42805   \n",
            "2               FONTANA FICARA  ...       6     None   42746   \n",
            "3  BODINO - CASELLA DEL NOTARO  ...       3     None   42777   \n",
            "4                     DIAMANTE  ...       3     None   42746   \n",
            "\n",
            "                                            NoteAcce DurInt DataInRipr  \\\n",
            "0  Arrivati sulla zona l'incendio era in bonifica...  01:15       None   \n",
            "1                                               None  15:45       None   \n",
            "2          IL FUOCO INTERESSA BOSCO DI PINO D'ALEPPO  00:25       None   \n",
            "3                                               None  02:05       None   \n",
            "4                                               None  02:18       None   \n",
            "\n",
            "  OraInRipr DataFnRipr OraFnRipr  \\\n",
            "0      None       None      None   \n",
            "1      None       None      None   \n",
            "2      None       None      None   \n",
            "3      None       None      None   \n",
            "4      None       None      None   \n",
            "\n",
            "                                            geometry  \n",
            "0  POLYGON Z ((630470.757 4346090.264 -1797693134...  \n",
            "1  POLYGON Z ((637549.688 4322775.021 -1797693134...  \n",
            "2  POLYGON Z ((626604.050 4413525.633 -1797693134...  \n",
            "3  POLYGON Z ((656791.356 4345531.201 -1797693134...  \n",
            "4  POLYGON Z ((593783.811 4346834.812 -1797693134...  \n",
            "\n",
            "[5 rows x 61 columns]\n"
          ]
        }
      ],
      "source": [
        "# Drop columns with all NaN values\n",
        "gdf_filtered = gdf.dropna(axis=1, how='all')\n",
        "\n",
        "# Display the modified GeoDataFrame\n",
        "print(gdf_filtered.head())"
      ]
    },
    {
      "cell_type": "code",
      "execution_count": null,
      "metadata": {
        "colab": {
          "base_uri": "https://localhost:8080/"
        },
        "id": "5A-S3zwJOeKQ",
        "outputId": "f8a1166f-a951-4de5-ecf1-12321638af8b"
      },
      "outputs": [
        {
          "data": {
            "text/plain": [
              "<Projected CRS: EPSG:32633>\n",
              "Name: WGS 84 / UTM zone 33N\n",
              "Axis Info [cartesian]:\n",
              "- E[east]: Easting (metre)\n",
              "- N[north]: Northing (metre)\n",
              "Area of Use:\n",
              "- name: Between 12°E and 18°E, northern hemisphere between equator and 84°N, onshore and offshore. Austria. Bosnia and Herzegovina. Cameroon. Central African Republic. Chad. Congo. Croatia. Czechia. Democratic Republic of the Congo (Zaire). Gabon. Germany. Hungary. Italy. Libya. Malta. Niger. Nigeria. Norway. Poland. San Marino. Slovakia. Slovenia. Svalbard. Sweden. Vatican City State.\n",
              "- bounds: (12.0, 0.0, 18.0, 84.0)\n",
              "Coordinate Operation:\n",
              "- name: UTM zone 33N\n",
              "- method: Transverse Mercator\n",
              "Datum: World Geodetic System 1984 ensemble\n",
              "- Ellipsoid: WGS 84\n",
              "- Prime Meridian: Greenwich"
            ]
          },
          "execution_count": 7,
          "metadata": {},
          "output_type": "execute_result"
        }
      ],
      "source": [
        "gdf_filtered.crs"
      ]
    },
    {
      "cell_type": "code",
      "execution_count": null,
      "metadata": {
        "id": "xc2GofqLPEox"
      },
      "outputs": [],
      "source": [
        "# Reproject the GeoDataFrame to EPSG:4326 (WGS 84)\n",
        "gdf_filtered = gdf_filtered.to_crs(epsg=4326)"
      ]
    },
    {
      "cell_type": "code",
      "execution_count": null,
      "metadata": {
        "colab": {
          "base_uri": "https://localhost:8080/"
        },
        "id": "ytgxboPrPGm4",
        "outputId": "2f9571c4-9701-4129-efcc-5ff4b66ee8ae"
      },
      "outputs": [
        {
          "data": {
            "text/plain": [
              "<Geographic 2D CRS: EPSG:4326>\n",
              "Name: WGS 84\n",
              "Axis Info [ellipsoidal]:\n",
              "- Lat[north]: Geodetic latitude (degree)\n",
              "- Lon[east]: Geodetic longitude (degree)\n",
              "Area of Use:\n",
              "- name: World.\n",
              "- bounds: (-180.0, -90.0, 180.0, 90.0)\n",
              "Datum: World Geodetic System 1984 ensemble\n",
              "- Ellipsoid: WGS 84\n",
              "- Prime Meridian: Greenwich"
            ]
          },
          "execution_count": 9,
          "metadata": {},
          "output_type": "execute_result"
        }
      ],
      "source": [
        "gdf_filtered.crs"
      ]
    },
    {
      "cell_type": "code",
      "execution_count": null,
      "metadata": {
        "id": "M1tEMiOyQB5K"
      },
      "outputs": [],
      "source": [
        "# Create empty lists to store latitude and longitude values of centroids\n",
        "centroid_lats, centroid_lons = [], []\n",
        "\n",
        "# Iterate through each geometry in the GeoDataFrame\n",
        "for geometry in gdf_filtered['geometry']:\n",
        "    # Find the centroid of the geometry\n",
        "    centroid = geometry.centroid\n",
        "    # Extract latitude and longitude from the centroid\n",
        "    centroid_lat = centroid.y\n",
        "    centroid_lon = centroid.x\n",
        "\n",
        "    # Ensure that the latitude is within the valid range [-90, 90]\n",
        "    if -90 <= centroid_lat <= 90:\n",
        "        centroid_lats.append(centroid_lat)\n",
        "    if -180 <= centroid_lat <= 180:\n",
        "        centroid_lons.append(centroid_lon)\n",
        "\n",
        "gdf_filtered['Latitudes'] = centroid_lats\n",
        "gdf_filtered['Longitudes'] = centroid_lons"
      ]
    },
    {
      "cell_type": "code",
      "execution_count": null,
      "metadata": {
        "colab": {
          "base_uri": "https://localhost:8080/",
          "height": 930
        },
        "id": "JiUbwG9c_bg8",
        "outputId": "f2fe1506-1ac6-40d3-e514-b5935c6964d3"
      },
      "outputs": [
        {
          "data": {
            "image/png": "[encoded data removed]",
            "text/plain": [
              "<Figure size 1100x1100 with 1 Axes>"
            ]
          },
          "metadata": {},
          "output_type": "display_data"
        }
      ],
      "source": [
        "import matplotlib.pyplot as plt\n",
        "\n",
        "# Plot the GeoDataFrame\n",
        "ax = gdf_filtered.plot(edgecolor='black', linewidth=1.5, figsize=(11, 11))\n",
        "\n",
        "# Customize the plot\n",
        "ax.set_title('Wild Fire 2021')\n",
        "\n",
        "# Display the plot\n",
        "plt.show()"
      ]
    },
    {
      "cell_type": "code",
      "execution_count": null,
      "metadata": {
        "id": "MZJFe2_2A6a5"
      },
      "outputs": [],
      "source": [
        "#the latitude and longitude values where obseervatory recorded meteo 2021 data\n",
        "given_latitude = 38.87629818\n",
        "given_longitude =  16.23220074"
      ]
    },
    {
      "cell_type": "code",
      "execution_count": null,
      "metadata": {
        "id": "zVm12p4qQHh3"
      },
      "outputs": [],
      "source": [
        "import geopandas as gpd\n",
        "from shapely.geometry import Point\n",
        "import math\n",
        "\n",
        "\n",
        "# Function to calculate distance using Haversine formula\n",
        "def calculate_distance(row):\n",
        "    coords_1 = (given_latitude, given_longitude)\n",
        "    coords_2 = (row['Latitudes'], row['Longitudes'])\n",
        "    return geodesic(coords_1, coords_2).km\n",
        "\n",
        "\n",
        "# Function to calculate direction in 8 points\n",
        "def calculate_direction_8points(row):\n",
        "    lat1, lon1 = math.radians(given_latitude), math.radians(given_longitude)\n",
        "    lat2, lon2 = math.radians(row['Latitudes']), math.radians(row['Longitudes'])\n",
        "\n",
        "    d_lon = lon2 - lon1\n",
        "\n",
        "    x = math.sin(d_lon) * math.cos(lat2)\n",
        "    y = math.cos(lat1) * math.sin(lat2) - (math.sin(lat1) * math.cos(lat2) * math.cos(d_lon))\n",
        "\n",
        "    initial_bearing = math.atan2(x, y)\n",
        "\n",
        "    # Convert bearing from radians to degrees\n",
        "    initial_bearing = math.degrees(initial_bearing)\n",
        "\n",
        "    # Normalize the bearing to a compass bearing\n",
        "    compass_bearing = (initial_bearing + 360) % 360\n",
        "\n",
        "    # Define 8-point directions\n",
        "    directions = [\"North\", \"North-East\", \"East\", \"South-East\", \"South\", \"South-West\", \"West\", \"North-West\"]\n",
        "\n",
        "    # Calculate the index for the closest direction\n",
        "    direction_index = round(compass_bearing / 45) % 8\n",
        "\n",
        "    return directions[direction_index]\n"
      ]
    },
    {
      "cell_type": "code",
      "execution_count": null,
      "metadata": {
        "colab": {
          "base_uri": "https://localhost:8080/"
        },
        "id": "eKAMKqKWEevZ",
        "outputId": "34585a4e-2034-4975-e832-353b818d200d"
      },
      "outputs": [
        {
          "name": "stdout",
          "output_type": "stream",
          "text": [
            "Requirement already satisfied: geopy in /usr/local/lib/python3.10/dist-packages (2.3.0)\n",
            "Requirement already satisfied: geographiclib<3,>=1.52 in /usr/local/lib/python3.10/dist-packages (from geopy) (2.0)\n"
          ]
        }
      ],
      "source": [
        "pip install geopy"
      ]
    },
    {
      "cell_type": "code",
      "execution_count": null,
      "metadata": {
        "id": "MOTxu3XCThZz"
      },
      "outputs": [],
      "source": [
        "import geopy\n",
        "from geopy.distance import geodesic\n",
        "\n",
        "# Apply the modified function to create a new 'Direction_8points' column\n",
        "gdf_filtered['Direction_8points'] = gdf_filtered.apply(calculate_direction_8points, axis=1)\n",
        "\n",
        "# Create the 'Distance' column\n",
        "gdf_filtered['Distance'] = gdf_filtered.apply(calculate_distance, axis=1)"
      ]
    },
    {
      "cell_type": "code",
      "execution_count": null,
      "metadata": {
        "colab": {
          "base_uri": "https://localhost:8080/"
        },
        "id": "45mitk2ASemx",
        "outputId": "b7e6dde3-67cd-4c3a-9306-0b765f5f7688"
      },
      "outputs": [
        {
          "data": {
            "text/plain": [
              "740"
            ]
          },
          "execution_count": 16,
          "metadata": {},
          "output_type": "execute_result"
        }
      ],
      "source": [
        "len(gdf_filtered['Distance'].unique())"
      ]
    },
    {
      "cell_type": "code",
      "execution_count": null,
      "metadata": {
        "colab": {
          "base_uri": "https://localhost:8080/"
        },
        "id": "ijyEy3-BVAfp",
        "outputId": "14109c49-acd9-4950-c093-1f4d868299f4"
      },
      "outputs": [
        {
          "data": {
            "text/plain": [
              "131.3455224366765"
            ]
          },
          "execution_count": 17,
          "metadata": {},
          "output_type": "execute_result"
        }
      ],
      "source": [
        "gdf_filtered['Distance'].max()\n"
      ]
    },
    {
      "cell_type": "code",
      "execution_count": null,
      "metadata": {
        "colab": {
          "base_uri": "https://localhost:8080/"
        },
        "id": "vif_KLB1VDXs",
        "outputId": "f28fbfa0-b73e-4417-e70b-f2ca5d6aece2"
      },
      "outputs": [
        {
          "data": {
            "text/plain": [
              "2.574936932045084"
            ]
          },
          "execution_count": 18,
          "metadata": {},
          "output_type": "execute_result"
        }
      ],
      "source": [
        "gdf_filtered['Distance'].min()"
      ]
    },
    {
      "cell_type": "code",
      "execution_count": null,
      "metadata": {
        "colab": {
          "base_uri": "https://localhost:8080/"
        },
        "id": "XQmpZpx9V02z",
        "outputId": "b4311431-f5e5-4279-b5be-88696a5f3a99"
      },
      "outputs": [
        {
          "name": "stdout",
          "output_type": "stream",
          "text": [
            "       Distance Distance_Range\n",
            "0     48.479336       40-60 km\n",
            "1     36.165319       20-40 km\n",
            "2    111.511747     110-120 km\n",
            "3     64.995463       60-80 km\n",
            "4     45.051174       40-60 km\n",
            "..          ...            ...\n",
            "735   94.327690      80-100 km\n",
            "736  112.787248     110-120 km\n",
            "737   98.914638      80-100 km\n",
            "738   30.207917       20-40 km\n",
            "739   86.610486      80-100 km\n",
            "\n",
            "[740 rows x 2 columns]\n"
          ]
        }
      ],
      "source": [
        "# Define the distance ranges\n",
        "distance_ranges = [(0, 20), (20, 40), (40, 60),(60, 80), (80, 100),(100, 110), (110, 120),(120, 140), (140, 160),(160, 180), (180, 200)]  # Add more ranges as needed\n",
        "\n",
        "# Create a function to assign distance ranges\n",
        "def assign_distance_range(distance):\n",
        "    for start, end in distance_ranges:\n",
        "        if start <= distance <= end:\n",
        "            return f\"{start}-{end} km\"\n",
        "    print(distance)\n",
        "    return f\"{distance}+ km\"\n",
        "\n",
        "\n",
        "# Apply the function to create the 'Distance_Range' column\n",
        "gdf_filtered['Distance_Range'] = gdf_filtered['Distance'].apply(assign_distance_range)\n",
        "\n",
        "# Display the updated GeoDataFrame\n",
        "print(gdf_filtered[['Distance', 'Distance_Range']])"
      ]
    },
    {
      "cell_type": "code",
      "execution_count": null,
      "metadata": {
        "colab": {
          "base_uri": "https://localhost:8080/"
        },
        "id": "LZ1sJ9wwrqsF",
        "outputId": "bdb402eb-d75e-41ac-fada-110b78b16f13"
      },
      "outputs": [
        {
          "name": "stdout",
          "output_type": "stream",
          "text": [
            "8\n",
            "7\n"
          ]
        }
      ],
      "source": [
        "print(len(gdf_filtered['Distance_Range'].unique()))\n",
        "print(len(gdf_filtered['Direction_8points'].unique()))"
      ]
    },
    {
      "cell_type": "code",
      "execution_count": null,
      "metadata": {
        "id": "EN8LN8b6DLcu"
      },
      "outputs": [],
      "source": [
        "\n",
        "date_time_columns = ['DataInInte','DataFnInte']\n",
        "\n",
        "gdf_filtered[date_time_columns] = gdf_filtered[date_time_columns].apply(pd.to_datetime)\n",
        "#year_month_date\n",
        "\n",
        "# Convert each combined datetime value to a decimal point representing days with minutes and seconds\n",
        "gdf_filtered['FireStart_Decimal'] = (gdf_filtered['DataInInte'] - pd.to_datetime(gdf_filtered['DataInInte'].dt.year, format='%Y')) / pd.Timedelta(days=1)\n",
        "\n",
        "# Convert each combined datetime value to a decimal point representing days with minutes and seconds\n",
        "gdf_filtered['FireEnd_Decimal'] = (gdf_filtered['DataFnInte'] - pd.to_datetime(gdf_filtered['DataFnInte'].dt.year, format='%Y')) / pd.Timedelta(days=1)"
      ]
    },
    {
      "cell_type": "code",
      "execution_count": null,
      "metadata": {
        "colab": {
          "base_uri": "https://localhost:8080/"
        },
        "id": "zlI3862YBW5y",
        "outputId": "5543af20-d273-4947-d504-ccebc708af6e"
      },
      "outputs": [
        {
          "name": "stdout",
          "output_type": "stream",
          "text": [
            "       Distance_Range Direction_8points\n",
            "79167        60-80 km        North-East\n",
            "79168        60-80 km        North-East\n",
            "79169        60-80 km        North-East\n",
            "79170        60-80 km        North-East\n",
            "79171        60-80 km        North-East\n",
            "...               ...               ...\n",
            "484565       40-60 km             North\n",
            "484566       40-60 km             North\n",
            "484567       40-60 km             North\n",
            "484568       40-60 km             North\n",
            "484569       40-60 km             North\n",
            "\n",
            "[205590 rows x 2 columns]\n"
          ]
        }
      ],
      "source": [
        "# Iterate through gdf_filtered and update meteo2021_data\n",
        "for index, row in gdf_filtered.iterrows():\n",
        "    # Define the condition\n",
        "    condition = (\n",
        "        (meteo_bc_gases_data_FireOccurance['start_time'] >= row['FireStart_Decimal']) &\n",
        "        (meteo_bc_gases_data_FireOccurance['start_time'] <= row['FireEnd_Decimal'])\n",
        "    )\n",
        "\n",
        "    # Check the condition and update meteo2021_data\n",
        "    meteo_bc_gases_data_FireOccurance.loc[condition, 'Distance_Range'] = row['Distance_Range']\n",
        "    meteo_bc_gases_data_FireOccurance.loc[condition, 'Direction_8points'] = row['Direction_8points']\n",
        "\n",
        "\n",
        "# Display the updated meteo2021_data\n",
        "print(meteo_bc_gases_data_FireOccurance[['Distance_Range', 'Direction_8points']])"
      ]
    },
    {
      "cell_type": "code",
      "execution_count": null,
      "metadata": {
        "colab": {
          "base_uri": "https://localhost:8080/"
        },
        "id": "wLJcNvsFa8BV",
        "outputId": "880f6591-b858-4b66-cbf1-1af5753c9b7a"
      },
      "outputs": [
        {
          "name": "stdout",
          "output_type": "stream",
          "text": [
            "        Distance_Range_Ordinal  Direction_8points_Ordinal\n",
            "79167                        4                          5\n",
            "79168                        4                          5\n",
            "79169                        4                          5\n",
            "79170                        4                          5\n",
            "79171                        4                          5\n",
            "...                        ...                        ...\n",
            "484565                       3                          1\n",
            "484566                       3                          1\n",
            "484567                       3                          1\n",
            "484568                       3                          1\n",
            "484569                       3                          1\n",
            "\n",
            "[205590 rows x 2 columns]\n"
          ]
        }
      ],
      "source": [
        "\n",
        "# Define the distance range strings\n",
        "distance_ranges = ['0-20 km', '20-40 km', '40-60 km', '60-80 km', '80-100 km', '100-110 km', '110-120 km', '120-140 km', '140-160 km', '160-180 km', '180-200 km']\n",
        "\n",
        "# Create a mapping dictionary for Distance_Range\n",
        "distance_range_mapping = {range_str: i + 1 for i, range_str in enumerate(distance_ranges)}\n",
        "\n",
        "meteo_bc_gases_data_FireOccurance['Distance_Range_Ordinal'] = meteo_bc_gases_data_FireOccurance['Distance_Range'].map(distance_range_mapping)\n",
        "\n",
        "# Convert Direction_8points to ordinal values\n",
        "direction_mapping = {\n",
        "    'North': 1, 'South': 2, 'East': 3, 'West': 4,\n",
        "    'North-East': 5, 'North-West': 6, 'South-East': 7, 'South-West': 8\n",
        "}\n",
        "meteo_bc_gases_data_FireOccurance['Direction_8points_Ordinal'] = meteo_bc_gases_data_FireOccurance['Direction_8points'].map(direction_mapping)\n",
        "\n",
        "# Display the updated meteo2021_data with ordinal columns\n",
        "print(meteo_bc_gases_data_FireOccurance[[ 'Distance_Range_Ordinal', 'Direction_8points_Ordinal']])"
      ]
    },
    {
      "cell_type": "code",
      "execution_count": null,
      "metadata": {
        "id": "qABnQSlEcW8L"
      },
      "outputs": [],
      "source": [
        "#save final labeled excel file of fire occurance have fire range and fire direction values\n",
        "\n",
        " # Save the DataFrame to a CSV file\n",
        "meteo_bc_gases_data_FireOccurance.to_csv('meteo_bc_gases_data_Direction_Distance_labeled.csv', index=False)"
      ]
    },
    {
      "cell_type": "code",
      "execution_count": null,
      "metadata": {
        "id": "nKH0RrNdcelY"
      },
      "outputs": [],
      "source": [
        "#Data labeling is done correctly, have verified mannually too"
      ]
    },
    {
      "cell_type": "markdown",
      "metadata": {
        "id": "-0rTpcWwv1KZ"
      },
      "source": [
        "# **Data Pre-Processing**"
      ]
    },
    {
      "cell_type": "code",
      "execution_count": null,
      "metadata": {
        "id": "pV0LMgYdwGju"
      },
      "outputs": [],
      "source": [
        "\n",
        "import pandas as pd\n",
        "meteo_bc_gases_data_FireOccurance_path = '/content/drive/MyDrive/Forest_Fire_Data/updated/meteo_bc_gases_data_Direction_Distance_labeled.csv'\n",
        "\n",
        "meteo_bc_gases_data_Dir_Dis = pd.read_csv(meteo_bc_gases_data_FireOccurance_path)"
      ]
    },
    {
      "cell_type": "code",
      "execution_count": null,
      "metadata": {
        "id": "LaiqbiZWkfdh"
      },
      "outputs": [],
      "source": [
        "#Drop columns whichh doesn't effect on the results\n",
        "columns_to_drop = ['Distance_Range','Direction_8points']\n",
        "\n",
        "# Drop the specified columns from the DataFrame\n",
        "meteo_bc_gases_data_Dir_Dis.drop(columns=columns_to_drop, inplace=True)"
      ]
    },
    {
      "cell_type": "code",
      "execution_count": null,
      "metadata": {
        "colab": {
          "base_uri": "https://localhost:8080/"
        },
        "id": "rvf6jiLXkSvL",
        "outputId": "56897a0d-19eb-4d80-daa3-4854c846000d"
      },
      "outputs": [
        {
          "output_type": "stream",
          "name": "stdout",
          "text": [
            "NaN Counts:\n",
            " start_time                     0\n",
            "WS_ave(m/s)                  471\n",
            "WD_ave(deg)                  471\n",
            "T_air(C)                     471\n",
            "RH(-)                        478\n",
            "P_air(hPa)                   471\n",
            "BC-mass-filter                 0\n",
            "BC-mass                        0\n",
            "BC-mass-from-trasm             0\n",
            "CO_Calib                       0\n",
            "CO_sync_std                    0\n",
            "CO2_Calib                      0\n",
            "CO2_dry_sync_std               0\n",
            "CH4_Calib                      0\n",
            "CH4_dry_sync_std               0\n",
            "decimal_time                   0\n",
            "Distance_Range_Ordinal         0\n",
            "Direction_8points_Ordinal      0\n",
            "dtype: int64\n"
          ]
        }
      ],
      "source": [
        "# Count NaN values in each column\n",
        "nan_counts = meteo_bc_gases_data_Dir_Dis.isna().sum()\n",
        "\n",
        "# Display the count of NaN values for each column\n",
        "print(\"NaN Counts:\\n\", nan_counts)\n"
      ]
    },
    {
      "cell_type": "code",
      "execution_count": null,
      "metadata": {
        "id": "EgMQfsdGldI5"
      },
      "outputs": [],
      "source": [
        "# Remove rows with NaN values\n",
        "meteo_bc_gases_data_Dir_Dis = meteo_bc_gases_data_Dir_Dis.dropna()"
      ]
    },
    {
      "cell_type": "code",
      "execution_count": null,
      "metadata": {
        "id": "5Sf0P-RrlePc"
      },
      "outputs": [],
      "source": [
        "from sklearn.model_selection import train_test_split\n",
        "\n",
        "# Select all columns except last one as features\n",
        "features = meteo_bc_gases_data_Dir_Dis.iloc[:, :-1].values\n",
        "\n",
        "# Select the last column as labels\n",
        "labels = meteo_bc_gases_data_Dir_Dis.iloc[:, -1].values\n",
        "\n",
        "# Split the data into training and testing sets\n",
        "X_train, X_test, y_train, y_test = train_test_split(features, labels, test_size=0.21, random_state=52)"
      ]
    },
    {
      "cell_type": "code",
      "execution_count": null,
      "metadata": {
        "colab": {
          "base_uri": "https://localhost:8080/"
        },
        "id": "0D45diaVshvq",
        "outputId": "586198a5-8655-4d44-e365-4f48b6ca581e"
      },
      "outputs": [
        {
          "output_type": "execute_result",
          "data": {
            "text/plain": [
              "array([1, 2, 3, 5, 6, 7, 8])"
            ]
          },
          "metadata": {},
          "execution_count": 104
        }
      ],
      "source": [
        "import numpy as np\n",
        "\n",
        "np.unique(y_train)"
      ]
    },
    {
      "cell_type": "code",
      "execution_count": null,
      "metadata": {
        "id": "Csy4g5Qdm-TP"
      },
      "outputs": [],
      "source": [
        "# Extract time series sequence (assuming it's in the first column)\n",
        "X_train_sequence = X_train[:, 0].reshape(-1, 1)\n",
        "X_val_sequence = X_test[:, 0].reshape(-1, 1)\n",
        "\n",
        "# Extract non-temporal features (assuming they start from the second column)\n",
        "X_train_features = X_train[:, 1:]\n",
        "X_val_features = X_test[:, 1:]\n",
        "y_val = y_test\n",
        "\n",
        "# Define validation data (assuming you have X_val_sequence, X_val_features, and y_val)\n",
        "validation_data = ({'input_sequence': X_val_sequence, 'input_features': X_val_features}, y_val)"
      ]
    },
    {
      "cell_type": "code",
      "execution_count": null,
      "metadata": {
        "id": "pYN2rdAUieWP"
      },
      "outputs": [],
      "source": [
        "from sklearn.preprocessing import OneHotEncoder\n",
        "\n",
        "# Initialize OneHotEncoder\n",
        "encoder = OneHotEncoder(sparse_output=False)\n",
        "\n",
        "# Reshape your labels to a 2D array (required by OneHotEncoder)\n",
        "y_train_reshaped = y_train.reshape(-1, 1)\n",
        "y_val_reshaped = y_val.reshape(-1, 1)\n",
        "\n",
        "# Fit and transform the labels\n",
        "y_train_multiclass = encoder.fit_transform(y_train_reshaped)\n",
        "y_val_multiclass = encoder.fit_transform(y_val_reshaped)\n"
      ]
    },
    {
      "cell_type": "markdown",
      "metadata": {
        "id": "Df8nmeLZjGyT"
      },
      "source": [
        "# **Import Libraries**"
      ]
    },
    {
      "cell_type": "code",
      "execution_count": null,
      "metadata": {
        "id": "RmG2ehxbjLhs"
      },
      "outputs": [],
      "source": [
        "from tensorflow.keras.models import Model\n",
        "from tensorflow.keras.layers import Input,Bidirectional, LSTM,GRU, Dense, Concatenate, Dropout\n",
        "from tensorflow.keras.optimizers import Adam\n",
        "from tensorflow.keras import regularizers\n",
        "from tensorflow.keras.utils import to_categorical"
      ]
    },
    {
      "cell_type": "code",
      "execution_count": null,
      "metadata": {
        "id": "-ghqgHfQM0Jn"
      },
      "outputs": [],
      "source": [
        "# Define the directory in Google Drive to save the model\n",
        "model_directory = '/content/drive/MyDrive/Forest_Fire_Data/saved_models'"
      ]
    },
    {
      "cell_type": "markdown",
      "metadata": {
        "id": "hf1ot2ccJOsA"
      },
      "source": [
        "# **LSTM - Fire Direction**"
      ]
    },
    {
      "cell_type": "code",
      "execution_count": null,
      "metadata": {
        "id": "STqd-iwzoWWa"
      },
      "outputs": [],
      "source": [
        "# Input layer for time series sequence\n",
        "input_sequence = Input(shape=(X_train_sequence.shape[1], 1), name='input_sequence')\n",
        "lstm_layer = LSTM(150, return_sequences=True, dropout=0.2, recurrent_dropout=0.2)(input_sequence)\n",
        "lstm_layer = LSTM(100, dropout=0.2, recurrent_dropout=0.2)(lstm_layer)\n",
        "\n",
        "num_classes = 7\n",
        "\n",
        "# Input layer for non-temporal features\n",
        "input_features = Input(shape=(X_train_features.shape[1],), name='input_features')\n",
        "\n",
        "# Concatenate LSTM output and non-temporal features\n",
        "concatenated = Concatenate()([lstm_layer, input_features])\n",
        "\n",
        "# Add Dropout for regularization\n",
        "concatenated = Dropout(0.5)(concatenated)\n",
        "\n",
        "# Dense layers for multiclass classification\n",
        "dense_layer_1 = Dense(128, activation='relu', kernel_regularizer=regularizers.l2(0.01))(concatenated)\n",
        "dense_layer_1 = Dropout(0.5)(dense_layer_1)\n",
        "output_layer = Dense(num_classes, activation='softmax')(dense_layer_1)  # For multiclass classification\n",
        "\n",
        "# Create the model\n",
        "model_lstm_multiclass = Model(inputs=[input_sequence, input_features], outputs=output_layer)\n",
        "\n",
        "# Compile the model\n",
        "model_lstm_multiclass.compile(optimizer=Adam(learning_rate=0.0001), loss='categorical_crossentropy', metrics=['accuracy'])\n",
        "\n",
        "epochs = 15  # You can adjust this based on your specific requirements\n",
        "batch_size = 42  # You can adjust this based on your specific requirements\n"
      ]
    },
    {
      "cell_type": "code",
      "execution_count": null,
      "metadata": {
        "colab": {
          "base_uri": "https://localhost:8080/"
        },
        "id": "RtfhurPxq2OT",
        "outputId": "c8dfb04c-238d-40fa-d847-2bdfba2c079b"
      },
      "outputs": [
        {
          "name": "stdout",
          "output_type": "stream",
          "text": [
            "Epoch 1/15\n",
            "3859/3859 [==============================] - 55s 12ms/step - loss: 79.7667 - accuracy: 0.4368 - val_loss: 2.0280 - val_accuracy: 0.5328\n",
            "Epoch 2/15\n",
            "3859/3859 [==============================] - 47s 12ms/step - loss: 3.2830 - accuracy: 0.5470 - val_loss: 1.4726 - val_accuracy: 0.6269\n",
            "Epoch 3/15\n",
            "3859/3859 [==============================] - 49s 13ms/step - loss: 1.3567 - accuracy: 0.6241 - val_loss: 1.2449 - val_accuracy: 0.6271\n",
            "Epoch 4/15\n",
            "3859/3859 [==============================] - 48s 13ms/step - loss: 1.2222 - accuracy: 0.6276 - val_loss: 1.1935 - val_accuracy: 0.6271\n",
            "Epoch 5/15\n",
            "3859/3859 [==============================] - 50s 13ms/step - loss: 1.1631 - accuracy: 0.6278 - val_loss: 1.1459 - val_accuracy: 0.6271\n",
            "Epoch 6/15\n",
            "3859/3859 [==============================] - 48s 12ms/step - loss: 1.1279 - accuracy: 0.6280 - val_loss: 1.1459 - val_accuracy: 0.6271\n",
            "Epoch 7/15\n",
            "3859/3859 [==============================] - 47s 12ms/step - loss: 1.1050 - accuracy: 0.6280 - val_loss: 1.1188 - val_accuracy: 0.6271\n",
            "Epoch 8/15\n",
            "3859/3859 [==============================] - 50s 13ms/step - loss: 1.0918 - accuracy: 0.6279 - val_loss: 1.1249 - val_accuracy: 0.6271\n",
            "Epoch 9/15\n",
            "3859/3859 [==============================] - 47s 12ms/step - loss: 1.0711 - accuracy: 0.6280 - val_loss: 1.1215 - val_accuracy: 0.6271\n",
            "Epoch 10/15\n",
            "3859/3859 [==============================] - 51s 13ms/step - loss: 1.0465 - accuracy: 0.6280 - val_loss: 1.1493 - val_accuracy: 0.6271\n",
            "Epoch 11/15\n",
            "3859/3859 [==============================] - 48s 12ms/step - loss: 1.0215 - accuracy: 0.6281 - val_loss: 1.1170 - val_accuracy: 0.6271\n",
            "Epoch 12/15\n",
            "3859/3859 [==============================] - 49s 13ms/step - loss: 0.9989 - accuracy: 0.6280 - val_loss: 1.1662 - val_accuracy: 0.6271\n",
            "Epoch 13/15\n",
            "3859/3859 [==============================] - 47s 12ms/step - loss: 0.9868 - accuracy: 0.6280 - val_loss: 1.0882 - val_accuracy: 0.6271\n",
            "Epoch 14/15\n",
            "3859/3859 [==============================] - 47s 12ms/step - loss: 0.9676 - accuracy: 0.6281 - val_loss: 1.1972 - val_accuracy: 0.6271\n",
            "Epoch 15/15\n",
            "3859/3859 [==============================] - 51s 13ms/step - loss: 0.9617 - accuracy: 0.6281 - val_loss: 1.1752 - val_accuracy: 0.6271\n"
          ]
        }
      ],
      "source": [
        "# Train the model using X_train_sequence and X_train_features\n",
        "history_multiclass = model_lstm_multiclass.fit(\n",
        "    {'input_sequence': X_train_sequence, 'input_features': X_train_features},\n",
        "    y_train_multiclass,\n",
        "    epochs=epochs,\n",
        "    batch_size=batch_size,\n",
        "    validation_data=({'input_sequence': X_val_sequence, 'input_features': X_val_features}, y_val_multiclass)\n",
        ")"
      ]
    },
    {
      "cell_type": "code",
      "execution_count": null,
      "metadata": {
        "colab": {
          "base_uri": "https://localhost:8080/"
        },
        "id": "n8vey2EE1gBd",
        "outputId": "8a907d5c-9f3b-4209-a5d0-c3496360cb5a"
      },
      "outputs": [
        {
          "name": "stdout",
          "output_type": "stream",
          "text": [
            "Model: \"model_1\"\n",
            "__________________________________________________________________________________________________\n",
            " Layer (type)                Output Shape                 Param #   Connected to                  \n",
            "==================================================================================================\n",
            " input_sequence (InputLayer  [(None, 1, 1)]               0         []                            \n",
            " )                                                                                                \n",
            "                                                                                                  \n",
            " lstm_2 (LSTM)               (None, 1, 150)               91200     ['input_sequence[0][0]']      \n",
            "                                                                                                  \n",
            " lstm_3 (LSTM)               (None, 100)                  100400    ['lstm_2[0][0]']              \n",
            "                                                                                                  \n",
            " input_features (InputLayer  [(None, 16)]                 0         []                            \n",
            " )                                                                                                \n",
            "                                                                                                  \n",
            " concatenate_1 (Concatenate  (None, 116)                  0         ['lstm_3[0][0]',              \n",
            " )                                                                   'input_features[0][0]']      \n",
            "                                                                                                  \n",
            " dropout_2 (Dropout)         (None, 116)                  0         ['concatenate_1[0][0]']       \n",
            "                                                                                                  \n",
            " dense_2 (Dense)             (None, 128)                  14976     ['dropout_2[0][0]']           \n",
            "                                                                                                  \n",
            " dropout_3 (Dropout)         (None, 128)                  0         ['dense_2[0][0]']             \n",
            "                                                                                                  \n",
            " dense_3 (Dense)             (None, 7)                    903       ['dropout_3[0][0]']           \n",
            "                                                                                                  \n",
            "==================================================================================================\n",
            "Total params: 207479 (810.46 KB)\n",
            "Trainable params: 207479 (810.46 KB)\n",
            "Non-trainable params: 0 (0.00 Byte)\n",
            "__________________________________________________________________________________________________\n"
          ]
        }
      ],
      "source": [
        "model_lstm_multiclass.summary()"
      ]
    },
    {
      "cell_type": "code",
      "execution_count": null,
      "metadata": {
        "colab": {
          "base_uri": "https://localhost:8080/"
        },
        "id": "iqsQdM4B1gsv",
        "outputId": "8eb4d450-a303-430f-c183-532d53904a6f"
      },
      "outputs": [
        {
          "name": "stdout",
          "output_type": "stream",
          "text": [
            "Final Training Accuracy: 0.628093421459198\n",
            "Final Validation Accuracy: 0.6270604133605957\n"
          ]
        }
      ],
      "source": [
        "# Print the final training accuracy\n",
        "print(\"Final Training Accuracy:\", history_multiclass.history['accuracy'][-1])\n",
        "\n",
        "# Print the final validation accuracy\n",
        "print(\"Final Validation Accuracy:\", history_multiclass.history['val_accuracy'][-1])"
      ]
    },
    {
      "cell_type": "code",
      "execution_count": null,
      "metadata": {
        "colab": {
          "base_uri": "https://localhost:8080/"
        },
        "id": "-25HvfqEAmLX",
        "outputId": "e2d54312-02c6-4df6-aedc-45fd8141a209"
      },
      "outputs": [
        {
          "name": "stderr",
          "output_type": "stream",
          "text": [
            "/usr/local/lib/python3.10/dist-packages/keras/src/engine/training.py:3103: UserWarning: You are saving your model as an HDF5 file via `model.save()`. This file format is considered legacy. We recommend using instead the native Keras format, e.g. `model.save('my_model.keras')`.\n",
            "  saving_api.save_model(\n"
          ]
        }
      ],
      "source": [
        "# Save the model\n",
        "model_name = 'LSTM_FireDirection.h5'\n",
        "\n",
        "# Save the model to Google Drive with the custom name\n",
        "model_lstm_multiclass.save(model_directory + model_name)"
      ]
    },
    {
      "cell_type": "markdown",
      "metadata": {
        "id": "VR_E-NDvpsIm"
      },
      "source": [
        "## FINAL RESULTS"
      ]
    },
    {
      "cell_type": "code",
      "source": [
        "import tensorflow as tf\n",
        "from tensorflow.keras.models import load_model\n",
        "from sklearn.metrics import accuracy_score, precision_score, recall_score, f1_score\n",
        "import numpy as np\n",
        "\n",
        "# Load the saved model\n",
        "model = load_model(model_directory + 'LSTM_FireDirection.h5')\n",
        "\n",
        "# Ensure the validation data is correctly shaped\n",
        "X_val_sequence = X_val_sequence.reshape(-1, X_val_sequence.shape[1], 1)\n",
        "\n",
        "# Make predictions\n",
        "y_pred_proba = model.predict({'input_sequence': X_val_sequence, 'input_features': X_val_features})\n",
        "\n",
        "# Convert predicted probabilities to class labels\n",
        "y_pred = np.argmax(y_pred_proba, axis=1)\n",
        "\n",
        "# Ensure y_val_multiclass is in integer form (not one-hot encoded)\n",
        "if y_val_multiclass.ndim > 1:\n",
        "    y_val_multiclass = np.argmax(y_val_multiclass, axis=1)\n",
        "\n",
        "# Calculate the loss\n",
        "loss_fn = tf.keras.losses.SparseCategoricalCrossentropy()\n",
        "loss = loss_fn(y_val_multiclass, y_pred_proba).numpy()\n",
        "\n",
        "# Calculate the metrics\n",
        "accuracy = accuracy_score(y_val_multiclass, y_pred)\n",
        "precision = precision_score(y_val_multiclass, y_pred, average='weighted')\n",
        "recall = recall_score(y_val_multiclass, y_pred, average='weighted')\n",
        "f1 = f1_score(y_val_multiclass, y_pred, average='weighted')\n",
        "\n",
        "print(f\"Loss: {loss}\")\n",
        "print(f\"Accuracy: {accuracy}\")\n",
        "print(f\"Precision: {precision}\")\n",
        "print(f\"Recall: {recall}\")\n",
        "print(f\"F1-Score: {f1}\")\n",
        "\n"
      ],
      "metadata": {
        "colab": {
          "base_uri": "https://localhost:8080/"
        },
        "id": "xa5QUQZKQU5Z",
        "outputId": "d62d59cc-f984-4a75-a94a-3407da4c1b16"
      },
      "execution_count": null,
      "outputs": [
        {
          "output_type": "stream",
          "name": "stdout",
          "text": [
            "1347/1347 [==============================] - 7s 5ms/step\n",
            "Loss: 1.1587510108947754\n",
            "Accuracy: 0.6270604076705205\n",
            "Precision: 0.39320475486791934\n",
            "Recall: 0.6270604076705205\n",
            "F1-Score: 0.4833314768329649\n"
          ]
        },
        {
          "output_type": "stream",
          "name": "stderr",
          "text": [
            "/usr/local/lib/python3.10/dist-packages/sklearn/metrics/_classification.py:1344: UndefinedMetricWarning: Precision is ill-defined and being set to 0.0 in labels with no predicted samples. Use `zero_division` parameter to control this behavior.\n",
            "  _warn_prf(average, modifier, msg_start, len(result))\n"
          ]
        }
      ]
    },
    {
      "cell_type": "markdown",
      "source": [],
      "metadata": {
        "id": "JsfXI300QNIW"
      }
    },
    {
      "cell_type": "markdown",
      "metadata": {
        "id": "6v2ZB_kDE1kF"
      },
      "source": [
        "# **GRU - Fire Direection**"
      ]
    },
    {
      "cell_type": "code",
      "execution_count": null,
      "metadata": {
        "id": "ccriuFh23BIB"
      },
      "outputs": [],
      "source": [
        "# Input layer for time series sequence\n",
        "input_sequence = Input(shape=(X_train_sequence.shape[1], 1), name='input_sequence')\n",
        "gru_layer = GRU(150, return_sequences=True, dropout=0.2, recurrent_dropout=0.2)(input_sequence)\n",
        "gru_layer = GRU(100, dropout=0.2, recurrent_dropout=0.2)(gru_layer)\n",
        "\n",
        "num_classes = 7\n",
        "\n",
        "# Input layer for non-temporal features\n",
        "input_features = Input(shape=(X_train_features.shape[1],), name='input_features')\n",
        "\n",
        "# Concatenate LSTM output and non-temporal features\n",
        "concatenated = Concatenate()([gru_layer, input_features])\n",
        "\n",
        "# Add Dropout for regularization\n",
        "concatenated = Dropout(0.5)(concatenated)\n",
        "\n",
        "# Dense layers for multiclass classification\n",
        "dense_layer_1 = Dense(128, activation='relu', kernel_regularizer=regularizers.l2(0.01))(concatenated)\n",
        "dense_layer_1 = Dropout(0.5)(dense_layer_1)\n",
        "output_layer = Dense(num_classes, activation='softmax')(dense_layer_1)  # For multiclass classification\n",
        "\n",
        "# Create the model\n",
        "model_gru_multiclass = Model(inputs=[input_sequence, input_features], outputs=output_layer)\n",
        "\n",
        "# Compile the model\n",
        "model_gru_multiclass.compile(optimizer=Adam(learning_rate=0.0001), loss='categorical_crossentropy', metrics=['accuracy'])\n",
        "\n",
        "epochs = 15  # You can adjust this based on your specific requirements\n",
        "batch_size = 42  # You can adjust this based on your specific requirements\n"
      ]
    },
    {
      "cell_type": "code",
      "execution_count": null,
      "metadata": {
        "colab": {
          "base_uri": "https://localhost:8080/"
        },
        "id": "32FNJpkG-cAT",
        "outputId": "be1720bc-b0f6-451d-db8a-d80411902c4e"
      },
      "outputs": [
        {
          "name": "stdout",
          "output_type": "stream",
          "text": [
            "Epoch 1/15\n",
            "3859/3859 [==============================] - 54s 12ms/step - loss: 76.8772 - accuracy: 0.4433 - val_loss: 2.1087 - val_accuracy: 0.6271\n",
            "Epoch 2/15\n",
            "3859/3859 [==============================] - 45s 12ms/step - loss: 2.9995 - accuracy: 0.5540 - val_loss: 1.3850 - val_accuracy: 0.6271\n",
            "Epoch 3/15\n",
            "3859/3859 [==============================] - 43s 11ms/step - loss: 1.3658 - accuracy: 0.6245 - val_loss: 1.2458 - val_accuracy: 0.6271\n",
            "Epoch 4/15\n",
            "3859/3859 [==============================] - 43s 11ms/step - loss: 1.2247 - accuracy: 0.6276 - val_loss: 1.1752 - val_accuracy: 0.6271\n",
            "Epoch 5/15\n",
            "3859/3859 [==============================] - 43s 11ms/step - loss: 1.1742 - accuracy: 0.6278 - val_loss: 1.1419 - val_accuracy: 0.6271\n",
            "Epoch 6/15\n",
            "3859/3859 [==============================] - 44s 11ms/step - loss: 1.1435 - accuracy: 0.6279 - val_loss: 1.1573 - val_accuracy: 0.6271\n",
            "Epoch 7/15\n",
            "3859/3859 [==============================] - 43s 11ms/step - loss: 1.1177 - accuracy: 0.6280 - val_loss: 1.1534 - val_accuracy: 0.6271\n",
            "Epoch 8/15\n",
            "3859/3859 [==============================] - 44s 11ms/step - loss: 1.1056 - accuracy: 0.6279 - val_loss: 1.1441 - val_accuracy: 0.6271\n",
            "Epoch 9/15\n",
            "3859/3859 [==============================] - 44s 11ms/step - loss: 1.0978 - accuracy: 0.6280 - val_loss: 1.1500 - val_accuracy: 0.6271\n",
            "Epoch 10/15\n",
            "3859/3859 [==============================] - 44s 11ms/step - loss: 1.0849 - accuracy: 0.6280 - val_loss: 1.1662 - val_accuracy: 0.6271\n",
            "Epoch 11/15\n",
            "3859/3859 [==============================] - 44s 11ms/step - loss: 1.0768 - accuracy: 0.6280 - val_loss: 1.1549 - val_accuracy: 0.6271\n",
            "Epoch 12/15\n",
            "3859/3859 [==============================] - 47s 12ms/step - loss: 1.0713 - accuracy: 0.6280 - val_loss: 1.1561 - val_accuracy: 0.6271\n",
            "Epoch 13/15\n",
            "3859/3859 [==============================] - 43s 11ms/step - loss: 1.0612 - accuracy: 0.6281 - val_loss: 1.1660 - val_accuracy: 0.6271\n",
            "Epoch 14/15\n",
            "3859/3859 [==============================] - 46s 12ms/step - loss: 1.0568 - accuracy: 0.6281 - val_loss: 1.1643 - val_accuracy: 0.6271\n",
            "Epoch 15/15\n",
            "3859/3859 [==============================] - 43s 11ms/step - loss: 1.0577 - accuracy: 0.6280 - val_loss: 1.1530 - val_accuracy: 0.6271\n"
          ]
        }
      ],
      "source": [
        "# Train the model using X_train_sequence and X_train_features\n",
        "history_multiclass_gru = model_gru_multiclass.fit(\n",
        "    {'input_sequence': X_train_sequence, 'input_features': X_train_features},\n",
        "    y_train_multiclass,\n",
        "    epochs=epochs,\n",
        "    batch_size=batch_size,\n",
        "    validation_data=({'input_sequence': X_val_sequence, 'input_features': X_val_features}, y_val_multiclass)\n",
        ")"
      ]
    },
    {
      "cell_type": "code",
      "execution_count": null,
      "metadata": {
        "id": "2BaMgJDwRGB0"
      },
      "outputs": [],
      "source": [
        "# Save the model\n",
        "model_name = 'GRU_FireDirection.h5'\n",
        "\n",
        "# Save the model to Google Drive with the custom name\n",
        "model_gru_multiclass.save(model_directory + model_name)"
      ]
    },
    {
      "cell_type": "code",
      "execution_count": null,
      "metadata": {
        "colab": {
          "base_uri": "https://localhost:8080/"
        },
        "id": "hfjvkvRMAnxT",
        "outputId": "767a7cfc-1210-4f4e-8a0e-0ca42b7865d5"
      },
      "outputs": [
        {
          "name": "stdout",
          "output_type": "stream",
          "text": [
            "Final Training Accuracy: 0.6280316710472107\n",
            "Final Validation Accuracy: 0.6270604133605957\n"
          ]
        }
      ],
      "source": [
        "# Print the final training accuracy\n",
        "print(\"Final Training Accuracy:\", history_multiclass_gru.history['accuracy'][-1])\n",
        "\n",
        "# Print the final validation accuracy\n",
        "print(\"Final Validation Accuracy:\", history_multiclass_gru.history['val_accuracy'][-1])"
      ]
    },
    {
      "cell_type": "markdown",
      "metadata": {
        "id": "wtMOprG0Stzz"
      },
      "source": [
        "## FINAL RESULTS"
      ]
    },
    {
      "cell_type": "code",
      "source": [
        "import tensorflow as tf\n",
        "from tensorflow.keras.models import load_model\n",
        "from sklearn.metrics import accuracy_score, precision_score, recall_score, f1_score\n",
        "import numpy as np\n",
        "\n",
        "# Load the saved model\n",
        "model = load_model(model_directory + 'GRU_FireDirection.h5')\n",
        "\n",
        "# Ensure the validation data is correctly shaped\n",
        "X_val_sequence = X_val_sequence.reshape(-1, X_val_sequence.shape[1], 1)\n",
        "\n",
        "# Make predictions\n",
        "y_pred_proba = model.predict({'input_sequence': X_val_sequence, 'input_features': X_val_features})\n",
        "\n",
        "# Convert predicted probabilities to class labels\n",
        "y_pred = np.argmax(y_pred_proba, axis=1)\n",
        "\n",
        "# Ensure y_val_multiclass is in integer form (not one-hot encoded)\n",
        "if y_val_multiclass.ndim > 1:\n",
        "    y_val_multiclass = np.argmax(y_val_multiclass, axis=1)\n",
        "\n",
        "# Calculate the loss\n",
        "loss_fn = tf.keras.losses.SparseCategoricalCrossentropy()\n",
        "loss = loss_fn(y_val_multiclass, y_pred_proba).numpy()\n",
        "\n",
        "# Calculate the metrics\n",
        "accuracy = accuracy_score(y_val_multiclass, y_pred)\n",
        "precision = precision_score(y_val_multiclass, y_pred, average='weighted')\n",
        "recall = recall_score(y_val_multiclass, y_pred, average='weighted')\n",
        "f1 = f1_score(y_val_multiclass, y_pred, average='weighted')\n",
        "\n",
        "print(f\"Loss: {loss}\")\n",
        "print(f\"Accuracy: {accuracy}\")\n",
        "print(f\"Precision: {precision}\")\n",
        "print(f\"Recall: {recall}\")\n",
        "print(f\"F1-Score: {f1}\")\n",
        "\n"
      ],
      "metadata": {
        "colab": {
          "base_uri": "https://localhost:8080/"
        },
        "outputId": "57c8be75-11f4-49e1-ea42-1c138c780543",
        "id": "aCuPUqD0Stz9"
      },
      "execution_count": null,
      "outputs": [
        {
          "output_type": "stream",
          "name": "stdout",
          "text": [
            "1347/1347 [==============================] - 6s 4ms/step\n",
            "Loss: 1.1416411399841309\n",
            "Accuracy: 0.6270604076705205\n",
            "Precision: 0.39320475486791934\n",
            "Recall: 0.6270604076705205\n",
            "F1-Score: 0.4833314768329649\n"
          ]
        },
        {
          "output_type": "stream",
          "name": "stderr",
          "text": [
            "/usr/local/lib/python3.10/dist-packages/sklearn/metrics/_classification.py:1344: UndefinedMetricWarning: Precision is ill-defined and being set to 0.0 in labels with no predicted samples. Use `zero_division` parameter to control this behavior.\n",
            "  _warn_prf(average, modifier, msg_start, len(result))\n"
          ]
        }
      ]
    },
    {
      "cell_type": "markdown",
      "metadata": {
        "id": "DcoSa0eEE7wJ"
      },
      "source": [
        "# **BILSTM - Fire Direction**"
      ]
    },
    {
      "cell_type": "code",
      "execution_count": null,
      "metadata": {
        "id": "Q9AlKYd6A7JF"
      },
      "outputs": [],
      "source": [
        "# Input layer for time series sequence\n",
        "input_sequence = Input(shape=(X_train_sequence.shape[1], 1), name='input_sequence')\n",
        "\n",
        "bilstm_layer = Bidirectional(LSTM(150))(input_sequence)\n",
        "\n",
        "\n",
        "num_classes = 7\n",
        "\n",
        "# Input layer for non-temporal features\n",
        "input_features = Input(shape=(X_train_features.shape[1],), name='input_features')\n",
        "\n",
        "# Concatenate LSTM output and non-temporal features\n",
        "concatenated = Concatenate()([bilstm_layer, input_features])\n",
        "\n",
        "# Add Dropout for regularization\n",
        "concatenated = Dropout(0.5)(concatenated)\n",
        "\n",
        "# Dense layers for multiclass classification\n",
        "dense_layer_1 = Dense(128, activation='relu', kernel_regularizer=regularizers.l2(0.01))(concatenated)\n",
        "dense_layer_1 = Dropout(0.5)(dense_layer_1)\n",
        "output_layer = Dense(num_classes, activation='softmax')(dense_layer_1)  # For multiclass classification\n",
        "\n",
        "# Create the model\n",
        "model_bilstm_multiclass = Model(inputs=[input_sequence, input_features], outputs=output_layer)\n",
        "\n",
        "# Compile the model\n",
        "model_bilstm_multiclass.compile(optimizer=Adam(learning_rate=0.0001), loss='categorical_crossentropy', metrics=['accuracy'])\n",
        "\n",
        "epochs = 15  # You can adjust this based on your specific requirements\n",
        "batch_size = 42  # You can adjust this based on your specific requirements\n"
      ]
    },
    {
      "cell_type": "code",
      "execution_count": null,
      "metadata": {
        "colab": {
          "base_uri": "https://localhost:8080/"
        },
        "id": "wVFt7fASC9BE",
        "outputId": "173fb862-d0f7-47a3-daa3-f183579600e4"
      },
      "outputs": [
        {
          "name": "stdout",
          "output_type": "stream",
          "text": [
            "Epoch 1/15\n",
            "3859/3859 [==============================] - 50s 12ms/step - loss: 47.9594 - accuracy: 0.4459 - val_loss: 2.4727 - val_accuracy: 0.6258\n",
            "Epoch 2/15\n",
            "3859/3859 [==============================] - 43s 11ms/step - loss: 1.8766 - accuracy: 0.5987 - val_loss: 1.3704 - val_accuracy: 0.6262\n",
            "Epoch 3/15\n",
            "3859/3859 [==============================] - 42s 11ms/step - loss: 1.2683 - accuracy: 0.6269 - val_loss: 1.2815 - val_accuracy: 0.6269\n",
            "Epoch 4/15\n",
            "3859/3859 [==============================] - 45s 12ms/step - loss: 1.1733 - accuracy: 0.6279 - val_loss: 1.2071 - val_accuracy: 0.6271\n",
            "Epoch 5/15\n",
            "3859/3859 [==============================] - 45s 12ms/step - loss: 1.1284 - accuracy: 0.6279 - val_loss: 1.1683 - val_accuracy: 0.6271\n",
            "Epoch 6/15\n",
            "3859/3859 [==============================] - 45s 12ms/step - loss: 1.1056 - accuracy: 0.6279 - val_loss: 1.1477 - val_accuracy: 0.6271\n",
            "Epoch 7/15\n",
            "3859/3859 [==============================] - 44s 11ms/step - loss: 1.0853 - accuracy: 0.6280 - val_loss: 1.1443 - val_accuracy: 0.6271\n",
            "Epoch 8/15\n",
            "3859/3859 [==============================] - 43s 11ms/step - loss: 1.0726 - accuracy: 0.6280 - val_loss: 1.1508 - val_accuracy: 0.6271\n",
            "Epoch 9/15\n",
            "3859/3859 [==============================] - 43s 11ms/step - loss: 1.0670 - accuracy: 0.6280 - val_loss: 1.1423 - val_accuracy: 0.6271\n",
            "Epoch 10/15\n",
            "3859/3859 [==============================] - 44s 11ms/step - loss: 1.0628 - accuracy: 0.6280 - val_loss: 1.1492 - val_accuracy: 0.6271\n",
            "Epoch 11/15\n",
            "3859/3859 [==============================] - 45s 12ms/step - loss: 1.0543 - accuracy: 0.6280 - val_loss: 1.1435 - val_accuracy: 0.6271\n",
            "Epoch 12/15\n",
            "3859/3859 [==============================] - 45s 12ms/step - loss: 1.0501 - accuracy: 0.6280 - val_loss: 1.1396 - val_accuracy: 0.6271\n",
            "Epoch 13/15\n",
            "3859/3859 [==============================] - 44s 11ms/step - loss: 1.0667 - accuracy: 0.6280 - val_loss: 1.1183 - val_accuracy: 0.6271\n",
            "Epoch 14/15\n",
            "3859/3859 [==============================] - 43s 11ms/step - loss: 1.0574 - accuracy: 0.6281 - val_loss: 1.1075 - val_accuracy: 0.6271\n",
            "Epoch 15/15\n",
            "3859/3859 [==============================] - 45s 12ms/step - loss: 1.0421 - accuracy: 0.6279 - val_loss: 1.1472 - val_accuracy: 0.6271\n"
          ]
        }
      ],
      "source": [
        "# Train the model using X_train_sequence and X_train_features\n",
        "history_model_bilstm_multiclass = model_bilstm_multiclass.fit(\n",
        "    {'input_sequence': X_train_sequence, 'input_features': X_train_features},\n",
        "    y_train_multiclass,\n",
        "    epochs=epochs,\n",
        "    batch_size=batch_size,\n",
        "    validation_data=({'input_sequence': X_val_sequence, 'input_features': X_val_features}, y_val_multiclass)\n",
        ")"
      ]
    },
    {
      "cell_type": "code",
      "execution_count": null,
      "metadata": {
        "colab": {
          "base_uri": "https://localhost:8080/"
        },
        "id": "RlbHtV6HDD1F",
        "outputId": "b7ea4988-3ed9-4e71-98b7-69981e6c0c52"
      },
      "outputs": [
        {
          "name": "stdout",
          "output_type": "stream",
          "text": [
            "Final Training Accuracy: 0.6278712153434753\n",
            "Final Validation Accuracy: 0.6270604133605957\n"
          ]
        }
      ],
      "source": [
        "# Print the final training accuracy\n",
        "print(\"Final Training Accuracy:\", history_model_bilstm_multiclass.history['accuracy'][-1])\n",
        "\n",
        "# Print the final validation accuracy\n",
        "print(\"Final Validation Accuracy:\", history_model_bilstm_multiclass.history['val_accuracy'][-1])"
      ]
    },
    {
      "cell_type": "code",
      "execution_count": null,
      "metadata": {
        "id": "DszQSuWns3gK"
      },
      "outputs": [],
      "source": [
        "# Save the model\n",
        "model_name = 'BiLSTM_FireDirection.h5'\n",
        "\n",
        "# Save the model to Google Drive with the custom name\n",
        "model_bilstm_multiclass.save(model_directory + model_name)"
      ]
    },
    {
      "cell_type": "markdown",
      "metadata": {
        "id": "IcflmYQwTGuw"
      },
      "source": [
        "## FINAL RESULTS"
      ]
    },
    {
      "cell_type": "code",
      "source": [
        "import tensorflow as tf\n",
        "from tensorflow.keras.models import load_model\n",
        "from sklearn.metrics import accuracy_score, precision_score, recall_score, f1_score\n",
        "import numpy as np\n",
        "\n",
        "# Load the saved model\n",
        "model = load_model(model_directory + 'BiLSTM_FireDirection.h5')\n",
        "\n",
        "# Ensure the validation data is correctly shaped\n",
        "X_val_sequence = X_val_sequence.reshape(-1, X_val_sequence.shape[1], 1)\n",
        "\n",
        "# Make predictions\n",
        "y_pred_proba = model.predict({'input_sequence': X_val_sequence, 'input_features': X_val_features})\n",
        "\n",
        "# Convert predicted probabilities to class labels\n",
        "y_pred = np.argmax(y_pred_proba, axis=1)\n",
        "\n",
        "# Ensure y_val_multiclass is in integer form (not one-hot encoded)\n",
        "if y_val_multiclass.ndim > 1:\n",
        "    y_val_multiclass = np.argmax(y_val_multiclass, axis=1)\n",
        "\n",
        "# Calculate the loss\n",
        "loss_fn = tf.keras.losses.SparseCategoricalCrossentropy()\n",
        "loss = loss_fn(y_val_multiclass, y_pred_proba).numpy()\n",
        "\n",
        "# Calculate the metrics\n",
        "accuracy = accuracy_score(y_val_multiclass, y_pred)\n",
        "precision = precision_score(y_val_multiclass, y_pred, average='weighted')\n",
        "recall = recall_score(y_val_multiclass, y_pred, average='weighted')\n",
        "f1 = f1_score(y_val_multiclass, y_pred, average='weighted')\n",
        "\n",
        "print(f\"Loss: {loss}\")\n",
        "print(f\"Accuracy: {accuracy}\")\n",
        "print(f\"Precision: {precision}\")\n",
        "print(f\"Recall: {recall}\")\n",
        "print(f\"F1-Score: {f1}\")\n",
        "\n"
      ],
      "metadata": {
        "colab": {
          "base_uri": "https://localhost:8080/"
        },
        "outputId": "2cbef333-46ad-47da-b8d2-bc155bcecd26",
        "id": "GcImpVAITGu6"
      },
      "execution_count": null,
      "outputs": [
        {
          "output_type": "stream",
          "name": "stdout",
          "text": [
            "1347/1347 [==============================] - 8s 5ms/step\n",
            "Loss: 1.1351723670959473\n",
            "Accuracy: 0.6270604076705205\n",
            "Precision: 0.39320475486791934\n",
            "Recall: 0.6270604076705205\n",
            "F1-Score: 0.4833314768329649\n"
          ]
        },
        {
          "output_type": "stream",
          "name": "stderr",
          "text": [
            "/usr/local/lib/python3.10/dist-packages/sklearn/metrics/_classification.py:1344: UndefinedMetricWarning: Precision is ill-defined and being set to 0.0 in labels with no predicted samples. Use `zero_division` parameter to control this behavior.\n",
            "  _warn_prf(average, modifier, msg_start, len(result))\n"
          ]
        }
      ]
    },
    {
      "cell_type": "markdown",
      "metadata": {
        "id": "qTE1uSq8gvM9"
      },
      "source": [
        "# **TCN - Fire Direction**"
      ]
    },
    {
      "cell_type": "code",
      "execution_count": null,
      "metadata": {
        "colab": {
          "base_uri": "https://localhost:8080/"
        },
        "id": "WCmeNm8kgxxZ",
        "outputId": "76f6ccfd-c299-4b8a-953c-0b6b5ecda457"
      },
      "outputs": [
        {
          "output_type": "stream",
          "name": "stdout",
          "text": [
            "Collecting keras-tcn\n",
            "  Downloading keras_tcn-3.5.0-py3-none-any.whl (13 kB)\n",
            "Requirement already satisfied: numpy in /usr/local/lib/python3.10/dist-packages (from keras-tcn) (1.25.2)\n",
            "Requirement already satisfied: tensorflow in /usr/local/lib/python3.10/dist-packages (from keras-tcn) (2.15.0)\n",
            "Collecting tensorflow-addons (from keras-tcn)\n",
            "  Downloading tensorflow_addons-0.23.0-cp310-cp310-manylinux_2_17_x86_64.manylinux2014_x86_64.whl (611 kB)\n",
            "\u001b[2K     \u001b[90m━━━━━━━━━━━━━━━━━━━━━━━━━━━━━━━━━━━━━━━━\u001b[0m \u001b[32m611.8/611.8 kB\u001b[0m \u001b[31m3.7 MB/s\u001b[0m eta \u001b[36m0:00:00\u001b[0m\n",
            "\u001b[?25hRequirement already satisfied: absl-py>=1.0.0 in /usr/local/lib/python3.10/dist-packages (from tensorflow->keras-tcn) (1.4.0)\n",
            "Requirement already satisfied: astunparse>=1.6.0 in /usr/local/lib/python3.10/dist-packages (from tensorflow->keras-tcn) (1.6.3)\n",
            "Requirement already satisfied: flatbuffers>=23.5.26 in /usr/local/lib/python3.10/dist-packages (from tensorflow->keras-tcn) (24.3.25)\n",
            "Requirement already satisfied: gast!=0.5.0,!=0.5.1,!=0.5.2,>=0.2.1 in /usr/local/lib/python3.10/dist-packages (from tensorflow->keras-tcn) (0.5.4)\n",
            "Requirement already satisfied: google-pasta>=0.1.1 in /usr/local/lib/python3.10/dist-packages (from tensorflow->keras-tcn) (0.2.0)\n",
            "Requirement already satisfied: h5py>=2.9.0 in /usr/local/lib/python3.10/dist-packages (from tensorflow->keras-tcn) (3.9.0)\n",
            "Requirement already satisfied: libclang>=13.0.0 in /usr/local/lib/python3.10/dist-packages (from tensorflow->keras-tcn) (18.1.1)\n",
            "Requirement already satisfied: ml-dtypes~=0.2.0 in /usr/local/lib/python3.10/dist-packages (from tensorflow->keras-tcn) (0.2.0)\n",
            "Requirement already satisfied: opt-einsum>=2.3.2 in /usr/local/lib/python3.10/dist-packages (from tensorflow->keras-tcn) (3.3.0)\n",
            "Requirement already satisfied: packaging in /usr/local/lib/python3.10/dist-packages (from tensorflow->keras-tcn) (24.1)\n",
            "Requirement already satisfied: protobuf!=4.21.0,!=4.21.1,!=4.21.2,!=4.21.3,!=4.21.4,!=4.21.5,<5.0.0dev,>=3.20.3 in /usr/local/lib/python3.10/dist-packages (from tensorflow->keras-tcn) (3.20.3)\n",
            "Requirement already satisfied: setuptools in /usr/local/lib/python3.10/dist-packages (from tensorflow->keras-tcn) (67.7.2)\n",
            "Requirement already satisfied: six>=1.12.0 in /usr/local/lib/python3.10/dist-packages (from tensorflow->keras-tcn) (1.16.0)\n",
            "Requirement already satisfied: termcolor>=1.1.0 in /usr/local/lib/python3.10/dist-packages (from tensorflow->keras-tcn) (2.4.0)\n",
            "Requirement already satisfied: typing-extensions>=3.6.6 in /usr/local/lib/python3.10/dist-packages (from tensorflow->keras-tcn) (4.12.2)\n",
            "Requirement already satisfied: wrapt<1.15,>=1.11.0 in /usr/local/lib/python3.10/dist-packages (from tensorflow->keras-tcn) (1.14.1)\n",
            "Requirement already satisfied: tensorflow-io-gcs-filesystem>=0.23.1 in /usr/local/lib/python3.10/dist-packages (from tensorflow->keras-tcn) (0.37.0)\n",
            "Requirement already satisfied: grpcio<2.0,>=1.24.3 in /usr/local/lib/python3.10/dist-packages (from tensorflow->keras-tcn) (1.64.1)\n",
            "Requirement already satisfied: tensorboard<2.16,>=2.15 in /usr/local/lib/python3.10/dist-packages (from tensorflow->keras-tcn) (2.15.2)\n",
            "Requirement already satisfied: tensorflow-estimator<2.16,>=2.15.0 in /usr/local/lib/python3.10/dist-packages (from tensorflow->keras-tcn) (2.15.0)\n",
            "Requirement already satisfied: keras<2.16,>=2.15.0 in /usr/local/lib/python3.10/dist-packages (from tensorflow->keras-tcn) (2.15.0)\n",
            "Collecting typeguard<3.0.0,>=2.7 (from tensorflow-addons->keras-tcn)\n",
            "  Downloading typeguard-2.13.3-py3-none-any.whl (17 kB)\n",
            "Requirement already satisfied: wheel<1.0,>=0.23.0 in /usr/local/lib/python3.10/dist-packages (from astunparse>=1.6.0->tensorflow->keras-tcn) (0.43.0)\n",
            "Requirement already satisfied: google-auth<3,>=1.6.3 in /usr/local/lib/python3.10/dist-packages (from tensorboard<2.16,>=2.15->tensorflow->keras-tcn) (2.27.0)\n",
            "Requirement already satisfied: google-auth-oauthlib<2,>=0.5 in /usr/local/lib/python3.10/dist-packages (from tensorboard<2.16,>=2.15->tensorflow->keras-tcn) (1.2.0)\n",
            "Requirement already satisfied: markdown>=2.6.8 in /usr/local/lib/python3.10/dist-packages (from tensorboard<2.16,>=2.15->tensorflow->keras-tcn) (3.6)\n",
            "Requirement already satisfied: requests<3,>=2.21.0 in /usr/local/lib/python3.10/dist-packages (from tensorboard<2.16,>=2.15->tensorflow->keras-tcn) (2.31.0)\n",
            "Requirement already satisfied: tensorboard-data-server<0.8.0,>=0.7.0 in /usr/local/lib/python3.10/dist-packages (from tensorboard<2.16,>=2.15->tensorflow->keras-tcn) (0.7.2)\n",
            "Requirement already satisfied: werkzeug>=1.0.1 in /usr/local/lib/python3.10/dist-packages (from tensorboard<2.16,>=2.15->tensorflow->keras-tcn) (3.0.3)\n",
            "Requirement already satisfied: cachetools<6.0,>=2.0.0 in /usr/local/lib/python3.10/dist-packages (from google-auth<3,>=1.6.3->tensorboard<2.16,>=2.15->tensorflow->keras-tcn) (5.3.3)\n",
            "Requirement already satisfied: pyasn1-modules>=0.2.1 in /usr/local/lib/python3.10/dist-packages (from google-auth<3,>=1.6.3->tensorboard<2.16,>=2.15->tensorflow->keras-tcn) (0.4.0)\n",
            "Requirement already satisfied: rsa<5,>=3.1.4 in /usr/local/lib/python3.10/dist-packages (from google-auth<3,>=1.6.3->tensorboard<2.16,>=2.15->tensorflow->keras-tcn) (4.9)\n",
            "Requirement already satisfied: requests-oauthlib>=0.7.0 in /usr/local/lib/python3.10/dist-packages (from google-auth-oauthlib<2,>=0.5->tensorboard<2.16,>=2.15->tensorflow->keras-tcn) (1.3.1)\n",
            "Requirement already satisfied: charset-normalizer<4,>=2 in /usr/local/lib/python3.10/dist-packages (from requests<3,>=2.21.0->tensorboard<2.16,>=2.15->tensorflow->keras-tcn) (3.3.2)\n",
            "Requirement already satisfied: idna<4,>=2.5 in /usr/local/lib/python3.10/dist-packages (from requests<3,>=2.21.0->tensorboard<2.16,>=2.15->tensorflow->keras-tcn) (3.7)\n",
            "Requirement already satisfied: urllib3<3,>=1.21.1 in /usr/local/lib/python3.10/dist-packages (from requests<3,>=2.21.0->tensorboard<2.16,>=2.15->tensorflow->keras-tcn) (2.0.7)\n",
            "Requirement already satisfied: certifi>=2017.4.17 in /usr/local/lib/python3.10/dist-packages (from requests<3,>=2.21.0->tensorboard<2.16,>=2.15->tensorflow->keras-tcn) (2024.6.2)\n",
            "Requirement already satisfied: MarkupSafe>=2.1.1 in /usr/local/lib/python3.10/dist-packages (from werkzeug>=1.0.1->tensorboard<2.16,>=2.15->tensorflow->keras-tcn) (2.1.5)\n",
            "Requirement already satisfied: pyasn1<0.7.0,>=0.4.6 in /usr/local/lib/python3.10/dist-packages (from pyasn1-modules>=0.2.1->google-auth<3,>=1.6.3->tensorboard<2.16,>=2.15->tensorflow->keras-tcn) (0.6.0)\n",
            "Requirement already satisfied: oauthlib>=3.0.0 in /usr/local/lib/python3.10/dist-packages (from requests-oauthlib>=0.7.0->google-auth-oauthlib<2,>=0.5->tensorboard<2.16,>=2.15->tensorflow->keras-tcn) (3.2.2)\n",
            "Installing collected packages: typeguard, tensorflow-addons, keras-tcn\n",
            "Successfully installed keras-tcn-3.5.0 tensorflow-addons-0.23.0 typeguard-2.13.3\n"
          ]
        }
      ],
      "source": [
        "pip install keras-tcn"
      ]
    },
    {
      "cell_type": "code",
      "execution_count": null,
      "metadata": {
        "id": "_KanDENXgyqc"
      },
      "outputs": [],
      "source": [
        "from tcn import TCN"
      ]
    },
    {
      "cell_type": "code",
      "execution_count": null,
      "metadata": {
        "id": "6y68chB_g_vM"
      },
      "outputs": [],
      "source": [
        "\n",
        "# Input layer for time series sequence\n",
        "input_sequence = Input(shape=(X_train_sequence.shape[1], 1), name='input_sequence')\n",
        "TCN_layer = TCN(150, return_sequences=True)(input_sequence)\n",
        "TCN_layer = TCN(100)(TCN_layer)\n",
        "\n",
        "num_classes = 7\n",
        "\n",
        "# Input layer for non-temporal features\n",
        "input_features = Input(shape=(X_train_features.shape[1],), name='input_features')\n",
        "\n",
        "# Concatenate LSTM output and non-temporal features\n",
        "concatenated = Concatenate()([TCN_layer, input_features])\n",
        "\n",
        "# Add Dropout for regularization\n",
        "concatenated = Dropout(0.5)(concatenated)\n",
        "\n",
        "# Dense layers for multiclass classification\n",
        "dense_layer_1 = Dense(128, activation='relu', kernel_regularizer=regularizers.l2(0.01))(concatenated)\n",
        "dense_layer_1 = Dropout(0.5)(dense_layer_1)\n",
        "output_layer = Dense(num_classes, activation='softmax')(dense_layer_1)  # For multiclass classification\n",
        "\n",
        "# Create the model\n",
        "model_TCN_multiclass = Model(inputs=[input_sequence, input_features], outputs=output_layer)\n",
        "\n",
        "# Compile the model\n",
        "model_TCN_multiclass.compile(optimizer=Adam(learning_rate=0.0001), loss='categorical_crossentropy', metrics=['accuracy'])\n",
        "\n",
        "epochs = 15  # You can adjust this based on your specific requirements\n",
        "batch_size = 42  # You can adjust this based on your specific requirements\n"
      ]
    },
    {
      "cell_type": "code",
      "execution_count": null,
      "metadata": {
        "colab": {
          "base_uri": "https://localhost:8080/"
        },
        "id": "IqdndhwehyTy",
        "outputId": "8c04791b-71d0-4fc6-a9bc-d3d7e02add34"
      },
      "outputs": [
        {
          "name": "stdout",
          "output_type": "stream",
          "text": [
            "Epoch 1/15\n",
            "3859/3859 [==============================] - 626s 158ms/step - loss: 60.5937 - accuracy: 0.5006 - val_loss: 2.8573 - val_accuracy: 0.6271\n",
            "Epoch 2/15\n",
            "3859/3859 [==============================] - 594s 154ms/step - loss: 3.1181 - accuracy: 0.6215 - val_loss: 2.4454 - val_accuracy: 0.6271\n",
            "Epoch 3/15\n",
            "3859/3859 [==============================] - 591s 153ms/step - loss: 2.2325 - accuracy: 0.6266 - val_loss: 1.7879 - val_accuracy: 0.6271\n",
            "Epoch 4/15\n",
            "3859/3859 [==============================] - 573s 148ms/step - loss: 1.7194 - accuracy: 0.6275 - val_loss: 1.4167 - val_accuracy: 0.6271\n",
            "Epoch 5/15\n",
            "3859/3859 [==============================] - 581s 151ms/step - loss: 1.4074 - accuracy: 0.6276 - val_loss: 1.2486 - val_accuracy: 0.6271\n",
            "Epoch 6/15\n",
            "3859/3859 [==============================] - 590s 153ms/step - loss: 1.2654 - accuracy: 0.6282 - val_loss: 1.1640 - val_accuracy: 0.6271\n",
            "Epoch 7/15\n",
            "3859/3859 [==============================] - 589s 153ms/step - loss: 1.1807 - accuracy: 0.6282 - val_loss: 1.1186 - val_accuracy: 0.6271\n",
            "Epoch 8/15\n",
            "3859/3859 [==============================] - 606s 157ms/step - loss: 1.1282 - accuracy: 0.6287 - val_loss: 1.0878 - val_accuracy: 0.6271\n",
            "Epoch 9/15\n",
            "3859/3859 [==============================] - 596s 154ms/step - loss: 1.0985 - accuracy: 0.6289 - val_loss: 1.0687 - val_accuracy: 0.6271\n",
            "Epoch 10/15\n",
            "3859/3859 [==============================] - 593s 154ms/step - loss: 1.0845 - accuracy: 0.6291 - val_loss: 1.0631 - val_accuracy: 0.6271\n",
            "Epoch 11/15\n",
            "3859/3859 [==============================] - 596s 154ms/step - loss: 1.0742 - accuracy: 0.6297 - val_loss: 1.0581 - val_accuracy: 0.6271\n",
            "Epoch 12/15\n",
            "3859/3859 [==============================] - 580s 150ms/step - loss: 1.0707 - accuracy: 0.6295 - val_loss: 1.0499 - val_accuracy: 0.6271\n",
            "Epoch 13/15\n",
            "3859/3859 [==============================] - 582s 151ms/step - loss: 1.0653 - accuracy: 0.6296 - val_loss: 1.0580 - val_accuracy: 0.6271\n",
            "Epoch 14/15\n",
            "3859/3859 [==============================] - 613s 159ms/step - loss: 1.0642 - accuracy: 0.6297 - val_loss: 1.0470 - val_accuracy: 0.6271\n",
            "Epoch 15/15\n",
            "3859/3859 [==============================] - 600s 155ms/step - loss: 1.0624 - accuracy: 0.6295 - val_loss: 1.0469 - val_accuracy: 0.6271\n"
          ]
        }
      ],
      "source": [
        "# Train the model using X_train_sequence and X_train_features\n",
        "history_model_TCN_multiclass = model_TCN_multiclass.fit(\n",
        "    {'input_sequence': X_train_sequence, 'input_features': X_train_features},\n",
        "    y_train_multiclass,\n",
        "    epochs=epochs,\n",
        "    batch_size=batch_size,\n",
        "    validation_data=({'input_sequence': X_val_sequence, 'input_features': X_val_features}, y_val_multiclass)\n",
        ")"
      ]
    },
    {
      "cell_type": "code",
      "execution_count": null,
      "metadata": {
        "colab": {
          "base_uri": "https://localhost:8080/"
        },
        "id": "SXdO50ZshyxJ",
        "outputId": "e1bd7f6e-25cf-40d1-def5-49ff08f6d99c"
      },
      "outputs": [
        {
          "name": "stdout",
          "output_type": "stream",
          "text": [
            "Model: \"model_5\"\n",
            "__________________________________________________________________________________________________\n",
            " Layer (type)                Output Shape                 Param #   Connected to                  \n",
            "==================================================================================================\n",
            " input_sequence (InputLayer  [(None, 1, 1)]               0         []                            \n",
            " )                                                                                                \n",
            "                                                                                                  \n",
            " tcn (TCN)                   (None, 1, 150)               745050    ['input_sequence[0][0]']      \n",
            "                                                                                                  \n",
            " tcn_1 (TCN)                 (None, 100)                  391300    ['tcn[0][0]']                 \n",
            "                                                                                                  \n",
            " input_features (InputLayer  [(None, 16)]                 0         []                            \n",
            " )                                                                                                \n",
            "                                                                                                  \n",
            " concatenate_5 (Concatenate  (None, 116)                  0         ['tcn_1[0][0]',               \n",
            " )                                                                   'input_features[0][0]']      \n",
            "                                                                                                  \n",
            " dropout_10 (Dropout)        (None, 116)                  0         ['concatenate_5[0][0]']       \n",
            "                                                                                                  \n",
            " dense_10 (Dense)            (None, 128)                  14976     ['dropout_10[0][0]']          \n",
            "                                                                                                  \n",
            " dropout_11 (Dropout)        (None, 128)                  0         ['dense_10[0][0]']            \n",
            "                                                                                                  \n",
            " dense_11 (Dense)            (None, 7)                    903       ['dropout_11[0][0]']          \n",
            "                                                                                                  \n",
            "==================================================================================================\n",
            "Total params: 1152229 (4.40 MB)\n",
            "Trainable params: 1152229 (4.40 MB)\n",
            "Non-trainable params: 0 (0.00 Byte)\n",
            "__________________________________________________________________________________________________\n"
          ]
        }
      ],
      "source": [
        "model_TCN_multiclass.summary()"
      ]
    },
    {
      "cell_type": "code",
      "execution_count": null,
      "metadata": {
        "colab": {
          "base_uri": "https://localhost:8080/"
        },
        "id": "XhZUVrJDh6de",
        "outputId": "1f309418-a563-4bbc-f9e2-db180d51d992"
      },
      "outputs": [
        {
          "name": "stdout",
          "output_type": "stream",
          "text": [
            "Final Training Accuracy: 0.6295251846313477\n",
            "Final Validation Accuracy: 0.6270604133605957\n"
          ]
        }
      ],
      "source": [
        "# Print the final training accuracy\n",
        "print(\"Final Training Accuracy:\", history_model_TCN_multiclass.history['accuracy'][-1])\n",
        "\n",
        "# Print the final validation accuracy\n",
        "print(\"Final Validation Accuracy:\", history_model_TCN_multiclass.history['val_accuracy'][-1])"
      ]
    },
    {
      "cell_type": "code",
      "execution_count": null,
      "metadata": {
        "id": "XN466Qx9RRMz"
      },
      "outputs": [],
      "source": [
        "# Save the model\n",
        "model_name = 'TCN_FireDirection.h5'\n",
        "\n",
        "# Save the model to Google Drive with the custom name\n",
        "model_TCN_multiclass.save(model_directory + model_name)"
      ]
    },
    {
      "cell_type": "markdown",
      "metadata": {
        "id": "dqMFoyXDTduH"
      },
      "source": [
        "## FINAL RESULTS"
      ]
    },
    {
      "cell_type": "code",
      "source": [
        "import tensorflow as tf\n",
        "from tensorflow.keras.models import load_model\n",
        "from tensorflow.keras.utils import custom_object_scope\n",
        "from sklearn.metrics import accuracy_score, precision_score, recall_score, f1_score\n",
        "import numpy as np\n",
        "\n",
        "with custom_object_scope({'TCN': TCN}):\n",
        "# Load the saved model\n",
        "    model = load_model(model_directory + 'TCN_FireDirection.h5')\n",
        "\n",
        "# Ensure the validation data is correctly shaped\n",
        "X_val_sequence = X_val_sequence.reshape(-1, X_val_sequence.shape[1], 1)\n",
        "\n",
        "# Make predictions\n",
        "y_pred_proba = model.predict({'input_sequence': X_val_sequence, 'input_features': X_val_features})\n",
        "\n",
        "# Convert predicted probabilities to class labels\n",
        "y_pred = np.argmax(y_pred_proba, axis=1)\n",
        "\n",
        "# Ensure y_val_multiclass is in integer form (not one-hot encoded)\n",
        "if y_val_multiclass.ndim > 1:\n",
        "    y_val_multiclass = np.argmax(y_val_multiclass, axis=1)\n",
        "\n",
        "# Calculate the loss\n",
        "loss_fn = tf.keras.losses.SparseCategoricalCrossentropy()\n",
        "loss = loss_fn(y_val_multiclass, y_pred_proba).numpy()\n",
        "\n",
        "# Calculate the metrics\n",
        "accuracy = accuracy_score(y_val_multiclass, y_pred)\n",
        "precision = precision_score(y_val_multiclass, y_pred, average='weighted')\n",
        "recall = recall_score(y_val_multiclass, y_pred, average='weighted')\n",
        "f1 = f1_score(y_val_multiclass, y_pred, average='weighted')\n",
        "\n",
        "print(f\"Loss: {loss}\")\n",
        "print(f\"Accuracy: {accuracy}\")\n",
        "print(f\"Precision: {precision}\")\n",
        "print(f\"Recall: {recall}\")\n",
        "print(f\"F1-Score: {f1}\")\n",
        "\n"
      ],
      "metadata": {
        "colab": {
          "base_uri": "https://localhost:8080/"
        },
        "outputId": "12f84321-e32d-4688-8a70-f01b65debc3e",
        "id": "nQg8-PW9TduI"
      },
      "execution_count": null,
      "outputs": [
        {
          "output_type": "stream",
          "name": "stdout",
          "text": [
            "1347/1347 [==============================] - 43s 31ms/step\n",
            "Loss: 1.0443052053451538\n",
            "Accuracy: 0.6270604076705205\n",
            "Precision: 0.39320475486791934\n",
            "Recall: 0.6270604076705205\n",
            "F1-Score: 0.4833314768329649\n"
          ]
        },
        {
          "output_type": "stream",
          "name": "stderr",
          "text": [
            "/usr/local/lib/python3.10/dist-packages/sklearn/metrics/_classification.py:1344: UndefinedMetricWarning: Precision is ill-defined and being set to 0.0 in labels with no predicted samples. Use `zero_division` parameter to control this behavior.\n",
            "  _warn_prf(average, modifier, msg_start, len(result))\n"
          ]
        }
      ]
    },
    {
      "cell_type": "markdown",
      "metadata": {
        "id": "sZPyXAUDt16-"
      },
      "source": [
        "# **Combined Bidirectional LSTM (BiLSTM) and GRU - Fire Direction**"
      ]
    },
    {
      "cell_type": "code",
      "execution_count": null,
      "metadata": {
        "colab": {
          "base_uri": "https://localhost:8080/"
        },
        "id": "0aIn1BWsuIzh",
        "outputId": "e41bd2ab-8383-494c-cb88-5526cbbffd92"
      },
      "outputs": [
        {
          "output_type": "stream",
          "name": "stdout",
          "text": [
            "Epoch 1/20\n",
            "3859/3859 [==============================] - 293s 72ms/step - loss: 0.6494 - accuracy: 0.7465 - val_loss: 0.4703 - val_accuracy: 0.8072\n",
            "Epoch 2/20\n",
            "3859/3859 [==============================] - 277s 72ms/step - loss: 0.4417 - accuracy: 0.8311 - val_loss: 0.2724 - val_accuracy: 0.9023\n",
            "Epoch 3/20\n",
            "3859/3859 [==============================] - 279s 72ms/step - loss: 0.3041 - accuracy: 0.8928 - val_loss: 0.1943 - val_accuracy: 0.9343\n",
            "Epoch 4/20\n",
            "3859/3859 [==============================] - 276s 71ms/step - loss: 0.2073 - accuracy: 0.9335 - val_loss: 0.1128 - val_accuracy: 0.9654\n",
            "Epoch 5/20\n",
            "3859/3859 [==============================] - 275s 71ms/step - loss: 0.1540 - accuracy: 0.9533 - val_loss: 0.0788 - val_accuracy: 0.9753\n",
            "Epoch 6/20\n",
            "3859/3859 [==============================] - 273s 71ms/step - loss: 0.1169 - accuracy: 0.9665 - val_loss: 0.0525 - val_accuracy: 0.9851\n",
            "Epoch 7/20\n",
            "3859/3859 [==============================] - 275s 71ms/step - loss: 0.0921 - accuracy: 0.9741 - val_loss: 0.0477 - val_accuracy: 0.9865\n",
            "Epoch 8/20\n",
            "3859/3859 [==============================] - 274s 71ms/step - loss: 0.0813 - accuracy: 0.9771 - val_loss: 0.0417 - val_accuracy: 0.9886\n",
            "Epoch 9/20\n",
            "3859/3859 [==============================] - 274s 71ms/step - loss: 0.0676 - accuracy: 0.9819 - val_loss: 0.0457 - val_accuracy: 0.9879\n",
            "Epoch 10/20\n",
            "3859/3859 [==============================] - 274s 71ms/step - loss: 0.0611 - accuracy: 0.9834 - val_loss: 0.0652 - val_accuracy: 0.9816\n",
            "Epoch 11/20\n",
            "3859/3859 [==============================] - 277s 72ms/step - loss: 0.0597 - accuracy: 0.9836 - val_loss: 0.0371 - val_accuracy: 0.9891\n",
            "Epoch 12/20\n",
            "3859/3859 [==============================] - 274s 71ms/step - loss: 0.0538 - accuracy: 0.9853 - val_loss: 0.0437 - val_accuracy: 0.9873\n",
            "Epoch 13/20\n",
            "3859/3859 [==============================] - 274s 71ms/step - loss: 0.0469 - accuracy: 0.9874 - val_loss: 0.0263 - val_accuracy: 0.9919\n",
            "Epoch 14/20\n",
            "3859/3859 [==============================] - 277s 72ms/step - loss: 0.0455 - accuracy: 0.9875 - val_loss: 0.0402 - val_accuracy: 0.9887\n",
            "Epoch 15/20\n",
            "3859/3859 [==============================] - 276s 72ms/step - loss: 0.0406 - accuracy: 0.9891 - val_loss: 0.0241 - val_accuracy: 0.9931\n",
            "Epoch 16/20\n",
            "3859/3859 [==============================] - 264s 68ms/step - loss: 0.0405 - accuracy: 0.9891 - val_loss: 0.0223 - val_accuracy: 0.9936\n",
            "Epoch 17/20\n",
            "3859/3859 [==============================] - 273s 71ms/step - loss: 0.0382 - accuracy: 0.9898 - val_loss: 0.0231 - val_accuracy: 0.9930\n",
            "Epoch 18/20\n",
            "3859/3859 [==============================] - 282s 73ms/step - loss: 0.0372 - accuracy: 0.9902 - val_loss: 0.0369 - val_accuracy: 0.9900\n",
            "Epoch 19/20\n",
            "3859/3859 [==============================] - 281s 73ms/step - loss: 0.0358 - accuracy: 0.9903 - val_loss: 0.0428 - val_accuracy: 0.9890\n",
            "Epoch 20/20\n",
            "3859/3859 [==============================] - 283s 73ms/step - loss: 0.0343 - accuracy: 0.9907 - val_loss: 0.0458 - val_accuracy: 0.9911\n"
          ]
        }
      ],
      "source": [
        "import numpy as np\n",
        "import pandas as pd\n",
        "from sklearn.model_selection import train_test_split\n",
        "from sklearn.preprocessing import StandardScaler\n",
        "from tensorflow import keras\n",
        "from tensorflow.keras import layers\n",
        "from sklearn.preprocessing import OneHotEncoder\n",
        "\n",
        "# Assuming you have X_train_features, X_train_time, y_train as your training data\n",
        "# Similarly, you would have X_test_features, X_test_time, y_test for testing data\n",
        "\n",
        "# Standardize the features\n",
        "scaler_features = StandardScaler()\n",
        "X_train_features = scaler_features.fit_transform(X_train_features)\n",
        "X_test_features = scaler_features.fit_transform(X_val_features)\n",
        "\n",
        "# Standardize the time sequence\n",
        "scaler_time = StandardScaler()\n",
        "X_train_time = scaler_time.fit_transform(X_train_sequence.reshape(-1, 1))\n",
        "X_test_time = scaler_time.fit_transform(X_val_sequence.reshape(-1, 1))\n",
        "\n",
        "from tensorflow.keras import layers, models, optimizers\n",
        "\n",
        "def create_bilstm_gru_model_multiclass1(input_shape_features, input_shape_time,num_classes):\n",
        "    features_input = layers.Input(shape=input_shape_features, name='features_input')\n",
        "    time_input = layers.Input(shape=input_shape_time, name='time_input')\n",
        "\n",
        "    # BiLSTM layers with dropout\n",
        "    lstm_out = layers.Bidirectional(layers.LSTM(64, return_sequences=True))(features_input)\n",
        "    lstm_out = layers.Dropout(0.3)(lstm_out)\n",
        "    lstm_out = layers.Bidirectional(layers.LSTM(64, return_sequences=True))(lstm_out)\n",
        "    lstm_out = layers.Dropout(0.3)(lstm_out)\n",
        "\n",
        "    # GRU layers with dropout\n",
        "    gru_out = layers.GRU(32, return_sequences=True)(lstm_out)\n",
        "    gru_out = layers.Dropout(0.3)(gru_out)\n",
        "    gru_out = layers.GRU(32)(gru_out)\n",
        "    gru_out = layers.Dropout(0.3)(gru_out)\n",
        "\n",
        "    # Combining the outputs\n",
        "    combined = layers.concatenate([gru_out, time_input])\n",
        "\n",
        "    # Dense layers with batch normalization and dropout\n",
        "    dense_out = layers.Dense(64, activation='softmax')(combined)\n",
        "    dense_out = layers.BatchNormalization()(dense_out)\n",
        "    dense_out = layers.Dropout(0.3)(dense_out)\n",
        "\n",
        "    dense_out = layers.Dense(32, activation='softmax')(dense_out)\n",
        "    dense_out = layers.BatchNormalization()(dense_out)\n",
        "    dense_out = layers.Dropout(0.3)(dense_out)\n",
        "\n",
        "    # Use 'softmax' activation for multivariable classification with num_classes output neurons\n",
        "    output = layers.Dense(num_classes, activation='softmax', name='output')(dense_out)\n",
        "\n",
        "    # Creating the model\n",
        "    model_combined_gru_lstm = models.Model(inputs=[features_input, time_input], outputs=output)\n",
        "\n",
        "    # Compiling the model\n",
        "    model_combined_gru_lstm.compile(optimizer=optimizers.Adam(learning_rate=0.001),\n",
        "                                    loss='categorical_crossentropy',\n",
        "                                    metrics=['accuracy'])\n",
        "\n",
        "    return model_combined_gru_lstm\n",
        "\n",
        "# Assuming y_train and y_test are categorical labels (one-hot encoded)\n",
        "num_classes = 7\n",
        "\n",
        "# Create and compile the model for multivariable classification\n",
        "model_combined_gru_lstm_multiclass = create_bilstm_gru_model_multiclass1((X_train_features.shape[1], 1), (1,), num_classes)\n",
        "\n",
        "# Initialize OneHotEncoder\n",
        "encoder = OneHotEncoder(sparse_output=False)\n",
        "\n",
        "# Reshape your labels to a 2D array (required by OneHotEncoder)\n",
        "y_train_reshaped = y_train.reshape(-1, 1)\n",
        "y_val_reshaped = y_val.reshape(-1, 1)\n",
        "\n",
        "# Fit and transform the labels\n",
        "y_train_one_hot = encoder.fit_transform(y_train_reshaped)\n",
        "y_test_one_hot = encoder.fit_transform(y_val_reshaped)\n",
        "\n",
        "# Train the model\n",
        "history_model_bilstm_gru_combined_multiclass = model_combined_gru_lstm_multiclass.fit(\n",
        "    [X_train_features, X_train_time],\n",
        "    y_train_one_hot,\n",
        "    epochs=20,\n",
        "    batch_size=42,\n",
        "    validation_data=([X_test_features, X_test_time], y_test_one_hot)\n",
        ")\n"
      ]
    },
    {
      "cell_type": "code",
      "execution_count": null,
      "metadata": {
        "colab": {
          "base_uri": "https://localhost:8080/"
        },
        "id": "Un74sgWRuVW8",
        "outputId": "85f5667e-1fc6-4bd9-d0a6-c2261cc387a9"
      },
      "outputs": [
        {
          "output_type": "stream",
          "name": "stdout",
          "text": [
            "Final Training Accuracy : 0.9907429218292236\n",
            "Final Validation Accuracy: 0.9911315441131592\n"
          ]
        }
      ],
      "source": [
        "# Print the final training accuracy\n",
        "print(\"Final Training Accuracy :\", history_model_bilstm_gru_combined_multiclass.history['accuracy'][-1])\n",
        "# Print the final validation accuracy\n",
        "print(\"Final Validation Accuracy:\", history_model_bilstm_gru_combined_multiclass.history['val_accuracy'][-1])"
      ]
    },
    {
      "cell_type": "code",
      "execution_count": null,
      "metadata": {
        "colab": {
          "base_uri": "https://localhost:8080/"
        },
        "id": "sXzDJLYTRXL8",
        "outputId": "8aa33fde-cade-4720-8111-ebada38be3e6"
      },
      "outputs": [
        {
          "output_type": "stream",
          "name": "stderr",
          "text": [
            "/usr/local/lib/python3.10/dist-packages/keras/src/engine/training.py:3103: UserWarning: You are saving your model as an HDF5 file via `model.save()`. This file format is considered legacy. We recommend using instead the native Keras format, e.g. `model.save('my_model.keras')`.\n",
            "  saving_api.save_model(\n"
          ]
        }
      ],
      "source": [
        "# Save the model\n",
        "model_name = 'BiLSTM_GRU_combined_FireDirection_new.h5'\n",
        "\n",
        "# Save the model to Google Drive with the custom name\n",
        "model_combined_gru_lstm_multiclass.save(model_directory + model_name)"
      ]
    },
    {
      "cell_type": "markdown",
      "metadata": {
        "id": "-jISk852TXRN"
      },
      "source": [
        "## FINAL RESULTS"
      ]
    },
    {
      "cell_type": "code",
      "source": [
        "from sklearn.preprocessing import StandardScaler\n",
        "# Standardize the features\n",
        "scaler_features = StandardScaler()\n",
        "X_train_features = scaler_features.fit_transform(X_train_features)\n",
        "X_test_features = scaler_features.fit_transform(X_val_features)\n",
        "\n",
        "# Standardize the time sequence\n",
        "scaler_time = StandardScaler()\n",
        "X_train_time = scaler_time.fit_transform(X_train_sequence.reshape(-1, 1))\n",
        "X_test_time = scaler_time.fit_transform(X_val_sequence.reshape(-1, 1))"
      ],
      "metadata": {
        "id": "pR_7s-v1UV8a"
      },
      "execution_count": null,
      "outputs": []
    },
    {
      "cell_type": "code",
      "source": [
        "import tensorflow as tf\n",
        "from tensorflow.keras.models import load_model\n",
        "from sklearn.metrics import accuracy_score, precision_score, recall_score, f1_score\n",
        "import numpy as np\n",
        "\n",
        "# Load the saved model\n",
        "model = load_model(model_directory + 'BiLSTM_GRU_combined_FireDirection_new.h5')\n",
        "\n",
        "# Ensure the validation data is correctly shaped\n",
        "X_test_time = X_test_time.reshape(-1, X_test_time.shape[1], 1)\n",
        "\n",
        "# Make predictions\n",
        "y_pred_proba = model.predict({ 'features_input': X_test_features,'time_input': X_test_time})\n",
        "\n",
        "# Initialize OneHotEncoder\n",
        "encoder = OneHotEncoder(sparse_output=False)\n",
        "\n",
        "y_val_reshaped = y_val.reshape(-1, 1)\n",
        "y_test_one_hot = encoder.fit_transform(y_val_reshaped)\n",
        "y_val_multiclass=y_test_one_hot\n",
        "\n",
        "\n",
        "# Convert predicted probabilities to class labels\n",
        "y_pred = np.argmax(y_pred_proba, axis=1)\n",
        "\n",
        "# Ensure y_val_multiclass is in integer form (not one-hot encoded)\n",
        "if y_val_multiclass.ndim > 1:\n",
        "    y_val_multiclass = np.argmax(y_val_multiclass, axis=1)\n",
        "\n",
        "# Calculate the loss\n",
        "loss_fn = tf.keras.losses.SparseCategoricalCrossentropy()\n",
        "loss = loss_fn(y_val_multiclass, y_pred_proba).numpy()\n",
        "\n",
        "# Calculate the metrics\n",
        "accuracy = accuracy_score(y_val_multiclass, y_pred)\n",
        "precision = precision_score(y_val_multiclass, y_pred, average='weighted')\n",
        "recall = recall_score(y_val_multiclass, y_pred, average='weighted')\n",
        "f1 = f1_score(y_val_multiclass, y_pred, average='weighted')\n",
        "\n",
        "print(f\"Loss: {loss}\")\n",
        "print(f\"Accuracy: {accuracy}\")\n",
        "print(f\"Precision: {precision}\")\n",
        "print(f\"Recall: {recall}\")\n",
        "print(f\"F1-Score: {f1}\")\n",
        "\n"
      ],
      "metadata": {
        "colab": {
          "base_uri": "https://localhost:8080/"
        },
        "outputId": "c4ca94f7-f4f6-4d25-e7c1-de5cc6813732",
        "id": "gEq8zHwGTXRX"
      },
      "execution_count": null,
      "outputs": [
        {
          "output_type": "stream",
          "name": "stdout",
          "text": [
            "1347/1347 [==============================] - 30s 21ms/step\n",
            "Loss: 0.04578786715865135\n",
            "Accuracy: 0.9911315410688583\n",
            "Precision: 0.9915268012438727\n",
            "Recall: 0.9911315410688583\n",
            "F1-Score: 0.9912451256393395\n"
          ]
        }
      ]
    },
    {
      "cell_type": "markdown",
      "metadata": {
        "id": "_Gph4AH4jn_H"
      },
      "source": [
        "# **Features Selection for Fire Distance Range Prediction**"
      ]
    },
    {
      "cell_type": "code",
      "execution_count": null,
      "metadata": {
        "id": "Hk_84x69jvfm"
      },
      "outputs": [],
      "source": [
        "from sklearn.model_selection import train_test_split\n",
        "\n",
        "# Select all columns except last one as features\n",
        "features = meteo_bc_gases_data_Dir_Dis.iloc[:, :-2].values\n",
        "\n",
        "# Select the last column as labels\n",
        "labels = meteo_bc_gases_data_Dir_Dis.iloc[:, -2].values\n",
        "\n",
        "# Split the data into training and testing sets\n",
        "X_train, X_test, y_train, y_test = train_test_split(features, labels, test_size=0.21, random_state=52)"
      ]
    },
    {
      "cell_type": "code",
      "execution_count": null,
      "metadata": {
        "colab": {
          "base_uri": "https://localhost:8080/"
        },
        "id": "yjz3ZXuVkDbO",
        "outputId": "81a44bc1-e508-429e-aea3-dacf23cf636d"
      },
      "outputs": [
        {
          "output_type": "execute_result",
          "data": {
            "text/plain": [
              "array([1, 2, 3, 4, 5, 6, 7, 8])"
            ]
          },
          "metadata": {},
          "execution_count": 134
        }
      ],
      "source": [
        "import numpy as np\n",
        "\n",
        "np.unique(y_train)"
      ]
    },
    {
      "cell_type": "code",
      "execution_count": null,
      "metadata": {
        "id": "QrROS-UrkVwv"
      },
      "outputs": [],
      "source": [
        "# Extract time series sequence (assuming it's in the first column)\n",
        "X_train_sequence = X_train[:, 0].reshape(-1, 1)\n",
        "X_val_sequence = X_test[:, 0].reshape(-1, 1)\n",
        "\n",
        "# Extract non-temporal features (assuming they start from the second column)\n",
        "X_train_features = X_train[:, 1:]\n",
        "X_val_features = X_test[:, 1:]\n",
        "y_val = y_test\n",
        "\n",
        "# Define validation data (assuming you have X_val_sequence, X_val_features, and y_val)\n",
        "validation_data = ({'input_sequence': X_val_sequence, 'input_features': X_val_features}, y_val)"
      ]
    },
    {
      "cell_type": "code",
      "execution_count": null,
      "metadata": {
        "id": "Fpdyjw_1kWT2"
      },
      "outputs": [],
      "source": [
        "from sklearn.preprocessing import OneHotEncoder\n",
        "\n",
        "# Initialize OneHotEncoder\n",
        "encoder = OneHotEncoder(sparse_output=False)\n",
        "\n",
        "# Reshape your labels to a 2D array (required by OneHotEncoder)\n",
        "y_train_reshaped = y_train.reshape(-1, 1)\n",
        "y_val_reshaped = y_val.reshape(-1, 1)\n",
        "\n",
        "# Fit and transform the labels\n",
        "y_train_multiclass = encoder.fit_transform(y_train_reshaped)\n",
        "y_val_multiclass = encoder.fit_transform(y_val_reshaped)\n"
      ]
    },
    {
      "cell_type": "code",
      "execution_count": null,
      "metadata": {
        "id": "edLYFCOlkeeq"
      },
      "outputs": [],
      "source": []
    },
    {
      "cell_type": "markdown",
      "metadata": {
        "id": "B2zcktJ5kkgA"
      },
      "source": [
        "# **LSTM - Fire Distance Range**\n"
      ]
    },
    {
      "cell_type": "code",
      "execution_count": null,
      "metadata": {
        "id": "pwiFH-5bkp7b"
      },
      "outputs": [],
      "source": [
        "# Input layer for time series sequence\n",
        "input_sequence = Input(shape=(X_train_sequence.shape[1], 1), name='input_sequence')\n",
        "lstm_layer = LSTM(150, return_sequences=True, dropout=0.2, recurrent_dropout=0.2)(input_sequence)\n",
        "lstm_layer = LSTM(100, dropout=0.2, recurrent_dropout=0.2)(lstm_layer)\n",
        "\n",
        "num_classes = 8\n",
        "\n",
        "# Input layer for non-temporal features\n",
        "input_features = Input(shape=(X_train_features.shape[1],), name='input_features')\n",
        "\n",
        "# Concatenate LSTM output and non-temporal features\n",
        "concatenated = Concatenate()([lstm_layer, input_features])\n",
        "\n",
        "# Add Dropout for regularization\n",
        "concatenated = Dropout(0.5)(concatenated)\n",
        "\n",
        "# Dense layers for multiclass classification\n",
        "dense_layer_1 = Dense(128, activation='relu', kernel_regularizer=regularizers.l2(0.01))(concatenated)\n",
        "dense_layer_1 = Dropout(0.5)(dense_layer_1)\n",
        "output_layer = Dense(num_classes, activation='softmax')(dense_layer_1)  # For multiclass classification\n",
        "\n",
        "# Create the model\n",
        "model_lstm_multiclass_fireRange = Model(inputs=[input_sequence, input_features], outputs=output_layer)\n",
        "\n",
        "# Compile the model\n",
        "model_lstm_multiclass_fireRange.compile(optimizer=Adam(learning_rate=0.0001), loss='categorical_crossentropy', metrics=['accuracy'])\n",
        "\n",
        "epochs = 15  # You can adjust this based on your specific requirements\n",
        "batch_size = 42  # You can adjust this based on your specific requirements\n"
      ]
    },
    {
      "cell_type": "code",
      "execution_count": null,
      "metadata": {
        "colab": {
          "base_uri": "https://localhost:8080/"
        },
        "id": "XdPayWnTktRU",
        "outputId": "eedf5a96-a878-44f2-d04f-6061ce21bf69"
      },
      "outputs": [
        {
          "name": "stdout",
          "output_type": "stream",
          "text": [
            "Epoch 1/15\n",
            "3859/3859 [==============================] - 59s 13ms/step - loss: 112.7923 - accuracy: 0.2775 - val_loss: 2.5773 - val_accuracy: 0.4374\n",
            "Epoch 2/15\n",
            "3859/3859 [==============================] - 49s 13ms/step - loss: 3.3549 - accuracy: 0.3874 - val_loss: 1.7640 - val_accuracy: 0.4373\n",
            "Epoch 3/15\n",
            "3859/3859 [==============================] - 51s 13ms/step - loss: 1.7789 - accuracy: 0.4406 - val_loss: 1.6325 - val_accuracy: 0.4374\n",
            "Epoch 4/15\n",
            "3859/3859 [==============================] - 49s 13ms/step - loss: 1.6293 - accuracy: 0.4477 - val_loss: 1.5933 - val_accuracy: 0.4374\n",
            "Epoch 5/15\n",
            "3859/3859 [==============================] - 52s 14ms/step - loss: 1.5628 - accuracy: 0.4528 - val_loss: 1.5538 - val_accuracy: 0.4374\n",
            "Epoch 6/15\n",
            "3859/3859 [==============================] - 49s 13ms/step - loss: 1.5288 - accuracy: 0.4552 - val_loss: 1.5549 - val_accuracy: 0.4374\n",
            "Epoch 7/15\n",
            "3859/3859 [==============================] - 51s 13ms/step - loss: 1.5004 - accuracy: 0.4601 - val_loss: 1.5631 - val_accuracy: 0.4374\n",
            "Epoch 8/15\n",
            "3859/3859 [==============================] - 50s 13ms/step - loss: 1.4883 - accuracy: 0.4631 - val_loss: 1.5680 - val_accuracy: 0.4374\n",
            "Epoch 9/15\n",
            "3859/3859 [==============================] - 51s 13ms/step - loss: 1.4729 - accuracy: 0.4653 - val_loss: 1.5608 - val_accuracy: 0.4374\n",
            "Epoch 10/15\n",
            "3859/3859 [==============================] - 52s 14ms/step - loss: 1.4763 - accuracy: 0.4549 - val_loss: 1.5356 - val_accuracy: 0.4374\n",
            "Epoch 11/15\n",
            "3859/3859 [==============================] - 50s 13ms/step - loss: 1.4641 - accuracy: 0.4593 - val_loss: 1.5442 - val_accuracy: 0.4374\n",
            "Epoch 12/15\n",
            "3859/3859 [==============================] - 51s 13ms/step - loss: 1.4511 - accuracy: 0.4641 - val_loss: 1.5508 - val_accuracy: 0.4374\n",
            "Epoch 13/15\n",
            "3859/3859 [==============================] - 49s 13ms/step - loss: 1.4474 - accuracy: 0.4658 - val_loss: 1.5365 - val_accuracy: 0.4374\n",
            "Epoch 14/15\n",
            "3859/3859 [==============================] - 50s 13ms/step - loss: 1.4347 - accuracy: 0.4714 - val_loss: 1.5470 - val_accuracy: 0.4374\n",
            "Epoch 15/15\n",
            "3859/3859 [==============================] - 49s 13ms/step - loss: 1.4294 - accuracy: 0.4747 - val_loss: 1.5461 - val_accuracy: 0.4374\n"
          ]
        }
      ],
      "source": [
        "# Train the model using X_train_sequence and X_train_features\n",
        "history_lstm_fireRange = model_lstm_multiclass_fireRange.fit(\n",
        "    {'input_sequence': X_train_sequence, 'input_features': X_train_features},\n",
        "    y_train_multiclass,\n",
        "    epochs=epochs,\n",
        "    batch_size=batch_size,\n",
        "    validation_data=({'input_sequence': X_val_sequence, 'input_features': X_val_features}, y_val_multiclass)\n",
        ")"
      ]
    },
    {
      "cell_type": "code",
      "execution_count": null,
      "metadata": {
        "colab": {
          "base_uri": "https://localhost:8080/"
        },
        "id": "oTF5ZN47kv5r",
        "outputId": "475aed0f-1323-42fb-aa94-e79ded742594"
      },
      "outputs": [
        {
          "name": "stdout",
          "output_type": "stream",
          "text": [
            "Model: \"model_7\"\n",
            "__________________________________________________________________________________________________\n",
            " Layer (type)                Output Shape                 Param #   Connected to                  \n",
            "==================================================================================================\n",
            " input_sequence (InputLayer  [(None, 1, 1)]               0         []                            \n",
            " )                                                                                                \n",
            "                                                                                                  \n",
            " lstm_6 (LSTM)               (None, 1, 150)               91200     ['input_sequence[0][0]']      \n",
            "                                                                                                  \n",
            " lstm_7 (LSTM)               (None, 100)                  100400    ['lstm_6[0][0]']              \n",
            "                                                                                                  \n",
            " input_features (InputLayer  [(None, 15)]                 0         []                            \n",
            " )                                                                                                \n",
            "                                                                                                  \n",
            " concatenate_7 (Concatenate  (None, 115)                  0         ['lstm_7[0][0]',              \n",
            " )                                                                   'input_features[0][0]']      \n",
            "                                                                                                  \n",
            " dropout_12 (Dropout)        (None, 115)                  0         ['concatenate_7[0][0]']       \n",
            "                                                                                                  \n",
            " dense_12 (Dense)            (None, 128)                  14848     ['dropout_12[0][0]']          \n",
            "                                                                                                  \n",
            " dropout_13 (Dropout)        (None, 128)                  0         ['dense_12[0][0]']            \n",
            "                                                                                                  \n",
            " dense_13 (Dense)            (None, 8)                    1032      ['dropout_13[0][0]']          \n",
            "                                                                                                  \n",
            "==================================================================================================\n",
            "Total params: 207480 (810.47 KB)\n",
            "Trainable params: 207480 (810.47 KB)\n",
            "Non-trainable params: 0 (0.00 Byte)\n",
            "__________________________________________________________________________________________________\n"
          ]
        }
      ],
      "source": [
        "model_lstm_multiclass_fireRange.summary()"
      ]
    },
    {
      "cell_type": "code",
      "execution_count": null,
      "metadata": {
        "colab": {
          "base_uri": "https://localhost:8080/"
        },
        "id": "L-u-b0OzkzR4",
        "outputId": "1aa3b66b-8ebe-4ef6-bb5a-e9a64bc61991"
      },
      "outputs": [
        {
          "name": "stdout",
          "output_type": "stream",
          "text": [
            "Final Training Accuracy: 0.47467878460884094\n",
            "Final Validation Accuracy: 0.43738681077957153\n"
          ]
        }
      ],
      "source": [
        "# Print the final training accuracy\n",
        "print(\"Final Training Accuracy:\", history_lstm_fireRange.history['accuracy'][-1])\n",
        "\n",
        "# Print the final validation accuracy\n",
        "print(\"Final Validation Accuracy:\", history_lstm_fireRange.history['val_accuracy'][-1])"
      ]
    },
    {
      "cell_type": "code",
      "execution_count": null,
      "metadata": {
        "colab": {
          "base_uri": "https://localhost:8080/"
        },
        "id": "Y-RYClfNRjhY",
        "outputId": "68480630-74ef-4bd7-8553-db1c69188102"
      },
      "outputs": [
        {
          "name": "stderr",
          "output_type": "stream",
          "text": [
            "/usr/local/lib/python3.10/dist-packages/keras/src/engine/training.py:3103: UserWarning: You are saving your model as an HDF5 file via `model.save()`. This file format is considered legacy. We recommend using instead the native Keras format, e.g. `model.save('my_model.keras')`.\n",
            "  saving_api.save_model(\n"
          ]
        }
      ],
      "source": [
        "# Save the model\n",
        "model_name = 'LSTM_FireDistance_Range.h5'\n",
        "\n",
        "# Save the model to Google Drive with the custom name\n",
        "model_lstm_multiclass_fireRange.save(model_directory + model_name)"
      ]
    },
    {
      "cell_type": "markdown",
      "metadata": {
        "id": "JdDJRRhJW6X1"
      },
      "source": [
        "## FINAL RESULTS"
      ]
    },
    {
      "cell_type": "code",
      "source": [
        "import tensorflow as tf\n",
        "from tensorflow.keras.models import load_model\n",
        "from sklearn.metrics import accuracy_score, precision_score, recall_score, f1_score\n",
        "import numpy as np\n",
        "\n",
        "# Load the saved model\n",
        "model = load_model(model_directory + 'LSTM_FireDistance_Range.h5')\n",
        "\n",
        "# Ensure the validation data is correctly shaped\n",
        "X_val_sequence = X_val_sequence.reshape(-1, X_val_sequence.shape[1], 1)\n",
        "\n",
        "# Make predictions\n",
        "y_pred_proba = model.predict({'input_sequence': X_val_sequence, 'input_features': X_val_features})\n",
        "\n",
        "# Convert predicted probabilities to class labels\n",
        "y_pred = np.argmax(y_pred_proba, axis=1)\n",
        "\n",
        "# Ensure y_val_multiclass is in integer form (not one-hot encoded)\n",
        "if y_val_multiclass.ndim > 1:\n",
        "    y_val_multiclass = np.argmax(y_val_multiclass, axis=1)\n",
        "\n",
        "# Calculate the loss\n",
        "loss_fn = tf.keras.losses.SparseCategoricalCrossentropy()\n",
        "loss = loss_fn(y_val_multiclass, y_pred_proba).numpy()\n",
        "\n",
        "# Calculate the metrics\n",
        "accuracy = accuracy_score(y_val_multiclass, y_pred)\n",
        "precision = precision_score(y_val_multiclass, y_pred, average='weighted')\n",
        "recall = recall_score(y_val_multiclass, y_pred, average='weighted')\n",
        "f1 = f1_score(y_val_multiclass, y_pred, average='weighted')\n",
        "\n",
        "print(f\"Loss: {loss}\")\n",
        "print(f\"Accuracy: {accuracy}\")\n",
        "print(f\"Precision: {precision}\")\n",
        "print(f\"Recall: {recall}\")\n",
        "print(f\"F1-Score: {f1}\")\n",
        "\n"
      ],
      "metadata": {
        "colab": {
          "base_uri": "https://localhost:8080/"
        },
        "outputId": "a329b4e9-541c-480f-e8c8-261195873c12",
        "id": "RvaH1qy1W6X1"
      },
      "execution_count": null,
      "outputs": [
        {
          "output_type": "stream",
          "name": "stdout",
          "text": [
            "1347/1347 [==============================] - 5s 3ms/step\n",
            "Loss: 1.5331594944000244\n",
            "Accuracy: 0.4373868226772531\n",
            "Precision: 0.19130723265170282\n",
            "Recall: 0.4373868226772531\n",
            "F1-Score: 0.26618754204992245\n"
          ]
        },
        {
          "output_type": "stream",
          "name": "stderr",
          "text": [
            "/usr/local/lib/python3.10/dist-packages/sklearn/metrics/_classification.py:1344: UndefinedMetricWarning: Precision is ill-defined and being set to 0.0 in labels with no predicted samples. Use `zero_division` parameter to control this behavior.\n",
            "  _warn_prf(average, modifier, msg_start, len(result))\n"
          ]
        }
      ]
    },
    {
      "cell_type": "markdown",
      "metadata": {
        "id": "NPM9Ve2dlNMJ"
      },
      "source": [
        "# **GRU - Fire Distance Range**"
      ]
    },
    {
      "cell_type": "code",
      "execution_count": null,
      "metadata": {
        "id": "2QuhdsCwlcEi"
      },
      "outputs": [],
      "source": [
        "# Input layer for time series sequence\n",
        "input_sequence = Input(shape=(X_train_sequence.shape[1], 1), name='input_sequence')\n",
        "gru_layer = GRU(150, return_sequences=True, dropout=0.2, recurrent_dropout=0.2)(input_sequence)\n",
        "gru_layer = GRU(100, dropout=0.2, recurrent_dropout=0.2)(gru_layer)\n",
        "\n",
        "num_classes = 8\n",
        "\n",
        "# Input layer for non-temporal features\n",
        "input_features = Input(shape=(X_train_features.shape[1],), name='input_features')\n",
        "\n",
        "# Concatenate LSTM output and non-temporal features\n",
        "concatenated = Concatenate()([gru_layer, input_features])\n",
        "\n",
        "# Add Dropout for regularization\n",
        "concatenated = Dropout(0.5)(concatenated)\n",
        "\n",
        "# Dense layers for multiclass classification\n",
        "dense_layer_1 = Dense(128, activation='relu', kernel_regularizer=regularizers.l2(0.01))(concatenated)\n",
        "dense_layer_1 = Dropout(0.5)(dense_layer_1)\n",
        "output_layer = Dense(num_classes, activation='softmax')(dense_layer_1)  # For multiclass classification\n",
        "\n",
        "# Create the model\n",
        "model_gru_multiclass_FireRange = Model(inputs=[input_sequence, input_features], outputs=output_layer)\n",
        "\n",
        "# Compile the model\n",
        "model_gru_multiclass_FireRange.compile(optimizer=Adam(learning_rate=0.0001), loss='categorical_crossentropy', metrics=['accuracy'])\n",
        "\n",
        "epochs = 15  # You can adjust this based on your specific requirements\n",
        "batch_size = 42  # You can adjust this based on your specific requirements\n"
      ]
    },
    {
      "cell_type": "code",
      "execution_count": null,
      "metadata": {
        "colab": {
          "base_uri": "https://localhost:8080/"
        },
        "id": "LNoFflImlkK0",
        "outputId": "edaa9b1b-86b9-4a09-e5b8-0eac9cb4e558"
      },
      "outputs": [
        {
          "name": "stdout",
          "output_type": "stream",
          "text": [
            "Epoch 1/15\n",
            "3859/3859 [==============================] - 55s 13ms/step - loss: 119.6710 - accuracy: 0.2770 - val_loss: 2.9978 - val_accuracy: 0.4356\n",
            "Epoch 2/15\n",
            "3859/3859 [==============================] - 43s 11ms/step - loss: 3.3491 - accuracy: 0.3902 - val_loss: 2.0378 - val_accuracy: 0.4370\n",
            "Epoch 3/15\n",
            "3859/3859 [==============================] - 44s 11ms/step - loss: 1.8038 - accuracy: 0.4512 - val_loss: 1.7351 - val_accuracy: 0.4373\n",
            "Epoch 4/15\n",
            "3859/3859 [==============================] - 45s 12ms/step - loss: 1.6438 - accuracy: 0.4584 - val_loss: 1.6438 - val_accuracy: 0.4374\n",
            "Epoch 5/15\n",
            "3859/3859 [==============================] - 45s 12ms/step - loss: 1.5579 - accuracy: 0.4610 - val_loss: 1.5750 - val_accuracy: 0.4374\n",
            "Epoch 6/15\n",
            "3859/3859 [==============================] - 45s 12ms/step - loss: 1.5135 - accuracy: 0.4631 - val_loss: 1.5647 - val_accuracy: 0.4374\n",
            "Epoch 7/15\n",
            "3859/3859 [==============================] - 49s 13ms/step - loss: 1.4956 - accuracy: 0.4636 - val_loss: 1.5592 - val_accuracy: 0.4374\n",
            "Epoch 8/15\n",
            "3859/3859 [==============================] - 46s 12ms/step - loss: 1.4755 - accuracy: 0.4643 - val_loss: 1.5514 - val_accuracy: 0.4374\n",
            "Epoch 9/15\n",
            "3859/3859 [==============================] - 45s 12ms/step - loss: 1.4579 - accuracy: 0.4664 - val_loss: 1.5480 - val_accuracy: 0.4374\n",
            "Epoch 10/15\n",
            "3859/3859 [==============================] - 44s 11ms/step - loss: 1.4534 - accuracy: 0.4687 - val_loss: 1.5431 - val_accuracy: 0.4374\n",
            "Epoch 11/15\n",
            "3859/3859 [==============================] - 44s 11ms/step - loss: 1.4454 - accuracy: 0.4723 - val_loss: 1.5395 - val_accuracy: 0.4374\n",
            "Epoch 12/15\n",
            "3859/3859 [==============================] - 44s 11ms/step - loss: 1.4381 - accuracy: 0.4747 - val_loss: 1.5378 - val_accuracy: 0.4374\n",
            "Epoch 13/15\n",
            "3859/3859 [==============================] - 44s 11ms/step - loss: 1.4474 - accuracy: 0.4710 - val_loss: 1.5304 - val_accuracy: 0.4374\n",
            "Epoch 14/15\n",
            "3859/3859 [==============================] - 48s 12ms/step - loss: 1.4424 - accuracy: 0.4698 - val_loss: 1.5215 - val_accuracy: 0.4374\n",
            "Epoch 15/15\n",
            "3859/3859 [==============================] - 46s 12ms/step - loss: 1.4318 - accuracy: 0.4699 - val_loss: 1.5224 - val_accuracy: 0.4374\n"
          ]
        }
      ],
      "source": [
        "# Train the model using X_train_sequence and X_train_features\n",
        "history_multiclass_gru_FireRange = model_gru_multiclass_FireRange.fit(\n",
        "    {'input_sequence': X_train_sequence, 'input_features': X_train_features},\n",
        "    y_train_multiclass,\n",
        "    epochs=epochs,\n",
        "    batch_size=batch_size,\n",
        "    validation_data=({'input_sequence': X_val_sequence, 'input_features': X_val_features}, y_val_multiclass)\n",
        ")"
      ]
    },
    {
      "cell_type": "code",
      "execution_count": null,
      "metadata": {
        "colab": {
          "base_uri": "https://localhost:8080/"
        },
        "id": "eh7wvVwplksP",
        "outputId": "014b6525-3b7e-4b85-b913-e57765aa63c5"
      },
      "outputs": [
        {
          "name": "stdout",
          "output_type": "stream",
          "text": [
            "Model: \"model_8\"\n",
            "__________________________________________________________________________________________________\n",
            " Layer (type)                Output Shape                 Param #   Connected to                  \n",
            "==================================================================================================\n",
            " input_sequence (InputLayer  [(None, 1, 1)]               0         []                            \n",
            " )                                                                                                \n",
            "                                                                                                  \n",
            " gru_5 (GRU)                 (None, 1, 150)               68850     ['input_sequence[0][0]']      \n",
            "                                                                                                  \n",
            " gru_6 (GRU)                 (None, 100)                  75600     ['gru_5[0][0]']               \n",
            "                                                                                                  \n",
            " input_features (InputLayer  [(None, 15)]                 0         []                            \n",
            " )                                                                                                \n",
            "                                                                                                  \n",
            " concatenate_8 (Concatenate  (None, 115)                  0         ['gru_6[0][0]',               \n",
            " )                                                                   'input_features[0][0]']      \n",
            "                                                                                                  \n",
            " dropout_14 (Dropout)        (None, 115)                  0         ['concatenate_8[0][0]']       \n",
            "                                                                                                  \n",
            " dense_14 (Dense)            (None, 128)                  14848     ['dropout_14[0][0]']          \n",
            "                                                                                                  \n",
            " dropout_15 (Dropout)        (None, 128)                  0         ['dense_14[0][0]']            \n",
            "                                                                                                  \n",
            " dense_15 (Dense)            (None, 8)                    1032      ['dropout_15[0][0]']          \n",
            "                                                                                                  \n",
            "==================================================================================================\n",
            "Total params: 160330 (626.29 KB)\n",
            "Trainable params: 160330 (626.29 KB)\n",
            "Non-trainable params: 0 (0.00 Byte)\n",
            "__________________________________________________________________________________________________\n"
          ]
        }
      ],
      "source": [
        "model_gru_multiclass_FireRange.summary()"
      ]
    },
    {
      "cell_type": "code",
      "execution_count": null,
      "metadata": {
        "colab": {
          "base_uri": "https://localhost:8080/"
        },
        "id": "XrribV5VlubN",
        "outputId": "35602462-d1cf-4323-fb37-71d77f415675"
      },
      "outputs": [
        {
          "name": "stdout",
          "output_type": "stream",
          "text": [
            "Final Training Accuracy: 0.46985891461372375\n",
            "Final Validation Accuracy: 0.43738681077957153\n"
          ]
        }
      ],
      "source": [
        "# Print the final training accuracy\n",
        "print(\"Final Training Accuracy:\", history_multiclass_gru_FireRange.history['accuracy'][-1])\n",
        "\n",
        "# Print the final validation accuracy\n",
        "print(\"Final Validation Accuracy:\", history_multiclass_gru_FireRange.history['val_accuracy'][-1])"
      ]
    },
    {
      "cell_type": "code",
      "execution_count": null,
      "metadata": {
        "id": "VpsLo7MGl8zb"
      },
      "outputs": [],
      "source": [
        "# Save the model\n",
        "model_name = 'GRU_FireDistance_Range.h5'\n",
        "\n",
        "# Save the model to Google Drive with the custom name\n",
        "model_gru_multiclass_FireRange.save(model_directory + model_name)"
      ]
    },
    {
      "cell_type": "markdown",
      "metadata": {
        "id": "jBwce6Z6XICy"
      },
      "source": [
        "## FINAL RESULTS"
      ]
    },
    {
      "cell_type": "code",
      "source": [
        "import tensorflow as tf\n",
        "from tensorflow.keras.models import load_model\n",
        "from sklearn.metrics import accuracy_score, precision_score, recall_score, f1_score\n",
        "import numpy as np\n",
        "\n",
        "# Load the saved model\n",
        "model = load_model(model_directory + 'GRU_FireDistance_Range.h5')\n",
        "\n",
        "# Ensure the validation data is correctly shaped\n",
        "X_val_sequence = X_val_sequence.reshape(-1, X_val_sequence.shape[1], 1)\n",
        "\n",
        "# Make predictions\n",
        "y_pred_proba = model.predict({'input_sequence': X_val_sequence, 'input_features': X_val_features})\n",
        "\n",
        "# Convert predicted probabilities to class labels\n",
        "y_pred = np.argmax(y_pred_proba, axis=1)\n",
        "\n",
        "# Ensure y_val_multiclass is in integer form (not one-hot encoded)\n",
        "if y_val_multiclass.ndim > 1:\n",
        "    y_val_multiclass = np.argmax(y_val_multiclass, axis=1)\n",
        "\n",
        "# Calculate the loss\n",
        "loss_fn = tf.keras.losses.SparseCategoricalCrossentropy()\n",
        "loss = loss_fn(y_val_multiclass, y_pred_proba).numpy()\n",
        "\n",
        "# Calculate the metrics\n",
        "accuracy = accuracy_score(y_val_multiclass, y_pred)\n",
        "precision = precision_score(y_val_multiclass, y_pred, average='weighted')\n",
        "recall = recall_score(y_val_multiclass, y_pred, average='weighted')\n",
        "f1 = f1_score(y_val_multiclass, y_pred, average='weighted')\n",
        "\n",
        "print(f\"Loss: {loss}\")\n",
        "print(f\"Accuracy: {accuracy}\")\n",
        "print(f\"Precision: {precision}\")\n",
        "print(f\"Recall: {recall}\")\n",
        "print(f\"F1-Score: {f1}\")\n",
        "\n"
      ],
      "metadata": {
        "colab": {
          "base_uri": "https://localhost:8080/"
        },
        "outputId": "6e138b3a-c41c-4aa7-f1ad-639772185ef4",
        "id": "I_iT8Bf_XICy"
      },
      "execution_count": null,
      "outputs": [
        {
          "output_type": "stream",
          "name": "stdout",
          "text": [
            "1347/1347 [==============================] - 6s 4ms/step\n",
            "Loss: 1.511729121208191\n",
            "Accuracy: 0.4373868226772531\n",
            "Precision: 0.19130723265170282\n",
            "Recall: 0.4373868226772531\n",
            "F1-Score: 0.26618754204992245\n"
          ]
        },
        {
          "output_type": "stream",
          "name": "stderr",
          "text": [
            "/usr/local/lib/python3.10/dist-packages/sklearn/metrics/_classification.py:1344: UndefinedMetricWarning: Precision is ill-defined and being set to 0.0 in labels with no predicted samples. Use `zero_division` parameter to control this behavior.\n",
            "  _warn_prf(average, modifier, msg_start, len(result))\n"
          ]
        }
      ]
    },
    {
      "cell_type": "markdown",
      "metadata": {
        "id": "35ywX2-Bl9KI"
      },
      "source": [
        "# **BILSTM - Fire Distance Range**"
      ]
    },
    {
      "cell_type": "code",
      "execution_count": null,
      "metadata": {
        "id": "mnB0wY69mEsz"
      },
      "outputs": [],
      "source": [
        "# Input layer for time series sequence\n",
        "input_sequence = Input(shape=(X_train_sequence.shape[1], 1), name='input_sequence')\n",
        "\n",
        "bilstm_layer = Bidirectional(LSTM(150))(input_sequence)\n",
        "\n",
        "\n",
        "num_classes = 8\n",
        "\n",
        "# Input layer for non-temporal features\n",
        "input_features = Input(shape=(X_train_features.shape[1],), name='input_features')\n",
        "\n",
        "# Concatenate LSTM output and non-temporal features\n",
        "concatenated = Concatenate()([bilstm_layer, input_features])\n",
        "\n",
        "# Add Dropout for regularization\n",
        "concatenated = Dropout(0.5)(concatenated)\n",
        "\n",
        "# Dense layers for multiclass classification\n",
        "dense_layer_1 = Dense(128, activation='relu', kernel_regularizer=regularizers.l2(0.01))(concatenated)\n",
        "dense_layer_1 = Dropout(0.5)(dense_layer_1)\n",
        "output_layer = Dense(num_classes, activation='softmax')(dense_layer_1)  # For multiclass classification\n",
        "\n",
        "# Create the model\n",
        "model_bilstm_multiclass_FireRange = Model(inputs=[input_sequence, input_features], outputs=output_layer)\n",
        "\n",
        "# Compile the model\n",
        "model_bilstm_multiclass_FireRange.compile(optimizer=Adam(learning_rate=0.0001), loss='categorical_crossentropy', metrics=['accuracy'])\n",
        "\n",
        "epochs = 15  # You can adjust this based on your specific requirements\n",
        "batch_size = 42  # You can adjust this based on your specific requirements\n"
      ]
    },
    {
      "cell_type": "code",
      "execution_count": null,
      "metadata": {
        "colab": {
          "base_uri": "https://localhost:8080/"
        },
        "id": "Diwj1HbxmKOE",
        "outputId": "c8179927-aba1-4208-ec60-bdbe90b6ec23"
      },
      "outputs": [
        {
          "name": "stdout",
          "output_type": "stream",
          "text": [
            "Epoch 1/15\n",
            "3859/3859 [==============================] - 51s 12ms/step - loss: 55.1447 - accuracy: 0.2990 - val_loss: 2.5256 - val_accuracy: 0.4372\n",
            "Epoch 2/15\n",
            "3859/3859 [==============================] - 46s 12ms/step - loss: 2.1206 - accuracy: 0.4240 - val_loss: 1.6969 - val_accuracy: 0.4374\n",
            "Epoch 3/15\n",
            "3859/3859 [==============================] - 43s 11ms/step - loss: 1.6673 - accuracy: 0.4481 - val_loss: 1.6085 - val_accuracy: 0.4374\n",
            "Epoch 4/15\n",
            "3859/3859 [==============================] - 45s 12ms/step - loss: 1.5663 - accuracy: 0.4589 - val_loss: 1.5486 - val_accuracy: 0.4374\n",
            "Epoch 5/15\n",
            "3859/3859 [==============================] - 43s 11ms/step - loss: 1.5199 - accuracy: 0.4613 - val_loss: 1.5333 - val_accuracy: 0.4374\n",
            "Epoch 6/15\n",
            "3859/3859 [==============================] - 45s 12ms/step - loss: 1.4971 - accuracy: 0.4644 - val_loss: 1.5248 - val_accuracy: 0.4374\n",
            "Epoch 7/15\n",
            "3859/3859 [==============================] - 43s 11ms/step - loss: 1.4736 - accuracy: 0.4686 - val_loss: 1.5190 - val_accuracy: 0.4374\n",
            "Epoch 8/15\n",
            "3859/3859 [==============================] - 43s 11ms/step - loss: 1.4581 - accuracy: 0.4703 - val_loss: 1.5142 - val_accuracy: 0.4374\n",
            "Epoch 9/15\n",
            "3859/3859 [==============================] - 45s 12ms/step - loss: 1.4540 - accuracy: 0.4725 - val_loss: 1.5132 - val_accuracy: 0.4374\n",
            "Epoch 10/15\n",
            "3859/3859 [==============================] - 46s 12ms/step - loss: 1.4415 - accuracy: 0.4780 - val_loss: 1.5166 - val_accuracy: 0.4374\n",
            "Epoch 11/15\n",
            "3859/3859 [==============================] - 45s 12ms/step - loss: 1.4245 - accuracy: 0.4863 - val_loss: 1.5269 - val_accuracy: 0.4374\n",
            "Epoch 12/15\n",
            "3859/3859 [==============================] - 48s 12ms/step - loss: 1.4223 - accuracy: 0.4852 - val_loss: 1.5266 - val_accuracy: 0.4374\n",
            "Epoch 13/15\n",
            "3859/3859 [==============================] - 48s 12ms/step - loss: 1.4143 - accuracy: 0.4889 - val_loss: 1.5283 - val_accuracy: 0.4374\n",
            "Epoch 14/15\n",
            "3859/3859 [==============================] - 47s 12ms/step - loss: 1.4130 - accuracy: 0.4876 - val_loss: 1.5258 - val_accuracy: 0.4374\n",
            "Epoch 15/15\n",
            "3859/3859 [==============================] - 45s 12ms/step - loss: 1.4065 - accuracy: 0.4900 - val_loss: 1.5245 - val_accuracy: 0.4374\n"
          ]
        }
      ],
      "source": [
        "# Train the model using X_train_sequence and X_train_features\n",
        "history_model_bilstm_multiclass_FireRange = model_bilstm_multiclass_FireRange.fit(\n",
        "    {'input_sequence': X_train_sequence, 'input_features': X_train_features},\n",
        "    y_train_multiclass,\n",
        "    epochs=epochs,\n",
        "    batch_size=batch_size,\n",
        "    validation_data=({'input_sequence': X_val_sequence, 'input_features': X_val_features}, y_val_multiclass)\n",
        ")"
      ]
    },
    {
      "cell_type": "code",
      "execution_count": null,
      "metadata": {
        "colab": {
          "base_uri": "https://localhost:8080/"
        },
        "id": "JRjBCUxSmhLP",
        "outputId": "9353eaed-bc4c-4cdb-a1fd-bb4407a24f9d"
      },
      "outputs": [
        {
          "name": "stdout",
          "output_type": "stream",
          "text": [
            "Model: \"model_9\"\n",
            "__________________________________________________________________________________________________\n",
            " Layer (type)                Output Shape                 Param #   Connected to                  \n",
            "==================================================================================================\n",
            " input_sequence (InputLayer  [(None, 1, 1)]               0         []                            \n",
            " )                                                                                                \n",
            "                                                                                                  \n",
            " bidirectional_2 (Bidirecti  (None, 300)                  182400    ['input_sequence[0][0]']      \n",
            " onal)                                                                                            \n",
            "                                                                                                  \n",
            " input_features (InputLayer  [(None, 15)]                 0         []                            \n",
            " )                                                                                                \n",
            "                                                                                                  \n",
            " concatenate_9 (Concatenate  (None, 315)                  0         ['bidirectional_2[0][0]',     \n",
            " )                                                                   'input_features[0][0]']      \n",
            "                                                                                                  \n",
            " dropout_16 (Dropout)        (None, 315)                  0         ['concatenate_9[0][0]']       \n",
            "                                                                                                  \n",
            " dense_16 (Dense)            (None, 128)                  40448     ['dropout_16[0][0]']          \n",
            "                                                                                                  \n",
            " dropout_17 (Dropout)        (None, 128)                  0         ['dense_16[0][0]']            \n",
            "                                                                                                  \n",
            " dense_17 (Dense)            (None, 8)                    1032      ['dropout_17[0][0]']          \n",
            "                                                                                                  \n",
            "==================================================================================================\n",
            "Total params: 223880 (874.53 KB)\n",
            "Trainable params: 223880 (874.53 KB)\n",
            "Non-trainable params: 0 (0.00 Byte)\n",
            "__________________________________________________________________________________________________\n"
          ]
        }
      ],
      "source": [
        "model_bilstm_multiclass_FireRange.summary()"
      ]
    },
    {
      "cell_type": "code",
      "execution_count": null,
      "metadata": {
        "colab": {
          "base_uri": "https://localhost:8080/"
        },
        "id": "Yzg6bHWLmuqV",
        "outputId": "e9525ae7-4b09-470d-a07c-a02dbc9f17c3"
      },
      "outputs": [
        {
          "name": "stdout",
          "output_type": "stream",
          "text": [
            "Final Training Accuracy: 0.49000850319862366\n",
            "Final Validation Accuracy: 0.43738681077957153\n"
          ]
        }
      ],
      "source": [
        "# Print the final training accuracy\n",
        "print(\"Final Training Accuracy:\", history_model_bilstm_multiclass_FireRange.history['accuracy'][-1])\n",
        "\n",
        "# Print the final validation accuracy\n",
        "print(\"Final Validation Accuracy:\", history_model_bilstm_multiclass_FireRange.history['val_accuracy'][-1])"
      ]
    },
    {
      "cell_type": "code",
      "execution_count": null,
      "metadata": {
        "id": "oxHeGTupRzvU"
      },
      "outputs": [],
      "source": [
        "# Save the model\n",
        "model_name = 'BiLSTM_FireDistance_Range.h5'\n",
        "\n",
        "# Save the model to Google Drive with the custom name\n",
        "model_bilstm_multiclass_FireRange.save(model_directory + model_name)"
      ]
    },
    {
      "cell_type": "markdown",
      "metadata": {
        "id": "gn7JMHSkXTd-"
      },
      "source": [
        "## FINAL RESULTS"
      ]
    },
    {
      "cell_type": "code",
      "source": [
        "import tensorflow as tf\n",
        "from tensorflow.keras.models import load_model\n",
        "from sklearn.metrics import accuracy_score, precision_score, recall_score, f1_score\n",
        "import numpy as np\n",
        "\n",
        "# Load the saved model\n",
        "model = load_model(model_directory + 'BiLSTM_FireDistance_Range.h5')\n",
        "\n",
        "# Ensure the validation data is correctly shaped\n",
        "X_val_sequence = X_val_sequence.reshape(-1, X_val_sequence.shape[1], 1)\n",
        "\n",
        "# Make predictions\n",
        "y_pred_proba = model.predict({'input_sequence': X_val_sequence, 'input_features': X_val_features})\n",
        "\n",
        "# Convert predicted probabilities to class labels\n",
        "y_pred = np.argmax(y_pred_proba, axis=1)\n",
        "\n",
        "# Ensure y_val_multiclass is in integer form (not one-hot encoded)\n",
        "if y_val_multiclass.ndim > 1:\n",
        "    y_val_multiclass = np.argmax(y_val_multiclass, axis=1)\n",
        "\n",
        "# Calculate the loss\n",
        "loss_fn = tf.keras.losses.SparseCategoricalCrossentropy()\n",
        "loss = loss_fn(y_val_multiclass, y_pred_proba).numpy()\n",
        "\n",
        "# Calculate the metrics\n",
        "accuracy = accuracy_score(y_val_multiclass, y_pred)\n",
        "precision = precision_score(y_val_multiclass, y_pred, average='weighted')\n",
        "recall = recall_score(y_val_multiclass, y_pred, average='weighted')\n",
        "f1 = f1_score(y_val_multiclass, y_pred, average='weighted')\n",
        "\n",
        "print(f\"Loss: {loss}\")\n",
        "print(f\"Accuracy: {accuracy}\")\n",
        "print(f\"Precision: {precision}\")\n",
        "print(f\"Recall: {recall}\")\n",
        "print(f\"F1-Score: {f1}\")\n",
        "\n"
      ],
      "metadata": {
        "colab": {
          "base_uri": "https://localhost:8080/"
        },
        "outputId": "2b4fbc42-53c0-4ad9-8559-4dc4e500fd10",
        "id": "E5KpFuyLXTeH"
      },
      "execution_count": null,
      "outputs": [
        {
          "output_type": "stream",
          "name": "stdout",
          "text": [
            "1347/1347 [==============================] - 7s 4ms/step\n",
            "Loss: 1.5129125118255615\n",
            "Accuracy: 0.4373868226772531\n",
            "Precision: 0.19130723265170282\n",
            "Recall: 0.4373868226772531\n",
            "F1-Score: 0.26618754204992245\n"
          ]
        },
        {
          "output_type": "stream",
          "name": "stderr",
          "text": [
            "/usr/local/lib/python3.10/dist-packages/sklearn/metrics/_classification.py:1344: UndefinedMetricWarning: Precision is ill-defined and being set to 0.0 in labels with no predicted samples. Use `zero_division` parameter to control this behavior.\n",
            "  _warn_prf(average, modifier, msg_start, len(result))\n"
          ]
        }
      ]
    },
    {
      "cell_type": "markdown",
      "metadata": {
        "id": "HCe3lUBQm7yd"
      },
      "source": [
        "# **TCN - Fire Distance Range**"
      ]
    },
    {
      "cell_type": "code",
      "execution_count": null,
      "metadata": {
        "id": "wokxMC5BnAO9"
      },
      "outputs": [],
      "source": [
        "from tcn import TCN\n",
        "# Input layer for time series sequence\n",
        "input_sequence = Input(shape=(X_train_sequence.shape[1], 1), name='input_sequence')\n",
        "TCN_layer = TCN(150, return_sequences=True)(input_sequence)\n",
        "TCN_layer = TCN(100)(TCN_layer)\n",
        "\n",
        "num_classes = 8\n",
        "\n",
        "# Input layer for non-temporal features\n",
        "input_features = Input(shape=(X_train_features.shape[1],), name='input_features')\n",
        "\n",
        "# Concatenate LSTM output and non-temporal features\n",
        "concatenated = Concatenate()([TCN_layer, input_features])\n",
        "\n",
        "# Add Dropout for regularization\n",
        "concatenated = Dropout(0.5)(concatenated)\n",
        "\n",
        "# Dense layers for multiclass classification\n",
        "dense_layer_1 = Dense(128, activation='relu', kernel_regularizer=regularizers.l2(0.01))(concatenated)\n",
        "dense_layer_1 = Dropout(0.5)(dense_layer_1)\n",
        "output_layer = Dense(num_classes, activation='softmax')(dense_layer_1)  # For multiclass classification\n",
        "\n",
        "# Create the model\n",
        "model_TCN_multiclass_FireRange = Model(inputs=[input_sequence, input_features], outputs=output_layer)\n",
        "\n",
        "# Compile the model\n",
        "model_TCN_multiclass_FireRange.compile(optimizer=Adam(learning_rate=0.0001), loss='categorical_crossentropy', metrics=['accuracy'])\n",
        "\n",
        "epochs = 15  # You can adjust this based on your specific requirements\n",
        "batch_size = 42  # You can adjust this based on your specific requirements\n"
      ]
    },
    {
      "cell_type": "code",
      "execution_count": null,
      "metadata": {
        "colab": {
          "base_uri": "https://localhost:8080/"
        },
        "id": "LDISzfzJnGjq",
        "outputId": "8a93f351-5dc2-40bd-83c1-58e6a19744bb"
      },
      "outputs": [
        {
          "output_type": "stream",
          "name": "stdout",
          "text": [
            "Epoch 1/15\n",
            "3859/3859 [==============================] - 727s 186ms/step - loss: 67.7280 - accuracy: 0.3472 - val_loss: 3.0171 - val_accuracy: 0.4374\n",
            "Epoch 2/15\n",
            "3859/3859 [==============================] - 708s 184ms/step - loss: 3.2767 - accuracy: 0.4343 - val_loss: 2.7187 - val_accuracy: 0.4374\n",
            "Epoch 3/15\n",
            "3859/3859 [==============================] - 696s 180ms/step - loss: 2.6164 - accuracy: 0.4366 - val_loss: 2.3086 - val_accuracy: 0.4374\n",
            "Epoch 4/15\n",
            "3859/3859 [==============================] - 710s 184ms/step - loss: 2.1495 - accuracy: 0.4368 - val_loss: 1.9015 - val_accuracy: 0.4374\n",
            "Epoch 5/15\n",
            "3859/3859 [==============================] - 686s 178ms/step - loss: 1.8583 - accuracy: 0.4364 - val_loss: 1.7306 - val_accuracy: 0.4374\n",
            "Epoch 6/15\n",
            "3859/3859 [==============================] - 704s 183ms/step - loss: 1.7062 - accuracy: 0.4371 - val_loss: 1.6307 - val_accuracy: 0.4374\n",
            "Epoch 7/15\n",
            "3859/3859 [==============================] - 712s 185ms/step - loss: 1.6102 - accuracy: 0.4381 - val_loss: 1.5662 - val_accuracy: 0.4374\n",
            "Epoch 8/15\n",
            "3859/3859 [==============================] - 711s 184ms/step - loss: 1.5503 - accuracy: 0.4407 - val_loss: 1.5313 - val_accuracy: 0.4374\n",
            "Epoch 9/15\n",
            "3859/3859 [==============================] - 703s 182ms/step - loss: 1.5167 - accuracy: 0.4425 - val_loss: 1.5125 - val_accuracy: 0.4374\n",
            "Epoch 10/15\n",
            "3859/3859 [==============================] - 699s 181ms/step - loss: 1.4968 - accuracy: 0.4443 - val_loss: 1.5025 - val_accuracy: 0.4374\n",
            "Epoch 11/15\n",
            "3859/3859 [==============================] - 735s 190ms/step - loss: 1.4870 - accuracy: 0.4447 - val_loss: 1.4963 - val_accuracy: 0.4374\n",
            "Epoch 12/15\n",
            "3859/3859 [==============================] - 722s 187ms/step - loss: 1.4839 - accuracy: 0.4444 - val_loss: 1.4928 - val_accuracy: 0.4374\n",
            "Epoch 13/15\n",
            "3859/3859 [==============================] - 704s 182ms/step - loss: 1.4788 - accuracy: 0.4450 - val_loss: 1.4876 - val_accuracy: 0.4374\n",
            "Epoch 14/15\n",
            "3859/3859 [==============================] - 699s 181ms/step - loss: 1.4738 - accuracy: 0.4455 - val_loss: 1.4865 - val_accuracy: 0.4374\n",
            "Epoch 15/15\n",
            "3859/3859 [==============================] - 707s 183ms/step - loss: 1.4568 - accuracy: 0.4462 - val_loss: 1.4825 - val_accuracy: 0.4374\n"
          ]
        }
      ],
      "source": [
        "# Train the model using X_train_sequence and X_train_features\n",
        "history_model_TCN_multiclass_FireRange = model_TCN_multiclass_FireRange.fit(\n",
        "    {'input_sequence': X_train_sequence, 'input_features': X_train_features},\n",
        "    y_train_multiclass,\n",
        "    epochs=epochs,\n",
        "    batch_size=batch_size,\n",
        "    validation_data=({'input_sequence': X_val_sequence, 'input_features': X_val_features}, y_val_multiclass)\n",
        ")"
      ]
    },
    {
      "cell_type": "code",
      "execution_count": null,
      "metadata": {
        "id": "kurR9oLsnMuI"
      },
      "outputs": [],
      "source": [
        "model_TCN_multiclass_FireRange.summary()"
      ]
    },
    {
      "cell_type": "code",
      "execution_count": null,
      "metadata": {
        "id": "Uh4x3EUfneOx"
      },
      "outputs": [],
      "source": [
        "# Print the final training accuracy\n",
        "print(\"Final Training Accuracy:\", history_model_TCN_multiclass_FireRange.history['accuracy'][-1])\n",
        "\n",
        "# Print the final validation accuracy\n",
        "print(\"Final Validation Accuracy:\", history_model_TCN_multiclass_FireRange.history['val_accuracy'][-1])"
      ]
    },
    {
      "cell_type": "code",
      "execution_count": null,
      "metadata": {
        "id": "ZlfU6-c_u3iv"
      },
      "outputs": [],
      "source": [
        "# Save the model\n",
        "model_name = 'TCN_FireDistance_Range.h5'\n",
        "\n",
        "# Save the model to Google Drive with the custom name\n",
        "model_TCN_multiclass_FireRange.save(model_directory + model_name)"
      ]
    },
    {
      "cell_type": "markdown",
      "metadata": {
        "id": "UJkrPC23Xdfl"
      },
      "source": [
        "## FINAL RESULTS"
      ]
    },
    {
      "cell_type": "code",
      "source": [
        "import tensorflow as tf\n",
        "from tensorflow.keras.models import load_model\n",
        "from sklearn.metrics import accuracy_score, precision_score, recall_score, f1_score\n",
        "import numpy as np\n",
        "from tensorflow.keras.utils import custom_object_scope\n",
        "\n",
        "# Load the saved\n",
        "with custom_object_scope({'TCN': TCN}):\n",
        "    model = load_model(model_directory + 'TCN_FireDistance_Range.h5')\n",
        "\n",
        "# Ensure the validation data is correctly shaped\n",
        "X_val_sequence = X_val_sequence.reshape(-1, X_val_sequence.shape[1], 1)\n",
        "\n",
        "# Make predictions\n",
        "y_pred_proba = model.predict({'input_sequence': X_val_sequence, 'input_features': X_val_features})\n",
        "\n",
        "# Convert predicted probabilities to class labels\n",
        "y_pred = np.argmax(y_pred_proba, axis=1)\n",
        "\n",
        "# Ensure y_val_multiclass is in integer form (not one-hot encoded)\n",
        "if y_val_multiclass.ndim > 1:\n",
        "    y_val_multiclass = np.argmax(y_val_multiclass, axis=1)\n",
        "\n",
        "# Calculate the loss\n",
        "loss_fn = tf.keras.losses.SparseCategoricalCrossentropy()\n",
        "loss = loss_fn(y_val_multiclass, y_pred_proba).numpy()\n",
        "\n",
        "# Calculate the metrics\n",
        "accuracy = accuracy_score(y_val_multiclass, y_pred)\n",
        "precision = precision_score(y_val_multiclass, y_pred, average='weighted')\n",
        "recall = recall_score(y_val_multiclass, y_pred, average='weighted')\n",
        "f1 = f1_score(y_val_multiclass, y_pred, average='weighted')\n",
        "\n",
        "print(f\"Loss: {loss}\")\n",
        "print(f\"Accuracy: {accuracy}\")\n",
        "print(f\"Precision: {precision}\")\n",
        "print(f\"Recall: {recall}\")\n",
        "print(f\"F1-Score: {f1}\")\n",
        "\n"
      ],
      "metadata": {
        "colab": {
          "base_uri": "https://localhost:8080/",
          "height": 356
        },
        "outputId": "100380cc-b5d9-4f0b-f541-d3eeca540fbc",
        "id": "VmhmbKIoXdfu"
      },
      "execution_count": null,
      "outputs": [
        {
          "output_type": "error",
          "ename": "OSError",
          "evalue": "No file or directory found at /content/drive/MyDrive/Forest_Fire_Data/saved_modelsTTCN_FireDistance_Range.h5",
          "traceback": [
            "\u001b[0;31m---------------------------------------------------------------------------\u001b[0m",
            "\u001b[0;31mOSError\u001b[0m                                   Traceback (most recent call last)",
            "\u001b[0;32m<ipython-input-44-5a0c154aa1e5>\u001b[0m in \u001b[0;36m<cell line: 8>\u001b[0;34m()\u001b[0m\n\u001b[1;32m      7\u001b[0m \u001b[0;31m# Load the saved\u001b[0m\u001b[0;34m\u001b[0m\u001b[0;34m\u001b[0m\u001b[0m\n\u001b[1;32m      8\u001b[0m \u001b[0;32mwith\u001b[0m \u001b[0mcustom_object_scope\u001b[0m\u001b[0;34m(\u001b[0m\u001b[0;34m{\u001b[0m\u001b[0;34m'TCN'\u001b[0m\u001b[0;34m:\u001b[0m \u001b[0mTCN\u001b[0m\u001b[0;34m}\u001b[0m\u001b[0;34m)\u001b[0m\u001b[0;34m:\u001b[0m\u001b[0;34m\u001b[0m\u001b[0;34m\u001b[0m\u001b[0m\n\u001b[0;32m----> 9\u001b[0;31m     \u001b[0mmodel\u001b[0m \u001b[0;34m=\u001b[0m \u001b[0mload_model\u001b[0m\u001b[0;34m(\u001b[0m\u001b[0mmodel_directory\u001b[0m \u001b[0;34m+\u001b[0m \u001b[0;34m'TTCN_FireDistance_Range.h5'\u001b[0m\u001b[0;34m)\u001b[0m\u001b[0;34m\u001b[0m\u001b[0;34m\u001b[0m\u001b[0m\n\u001b[0m\u001b[1;32m     10\u001b[0m \u001b[0;34m\u001b[0m\u001b[0m\n\u001b[1;32m     11\u001b[0m \u001b[0;31m# Ensure the validation data is correctly shaped\u001b[0m\u001b[0;34m\u001b[0m\u001b[0;34m\u001b[0m\u001b[0m\n",
            "\u001b[0;32m/usr/local/lib/python3.10/dist-packages/keras/src/saving/saving_api.py\u001b[0m in \u001b[0;36mload_model\u001b[0;34m(filepath, custom_objects, compile, safe_mode, **kwargs)\u001b[0m\n\u001b[1;32m    260\u001b[0m \u001b[0;34m\u001b[0m\u001b[0m\n\u001b[1;32m    261\u001b[0m     \u001b[0;31m# Legacy case.\u001b[0m\u001b[0;34m\u001b[0m\u001b[0;34m\u001b[0m\u001b[0m\n\u001b[0;32m--> 262\u001b[0;31m     return legacy_sm_saving_lib.load_model(\n\u001b[0m\u001b[1;32m    263\u001b[0m         \u001b[0mfilepath\u001b[0m\u001b[0;34m,\u001b[0m \u001b[0mcustom_objects\u001b[0m\u001b[0;34m=\u001b[0m\u001b[0mcustom_objects\u001b[0m\u001b[0;34m,\u001b[0m \u001b[0mcompile\u001b[0m\u001b[0;34m=\u001b[0m\u001b[0mcompile\u001b[0m\u001b[0;34m,\u001b[0m \u001b[0;34m**\u001b[0m\u001b[0mkwargs\u001b[0m\u001b[0;34m\u001b[0m\u001b[0;34m\u001b[0m\u001b[0m\n\u001b[1;32m    264\u001b[0m     )\n",
            "\u001b[0;32m/usr/local/lib/python3.10/dist-packages/keras/src/utils/traceback_utils.py\u001b[0m in \u001b[0;36merror_handler\u001b[0;34m(*args, **kwargs)\u001b[0m\n\u001b[1;32m     68\u001b[0m             \u001b[0;31m# To get the full stack trace, call:\u001b[0m\u001b[0;34m\u001b[0m\u001b[0;34m\u001b[0m\u001b[0m\n\u001b[1;32m     69\u001b[0m             \u001b[0;31m# `tf.debugging.disable_traceback_filtering()`\u001b[0m\u001b[0;34m\u001b[0m\u001b[0;34m\u001b[0m\u001b[0m\n\u001b[0;32m---> 70\u001b[0;31m             \u001b[0;32mraise\u001b[0m \u001b[0me\u001b[0m\u001b[0;34m.\u001b[0m\u001b[0mwith_traceback\u001b[0m\u001b[0;34m(\u001b[0m\u001b[0mfiltered_tb\u001b[0m\u001b[0;34m)\u001b[0m \u001b[0;32mfrom\u001b[0m \u001b[0;32mNone\u001b[0m\u001b[0;34m\u001b[0m\u001b[0;34m\u001b[0m\u001b[0m\n\u001b[0m\u001b[1;32m     71\u001b[0m         \u001b[0;32mfinally\u001b[0m\u001b[0;34m:\u001b[0m\u001b[0;34m\u001b[0m\u001b[0;34m\u001b[0m\u001b[0m\n\u001b[1;32m     72\u001b[0m             \u001b[0;32mdel\u001b[0m \u001b[0mfiltered_tb\u001b[0m\u001b[0;34m\u001b[0m\u001b[0;34m\u001b[0m\u001b[0m\n",
            "\u001b[0;32m/usr/local/lib/python3.10/dist-packages/keras/src/saving/legacy/save.py\u001b[0m in \u001b[0;36mload_model\u001b[0;34m(filepath, custom_objects, compile, options)\u001b[0m\n\u001b[1;32m    232\u001b[0m                     \u001b[0;32mif\u001b[0m \u001b[0misinstance\u001b[0m\u001b[0;34m(\u001b[0m\u001b[0mfilepath_str\u001b[0m\u001b[0;34m,\u001b[0m \u001b[0mstr\u001b[0m\u001b[0;34m)\u001b[0m\u001b[0;34m:\u001b[0m\u001b[0;34m\u001b[0m\u001b[0;34m\u001b[0m\u001b[0m\n\u001b[1;32m    233\u001b[0m                         \u001b[0;32mif\u001b[0m \u001b[0;32mnot\u001b[0m \u001b[0mtf\u001b[0m\u001b[0;34m.\u001b[0m\u001b[0mio\u001b[0m\u001b[0;34m.\u001b[0m\u001b[0mgfile\u001b[0m\u001b[0;34m.\u001b[0m\u001b[0mexists\u001b[0m\u001b[0;34m(\u001b[0m\u001b[0mfilepath_str\u001b[0m\u001b[0;34m)\u001b[0m\u001b[0;34m:\u001b[0m\u001b[0;34m\u001b[0m\u001b[0;34m\u001b[0m\u001b[0m\n\u001b[0;32m--> 234\u001b[0;31m                             raise IOError(\n\u001b[0m\u001b[1;32m    235\u001b[0m                                 \u001b[0;34mf\"No file or directory found at {filepath_str}\"\u001b[0m\u001b[0;34m\u001b[0m\u001b[0;34m\u001b[0m\u001b[0m\n\u001b[1;32m    236\u001b[0m                             )\n",
            "\u001b[0;31mOSError\u001b[0m: No file or directory found at /content/drive/MyDrive/Forest_Fire_Data/saved_modelsTTCN_FireDistance_Range.h5"
          ]
        }
      ]
    },
    {
      "cell_type": "markdown",
      "metadata": {
        "id": "gQgEPvX7u4BJ"
      },
      "source": [
        "# **Combined Bidirectional LSTM (BiLSTM) and GRU - Fire Distance Range**"
      ]
    },
    {
      "cell_type": "code",
      "source": [
        "# Standardize the features\n",
        "scaler_features = StandardScaler()\n",
        "X_train_features = scaler_features.fit_transform(X_train_features)\n",
        "X_test_features = scaler_features.fit_transform(X_val_features)\n",
        "\n",
        "# Standardize the time sequence\n",
        "scaler_time = StandardScaler()\n",
        "X_train_time = scaler_time.fit_transform(X_train_sequence.reshape(-1, 1))\n",
        "X_test_time = scaler_time.fit_transform(X_val_sequence.reshape(-1, 1))"
      ],
      "metadata": {
        "id": "bf87saXRKvb_"
      },
      "execution_count": null,
      "outputs": []
    },
    {
      "cell_type": "code",
      "execution_count": null,
      "metadata": {
        "colab": {
          "base_uri": "https://localhost:8080/"
        },
        "id": "sY7ylWlEu4BK",
        "outputId": "ebcac7e9-bedd-4cf6-92e3-07d58cff86d2"
      },
      "outputs": [
        {
          "output_type": "stream",
          "name": "stdout",
          "text": [
            "Epoch 1/20\n",
            "3859/3859 [==============================] - 319s 79ms/step - loss: 0.9007 - accuracy: 0.6892 - val_loss: 0.7715 - val_accuracy: 0.7190\n",
            "Epoch 2/20\n",
            "3859/3859 [==============================] - 298s 77ms/step - loss: 0.7445 - accuracy: 0.7315 - val_loss: 0.6106 - val_accuracy: 0.7753\n",
            "Epoch 3/20\n",
            "3859/3859 [==============================] - 309s 80ms/step - loss: 0.5925 - accuracy: 0.7925 - val_loss: 0.4350 - val_accuracy: 0.8461\n",
            "Epoch 4/20\n",
            "3859/3859 [==============================] - 331s 86ms/step - loss: 0.4592 - accuracy: 0.8466 - val_loss: 0.3112 - val_accuracy: 0.8939\n",
            "Epoch 5/20\n",
            "3859/3859 [==============================] - 317s 82ms/step - loss: 0.3618 - accuracy: 0.8845 - val_loss: 0.2272 - val_accuracy: 0.9268\n",
            "Epoch 6/20\n",
            "3859/3859 [==============================] - 318s 82ms/step - loss: 0.2931 - accuracy: 0.9096 - val_loss: 0.1635 - val_accuracy: 0.9491\n",
            "Epoch 7/20\n",
            "3859/3859 [==============================] - 307s 80ms/step - loss: 0.2487 - accuracy: 0.9261 - val_loss: 0.1508 - val_accuracy: 0.9516\n",
            "Epoch 8/20\n",
            "3859/3859 [==============================] - 299s 77ms/step - loss: 0.2170 - accuracy: 0.9364 - val_loss: 0.1345 - val_accuracy: 0.9595\n",
            "Epoch 9/20\n",
            "3859/3859 [==============================] - 300s 78ms/step - loss: 0.1930 - accuracy: 0.9440 - val_loss: 0.1233 - val_accuracy: 0.9620\n",
            "Epoch 10/20\n",
            "3859/3859 [==============================] - 302s 78ms/step - loss: 0.1810 - accuracy: 0.9477 - val_loss: 0.1038 - val_accuracy: 0.9685\n",
            "Epoch 11/20\n",
            "3859/3859 [==============================] - 299s 77ms/step - loss: 0.1699 - accuracy: 0.9507 - val_loss: 0.0950 - val_accuracy: 0.9697\n",
            "Epoch 12/20\n",
            "3859/3859 [==============================] - 306s 79ms/step - loss: 0.1535 - accuracy: 0.9555 - val_loss: 0.0893 - val_accuracy: 0.9715\n",
            "Epoch 13/20\n",
            "3859/3859 [==============================] - 303s 79ms/step - loss: 0.1441 - accuracy: 0.9581 - val_loss: 0.0822 - val_accuracy: 0.9748\n",
            "Epoch 14/20\n",
            "3859/3859 [==============================] - 309s 80ms/step - loss: 0.1369 - accuracy: 0.9606 - val_loss: 0.0932 - val_accuracy: 0.9707\n",
            "Epoch 15/20\n",
            "3859/3859 [==============================] - 308s 80ms/step - loss: 0.1297 - accuracy: 0.9625 - val_loss: 0.0740 - val_accuracy: 0.9759\n",
            "Epoch 16/20\n",
            "3859/3859 [==============================] - 299s 77ms/step - loss: 0.1257 - accuracy: 0.9641 - val_loss: 0.0865 - val_accuracy: 0.9731\n",
            "Epoch 17/20\n",
            "3859/3859 [==============================] - 302s 78ms/step - loss: 0.1177 - accuracy: 0.9657 - val_loss: 0.0918 - val_accuracy: 0.9736\n",
            "Epoch 18/20\n",
            "3859/3859 [==============================] - 296s 77ms/step - loss: 0.1133 - accuracy: 0.9670 - val_loss: 0.0701 - val_accuracy: 0.9778\n",
            "Epoch 19/20\n",
            "3859/3859 [==============================] - 295s 76ms/step - loss: 0.1091 - accuracy: 0.9686 - val_loss: 0.0715 - val_accuracy: 0.9768\n",
            "Epoch 20/20\n",
            "3859/3859 [==============================] - 295s 76ms/step - loss: 0.1079 - accuracy: 0.9692 - val_loss: 0.0594 - val_accuracy: 0.9812\n"
          ]
        }
      ],
      "source": [
        "import numpy as np\n",
        "import pandas as pd\n",
        "from sklearn.model_selection import train_test_split\n",
        "from sklearn.preprocessing import StandardScaler\n",
        "from tensorflow import keras\n",
        "from tensorflow.keras import layers\n",
        "from sklearn.preprocessing import OneHotEncoder\n",
        "from tensorflow.keras import layers, models, optimizers\n",
        "\n",
        "# Assuming you have X_train_features, X_train_time, y_train as your training data\n",
        "# Similarly, you would have X_test_features, X_test_time, y_test for testing data\n",
        "\n",
        "# Standardize the features\n",
        "scaler_features = StandardScaler()\n",
        "X_train_features = scaler_features.fit_transform(X_train_features)\n",
        "X_test_features = scaler_features.fit_transform(X_val_features)\n",
        "\n",
        "# Standardize the time sequence\n",
        "scaler_time = StandardScaler()\n",
        "X_train_time = scaler_time.fit_transform(X_train_sequence.reshape(-1, 1))\n",
        "X_test_time = scaler_time.fit_transform(X_val_sequence.reshape(-1, 1))\n",
        "\n",
        "\n",
        "def create_bilstm_gru_model_multiclass1(input_shape_features, input_shape_time,num_classes):\n",
        "    features_input = layers.Input(shape=input_shape_features, name='features_input')\n",
        "    time_input = layers.Input(shape=input_shape_time, name='time_input')\n",
        "\n",
        "    # BiLSTM layers with dropout\n",
        "    lstm_out = layers.Bidirectional(layers.LSTM(64, return_sequences=True))(features_input)\n",
        "    lstm_out = layers.Dropout(0.3)(lstm_out)\n",
        "    lstm_out = layers.Bidirectional(layers.LSTM(64, return_sequences=True))(lstm_out)\n",
        "    lstm_out = layers.Dropout(0.3)(lstm_out)\n",
        "\n",
        "    # GRU layers with dropout\n",
        "    gru_out = layers.GRU(32, return_sequences=True)(lstm_out)\n",
        "    gru_out = layers.Dropout(0.3)(gru_out)\n",
        "    gru_out = layers.GRU(32)(gru_out)\n",
        "    gru_out = layers.Dropout(0.3)(gru_out)\n",
        "\n",
        "    # Combining the outputs\n",
        "    combined = layers.concatenate([gru_out, time_input])\n",
        "\n",
        "    # Dense layers with batch normalization and dropout\n",
        "    dense_out = layers.Dense(64, activation='softmax')(combined)\n",
        "    dense_out = layers.BatchNormalization()(dense_out)\n",
        "    dense_out = layers.Dropout(0.3)(dense_out)\n",
        "\n",
        "    dense_out = layers.Dense(32, activation='softmax')(dense_out)\n",
        "    dense_out = layers.BatchNormalization()(dense_out)\n",
        "    dense_out = layers.Dropout(0.3)(dense_out)\n",
        "\n",
        "    # Use 'softmax' activation for multivariable classification with num_classes output neurons\n",
        "    output = layers.Dense(num_classes, activation='softmax', name='output')(dense_out)\n",
        "\n",
        "    # Creating the model\n",
        "    model_combined_gru_lstm = models.Model(inputs=[features_input, time_input], outputs=output)\n",
        "\n",
        "    # Compiling the model\n",
        "    model_combined_gru_lstm.compile(optimizer=optimizers.Adam(learning_rate=0.001),\n",
        "                                    loss='categorical_crossentropy',\n",
        "                                    metrics=['accuracy'])\n",
        "\n",
        "    return model_combined_gru_lstm\n",
        "\n",
        "# Assuming y_train and y_test are categorical labels (one-hot encoded)\n",
        "num_classes = 8\n",
        "\n",
        "# Create and compile the model for multivariable classification\n",
        "model_combined_gru_lstm_multiclass = create_bilstm_gru_model_multiclass1((X_train_features.shape[1], 1), (1,), num_classes)\n",
        "\n",
        "# Initialize OneHotEncoder\n",
        "encoder = OneHotEncoder(sparse_output=False)\n",
        "\n",
        "# Reshape your labels to a 2D array (required by OneHotEncoder)\n",
        "y_train_reshaped = y_train.reshape(-1, 1)\n",
        "y_val_reshaped = y_val.reshape(-1, 1)\n",
        "\n",
        "# Fit and transform the labels\n",
        "y_train_one_hot = encoder.fit_transform(y_train_reshaped)\n",
        "y_test_one_hot = encoder.fit_transform(y_val_reshaped)\n",
        "\n",
        "# Train the model\n",
        "history_model_lstm_gru_combined_multiclass = model_combined_gru_lstm_multiclass.fit(\n",
        "    [X_train_features, X_train_time],\n",
        "    y_train_one_hot,\n",
        "    epochs=20,\n",
        "    batch_size=42,\n",
        "    validation_data=([X_test_features, X_test_time], y_test_one_hot)\n",
        ")\n"
      ]
    },
    {
      "cell_type": "code",
      "execution_count": null,
      "metadata": {
        "colab": {
          "base_uri": "https://localhost:8080/"
        },
        "id": "-Jyg0RNvGVQu",
        "outputId": "c36903dd-9b5a-4327-d30b-d320b1f0259d"
      },
      "outputs": [
        {
          "output_type": "stream",
          "name": "stdout",
          "text": [
            "Model: \"model_1\"\n",
            "__________________________________________________________________________________________________\n",
            " Layer (type)                Output Shape                 Param #   Connected to                  \n",
            "==================================================================================================\n",
            " features_input (InputLayer  [(None, 15, 1)]              0         []                            \n",
            " )                                                                                                \n",
            "                                                                                                  \n",
            " bidirectional_6 (Bidirecti  (None, 15, 128)              33792     ['features_input[0][0]']      \n",
            " onal)                                                                                            \n",
            "                                                                                                  \n",
            " dropout_18 (Dropout)        (None, 15, 128)              0         ['bidirectional_6[0][0]']     \n",
            "                                                                                                  \n",
            " bidirectional_7 (Bidirecti  (None, 15, 128)              98816     ['dropout_18[0][0]']          \n",
            " onal)                                                                                            \n",
            "                                                                                                  \n",
            " dropout_19 (Dropout)        (None, 15, 128)              0         ['bidirectional_7[0][0]']     \n",
            "                                                                                                  \n",
            " gru_6 (GRU)                 (None, 15, 32)               15552     ['dropout_19[0][0]']          \n",
            "                                                                                                  \n",
            " dropout_20 (Dropout)        (None, 15, 32)               0         ['gru_6[0][0]']               \n",
            "                                                                                                  \n",
            " gru_7 (GRU)                 (None, 32)                   6336      ['dropout_20[0][0]']          \n",
            "                                                                                                  \n",
            " dropout_21 (Dropout)        (None, 32)                   0         ['gru_7[0][0]']               \n",
            "                                                                                                  \n",
            " time_input (InputLayer)     [(None, 1)]                  0         []                            \n",
            "                                                                                                  \n",
            " concatenate_3 (Concatenate  (None, 33)                   0         ['dropout_21[0][0]',          \n",
            " )                                                                   'time_input[0][0]']          \n",
            "                                                                                                  \n",
            " dense_6 (Dense)             (None, 64)                   2176      ['concatenate_3[0][0]']       \n",
            "                                                                                                  \n",
            " batch_normalization_6 (Bat  (None, 64)                   256       ['dense_6[0][0]']             \n",
            " chNormalization)                                                                                 \n",
            "                                                                                                  \n",
            " dropout_22 (Dropout)        (None, 64)                   0         ['batch_normalization_6[0][0]'\n",
            "                                                                    ]                             \n",
            "                                                                                                  \n",
            " dense_7 (Dense)             (None, 32)                   2080      ['dropout_22[0][0]']          \n",
            "                                                                                                  \n",
            " batch_normalization_7 (Bat  (None, 32)                   128       ['dense_7[0][0]']             \n",
            " chNormalization)                                                                                 \n",
            "                                                                                                  \n",
            " dropout_23 (Dropout)        (None, 32)                   0         ['batch_normalization_7[0][0]'\n",
            "                                                                    ]                             \n",
            "                                                                                                  \n",
            " output (Dense)              (None, 8)                    264       ['dropout_23[0][0]']          \n",
            "                                                                                                  \n",
            "==================================================================================================\n",
            "Total params: 159400 (622.66 KB)\n",
            "Trainable params: 159208 (621.91 KB)\n",
            "Non-trainable params: 192 (768.00 Byte)\n",
            "__________________________________________________________________________________________________\n"
          ]
        }
      ],
      "source": [
        "model_combined_gru_lstm_multiclass.summary()"
      ]
    },
    {
      "cell_type": "code",
      "execution_count": null,
      "metadata": {
        "colab": {
          "base_uri": "https://localhost:8080/"
        },
        "id": "Vvr0N1_du4BK",
        "outputId": "d4d46409-2758-442b-c5a3-57f4b03b7e1b"
      },
      "outputs": [
        {
          "output_type": "stream",
          "name": "stdout",
          "text": [
            "Final Training Accuracy : 0.9691677093505859\n",
            "Final Validation Accuracy: 0.9812415838241577\n"
          ]
        }
      ],
      "source": [
        "# Print the final training accuracy\n",
        "print(\"Final Training Accuracy :\", history_model_lstm_gru_combined_multiclass.history['accuracy'][-1])\n",
        "# Print the final validation accuracy\n",
        "print(\"Final Validation Accuracy:\", history_model_lstm_gru_combined_multiclass.history['val_accuracy'][-1])"
      ]
    },
    {
      "cell_type": "code",
      "execution_count": null,
      "metadata": {
        "colab": {
          "base_uri": "https://localhost:8080/"
        },
        "id": "omKbv8eqSLC_",
        "outputId": "3bedcf3a-9f54-40cc-bddf-89c5150549ff"
      },
      "outputs": [
        {
          "output_type": "stream",
          "name": "stderr",
          "text": [
            "/usr/local/lib/python3.10/dist-packages/keras/src/engine/training.py:3103: UserWarning: You are saving your model as an HDF5 file via `model.save()`. This file format is considered legacy. We recommend using instead the native Keras format, e.g. `model.save('my_model.keras')`.\n",
            "  saving_api.save_model(\n"
          ]
        }
      ],
      "source": [
        "# Save the model\n",
        "model_name = 'BiLstM_GRRU_combined_FireDistance_Range_new.h5'\n",
        "\n",
        "# Save the model to Google Drive with the custom name\n",
        "model_combined_gru_lstm_multiclass.save(model_directory + model_name)"
      ]
    },
    {
      "cell_type": "markdown",
      "source": [
        "## FINAL RESULTS"
      ],
      "metadata": {
        "id": "YbZe_-9gX6d7"
      }
    },
    {
      "cell_type": "code",
      "source": [
        "import tensorflow as tf\n",
        "from tensorflow.keras.models import load_model\n",
        "from sklearn.metrics import accuracy_score, precision_score, recall_score, f1_score\n",
        "import numpy as np\n",
        "\n",
        "# Load the saved model\n",
        "model = load_model(model_directory + 'BiLstM_GRRU_combined_FireDistance_Range_new.h5')\n",
        "\n",
        "# Make predictions\n",
        "y_pred_proba = model.predict({'features_input': X_test_features,'time_input': X_test_time})\n",
        "\n",
        "y_val_multiclass=y_test_one_hot\n",
        "\n",
        "\n",
        "# Convert predicted probabilities to class labels\n",
        "y_pred = np.argmax(y_pred_proba, axis=1)\n",
        "\n",
        "# Ensure y_val_multiclass is in integer form (not one-hot encoded)\n",
        "if y_val_multiclass.ndim > 1:\n",
        "    y_val_multiclass = np.argmax(y_val_multiclass, axis=1)\n",
        "\n",
        "# Calculate the loss\n",
        "loss_fn = tf.keras.losses.SparseCategoricalCrossentropy()\n",
        "loss = loss_fn(y_val_multiclass, y_pred_proba).numpy()\n",
        "\n",
        "# Calculate the metrics\n",
        "accuracy = accuracy_score(y_val_multiclass, y_pred)\n",
        "precision = precision_score(y_val_multiclass, y_pred, average='weighted')\n",
        "recall = recall_score(y_val_multiclass, y_pred, average='weighted')\n",
        "f1 = f1_score(y_val_multiclass, y_pred, average='weighted')\n",
        "\n",
        "print(f\"Loss: {loss}\")\n",
        "print(f\"Accuracy: {accuracy}\")\n",
        "print(f\"Precision: {precision}\")\n",
        "print(f\"Recall: {recall}\")\n",
        "print(f\"F1-Score: {f1}\")\n",
        "\n"
      ],
      "metadata": {
        "colab": {
          "base_uri": "https://localhost:8080/"
        },
        "outputId": "fce67739-23b1-4091-c470-2aa8f3ec07ae",
        "id": "SiyfdowKX40B"
      },
      "execution_count": null,
      "outputs": [
        {
          "output_type": "stream",
          "name": "stdout",
          "text": [
            "1347/1347 [==============================] - 27s 17ms/step\n",
            "Loss: 0.05943300202488899\n",
            "Accuracy: 0.9812415842503599\n",
            "Precision: 0.9813725328584298\n",
            "Recall: 0.9812415842503599\n",
            "F1-Score: 0.9812755181029196\n"
          ]
        }
      ]
    }
  ],
  "metadata": {
    "colab": {
      "provenance": [],
      "collapsed_sections": [
        "uUZ5jJpHv_qu",
        "hf1ot2ccJOsA",
        "6v2ZB_kDE1kF",
        "wtMOprG0Stzz",
        "DcoSa0eEE7wJ",
        "qTE1uSq8gvM9",
        "dqMFoyXDTduH",
        "sZPyXAUDt16-",
        "B2zcktJ5kkgA",
        "JdDJRRhJW6X1",
        "NPM9Ve2dlNMJ",
        "jBwce6Z6XICy",
        "35ywX2-Bl9KI",
        "gn7JMHSkXTd-",
        "HCe3lUBQm7yd"
      ]
    },
    "kernelspec": {
      "display_name": "Python 3",
      "name": "python3"
    },
    "language_info": {
      "name": "python"
    }
  },
  "nbformat": 4,
  "nbformat_minor": 0
}